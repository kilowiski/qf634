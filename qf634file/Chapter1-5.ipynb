{
 "cells": [
  {
   "cell_type": "code",
   "execution_count": 1,
   "id": "68988123",
   "metadata": {},
   "outputs": [],
   "source": [
    "import numpy as np\n",
    "import pandas as pd\n",
    "import matplotlib.pyplot as plt"
   ]
  },
  {
   "cell_type": "code",
   "execution_count": 2,
   "id": "27b42d89",
   "metadata": {},
   "outputs": [],
   "source": [
    "### We can import the data set. The dataframe name is now df\n",
    "dftech = pd.read_csv('ret_porttech.csv',index_col=[0]) ### index_col=[0] removes default unnamed index column\n",
    "dfecom = pd.read_csv('ret_portecom.csv',index_col=[0])\n",
    "dffood = pd.read_csv('ret_portfood.csv',index_col=[0])"
   ]
  },
  {
   "cell_type": "code",
   "execution_count": 3,
   "id": "f2028bcc",
   "metadata": {},
   "outputs": [],
   "source": [
    "dfmerge = pd.merge(dftech,dfecom, on = ['day', 'month','year'])\n",
    "dfmerge.columns=['BroadR','IntelR','MicroCR','MicronR','QualR','SamR','SKR','SMICR','day','month',\n",
    "                 'year','AliR','AmazR','EbayR','RakR','SunR','WayR','ZalR','JDR'] ### Rename the columns\n",
    "dfmerge = pd.merge(dfmerge,dffood, on = ['day', 'month','year'])"
   ]
  },
  {
   "cell_type": "code",
   "execution_count": 4,
   "id": "4c16c466",
   "metadata": {},
   "outputs": [],
   "source": [
    "trainingset = dfmerge[(dfmerge['year']<2021)]\n",
    "testset = dfmerge[(dfmerge['year']==2021)]\n",
    "testset = testset.iloc[0:111,:] ### choose only the first half year of test set"
   ]
  },
  {
   "cell_type": "code",
   "execution_count": 5,
   "id": "55e13b0f",
   "metadata": {},
   "outputs": [],
   "source": [
    "### Now delete columns day, month, year; but before that keep day, month, year separately for later concatenation\n",
    "dytrain=trainingset[\"day\"]\n",
    "mthtrain=trainingset[\"month\"]\n",
    "yrtrain=trainingset[\"year\"]\n",
    "del(trainingset['day'],trainingset['month'],trainingset['year'])\n",
    "dytest=testset[\"day\"]\n",
    "mthtest=testset[\"month\"]\n",
    "yrtest=testset[\"year\"]\n",
    "del(testset['day'],testset['month'],testset['year'])"
   ]
  },
  {
   "cell_type": "code",
   "execution_count": 6,
   "id": "c0cfaea0",
   "metadata": {},
   "outputs": [
    {
     "name": "stdout",
     "output_type": "stream",
     "text": [
      "             BroadR    IntelR   MicroCR   MicronR     QualR      SamR  \\\n",
      "BroadR     1.000000  0.561325  0.677492  0.600893  0.577452  0.118570   \n",
      "IntelR     0.561325  1.000000  0.648618  0.592514  0.524100  0.066441   \n",
      "MicroCR    0.677492  0.648618  1.000000  0.698010  0.547158  0.148455   \n",
      "MicronR    0.600893  0.592514  0.698010  1.000000  0.506498  0.183777   \n",
      "QualR      0.577452  0.524100  0.547158  0.506498  1.000000  0.036172   \n",
      "SamR       0.118570  0.066441  0.148455  0.183777  0.036172  1.000000   \n",
      "SKR        0.154193  0.125854  0.193805  0.288913  0.078379  0.664308   \n",
      "SMICR      0.129260  0.128111  0.153104  0.133455  0.112965  0.205982   \n",
      "AliR       0.451022  0.422234  0.459626  0.464008  0.378726  0.102266   \n",
      "AmazR      0.457432  0.461590  0.474770  0.459800  0.420567  0.043948   \n",
      "EbayR      0.344139  0.337060  0.362459  0.348141  0.329855  0.129263   \n",
      "RakR       0.204374  0.204482  0.214038  0.176992  0.159640  0.073963   \n",
      "SunR       0.068138  0.126211  0.072906  0.060603  0.098353  0.140567   \n",
      "WayR       0.335164  0.330411  0.353149  0.310559  0.297961  0.110746   \n",
      "ZalR       0.212444  0.157465  0.229292  0.130900  0.172952  0.133079   \n",
      "JDR        0.429370  0.417395  0.462573  0.450777  0.382273  0.091784   \n",
      "TysonR     0.349556  0.280508  0.368008  0.294978  0.296703 -0.003694   \n",
      "PepsicoR   0.437286  0.498988  0.445458  0.336244  0.412696  0.015879   \n",
      "NestleR    0.384236  0.355601  0.356830  0.260205  0.335555  0.078861   \n",
      "MondelezR  0.438825  0.469490  0.462219  0.373004  0.402430  0.105005   \n",
      "KweichowR  0.125213  0.123111  0.160142  0.129804  0.135653  0.182839   \n",
      "DiageoR    0.451114  0.342521  0.410471  0.330192  0.334621  0.170185   \n",
      "DanoneR    0.180665  0.204580  0.192334  0.143429  0.163868  0.089801   \n",
      "AnheuserR  0.412797  0.332899  0.476082  0.364760  0.315863  0.136148   \n",
      "\n",
      "                SKR     SMICR      AliR     AmazR  ...      ZalR       JDR  \\\n",
      "BroadR     0.154193  0.129260  0.451022  0.457432  ...  0.212444  0.429370   \n",
      "IntelR     0.125854  0.128111  0.422234  0.461590  ...  0.157465  0.417395   \n",
      "MicroCR    0.193805  0.153104  0.459626  0.474770  ...  0.229292  0.462573   \n",
      "MicronR    0.288913  0.133455  0.464008  0.459800  ...  0.130900  0.450777   \n",
      "QualR      0.078379  0.112965  0.378726  0.420567  ...  0.172952  0.382273   \n",
      "SamR       0.664308  0.205982  0.102266  0.043948  ...  0.133079  0.091784   \n",
      "SKR        1.000000  0.198954  0.121169  0.041873  ...  0.128107  0.088973   \n",
      "SMICR      0.198954  1.000000  0.228224  0.121941  ...  0.087157  0.175451   \n",
      "AliR       0.121169  0.228224  1.000000  0.554418  ...  0.218563  0.678288   \n",
      "AmazR      0.041873  0.121941  0.554418  1.000000  ...  0.228125  0.522016   \n",
      "EbayR      0.101437  0.094876  0.354285  0.394647  ...  0.240472  0.336265   \n",
      "RakR       0.057836  0.109445  0.257267  0.218377  ...  0.184594  0.224405   \n",
      "SunR       0.140399  0.253996  0.160171  0.061826  ...  0.098124  0.102170   \n",
      "WayR       0.140616  0.159254  0.323738  0.360932  ...  0.312955  0.310640   \n",
      "ZalR       0.128107  0.087157  0.218563  0.228125  ...  1.000000  0.239351   \n",
      "JDR        0.088973  0.175451  0.678288  0.522016  ...  0.239351  1.000000   \n",
      "TysonR     0.035880  0.063295  0.185015  0.208272  ...  0.109799  0.179842   \n",
      "PepsicoR   0.072082  0.077796  0.212934  0.338455  ...  0.151676  0.271299   \n",
      "NestleR    0.120313  0.060310  0.250090  0.298247  ...  0.190295  0.270056   \n",
      "MondelezR  0.138381  0.082382  0.262655  0.351164  ...  0.146722  0.286807   \n",
      "KweichowR  0.166856  0.269252  0.210018  0.151647  ...  0.113302  0.171311   \n",
      "DiageoR    0.176963  0.100813  0.260502  0.245796  ...  0.186387  0.205392   \n",
      "DanoneR    0.089635  0.052865  0.171016  0.199921  ...  0.222845  0.149940   \n",
      "AnheuserR  0.139117  0.171379  0.284139  0.239313  ...  0.200902  0.277039   \n",
      "\n",
      "             TysonR  PepsicoR   NestleR  MondelezR  KweichowR   DiageoR  \\\n",
      "BroadR     0.349556  0.437286  0.384236   0.438825   0.125213  0.451114   \n",
      "IntelR     0.280508  0.498988  0.355601   0.469490   0.123111  0.342521   \n",
      "MicroCR    0.368008  0.445458  0.356830   0.462219   0.160142  0.410471   \n",
      "MicronR    0.294978  0.336244  0.260205   0.373004   0.129804  0.330192   \n",
      "QualR      0.296703  0.412696  0.335555   0.402430   0.135653  0.334621   \n",
      "SamR      -0.003694  0.015879  0.078861   0.105005   0.182839  0.170185   \n",
      "SKR        0.035880  0.072082  0.120313   0.138381   0.166856  0.176963   \n",
      "SMICR      0.063295  0.077796  0.060310   0.082382   0.269252  0.100813   \n",
      "AliR       0.185015  0.212934  0.250090   0.262655   0.210018  0.260502   \n",
      "AmazR      0.208272  0.338455  0.298247   0.351164   0.151647  0.245796   \n",
      "EbayR      0.151176  0.328683  0.269898   0.363192   0.102555  0.271203   \n",
      "RakR       0.203921  0.249991  0.211569   0.222424   0.128144  0.228370   \n",
      "SunR      -0.019436  0.002318  0.008343  -0.002069   0.308709  0.049821   \n",
      "WayR       0.113691  0.274278  0.248299   0.251127   0.105413  0.246924   \n",
      "ZalR       0.109799  0.151676  0.190295   0.146722   0.113302  0.186387   \n",
      "JDR        0.179842  0.271299  0.270056   0.286807   0.171311  0.205392   \n",
      "TysonR     1.000000  0.358850  0.285824   0.391410   0.054053  0.407558   \n",
      "PepsicoR   0.358850  1.000000  0.550189   0.736609   0.069774  0.516653   \n",
      "NestleR    0.285824  0.550189  1.000000   0.519914   0.073529  0.498313   \n",
      "MondelezR  0.391410  0.736609  0.519914   1.000000   0.070307  0.525736   \n",
      "KweichowR  0.054053  0.069774  0.073529   0.070307   1.000000  0.155930   \n",
      "DiageoR    0.407558  0.516653  0.498313   0.525736   0.155930  1.000000   \n",
      "DanoneR    0.229786  0.328998  0.457583   0.330312   0.073547  0.411889   \n",
      "AnheuserR  0.475884  0.385644  0.337024   0.415374   0.150571  0.588416   \n",
      "\n",
      "            DanoneR  AnheuserR  \n",
      "BroadR     0.180665   0.412797  \n",
      "IntelR     0.204580   0.332899  \n",
      "MicroCR    0.192334   0.476082  \n",
      "MicronR    0.143429   0.364760  \n",
      "QualR      0.163868   0.315863  \n",
      "SamR       0.089801   0.136148  \n",
      "SKR        0.089635   0.139117  \n",
      "SMICR      0.052865   0.171379  \n",
      "AliR       0.171016   0.284139  \n",
      "AmazR      0.199921   0.239313  \n",
      "EbayR      0.163925   0.208205  \n",
      "RakR       0.199490   0.251164  \n",
      "SunR       0.021985   0.042404  \n",
      "WayR       0.095996   0.188870  \n",
      "ZalR       0.222845   0.200902  \n",
      "JDR        0.149940   0.277039  \n",
      "TysonR     0.229786   0.475884  \n",
      "PepsicoR   0.328998   0.385644  \n",
      "NestleR    0.457583   0.337024  \n",
      "MondelezR  0.330312   0.415374  \n",
      "KweichowR  0.073547   0.150571  \n",
      "DiageoR    0.411889   0.588416  \n",
      "DanoneR    1.000000   0.328458  \n",
      "AnheuserR  0.328458   1.000000  \n",
      "\n",
      "[24 rows x 24 columns]\n"
     ]
    }
   ],
   "source": [
    "# Finding the simple correlation matrix from a series of returns\n",
    "corr_matrix = trainingset.corr()\n",
    "print(corr_matrix)"
   ]
  },
  {
   "cell_type": "code",
   "execution_count": 7,
   "id": "7cc310a3",
   "metadata": {},
   "outputs": [],
   "source": [
    "### Create a principal component analysis (PCA) plot for the first two dimensions.\n",
    "def getPCA(matrix):\n",
    "    eVal,eVec=np.linalg.eigh(matrix) ### ..eigh(x) -- x is  real symmetric or complex Hermitian (conjugate symmetric) array. \n",
    "       ### Returns two objects, a 1-D array eVal =eigenvalues of matrix - eigenvalues with multiplicity, may not be ordered.\n",
    "       ### and a 2-D square matrix, column v[:, i] is the normalized eigenvector corresponding to the eigenvalue w[i]. \n",
    "    indices=eVal.argsort() ### Returns the indices that would sort an array. -1 refers to the last axis\n",
    "    eVal,eVec=eVal[indices],eVec[:,indices]\n",
    "    eVal=np.diagflat(eVal) ### Create a two-dimensional array with the flattened (changing to 1dim) input eVal as a diagonal.\n",
    "    return eVal,eVec"
   ]
  },
  {
   "cell_type": "code",
   "execution_count": 8,
   "id": "3ed23911",
   "metadata": {},
   "outputs": [],
   "source": [
    "eVal0,eVec0=getPCA(corr_matrix)"
   ]
  },
  {
   "cell_type": "code",
   "execution_count": 9,
   "id": "8163eda3",
   "metadata": {},
   "outputs": [
    {
     "name": "stdout",
     "output_type": "stream",
     "text": [
      "[0.23777545 0.24830976 0.29134883 0.30236206 0.35499693 0.36322877\n",
      " 0.38419966 0.44332669 0.46659641 0.535817   0.55524774 0.61387326\n",
      " 0.61922829 0.64157765 0.72200588 0.78494843 0.83230546 0.88442046\n",
      " 0.97049917 1.18529588 1.317256   1.77494235 2.04324288 7.42719501]\n"
     ]
    }
   ],
   "source": [
    "eigenvalues=np.diagonal(eVal0) ### creates a list of the diagonal elements in original\n",
    "print(eigenvalues)"
   ]
  },
  {
   "cell_type": "code",
   "execution_count": 10,
   "id": "6b25040f",
   "metadata": {},
   "outputs": [
    {
     "data": {
      "image/png": "[encoded data removed]",
      "text/plain": [
       "<Figure size 640x480 with 1 Axes>"
      ]
     },
     "metadata": {},
     "output_type": "display_data"
    }
   ],
   "source": [
    "import matplotlib.pyplot as plt\n",
    "\n",
    "plt.hist(eigenvalues, bins = 12)\n",
    "plt.show()\n",
    "### This is empirical pdf -- note this is just approx since N, T are not large -- it is approx to Marcenko-Pastur Theorem"
   ]
  },
  {
   "cell_type": "code",
   "execution_count": 11,
   "id": "f3eac94a",
   "metadata": {},
   "outputs": [
    {
     "name": "stderr",
     "output_type": "stream",
     "text": [
      "C:\\Users\\kglim\\Anaconda3\\lib\\site-packages\\scipy\\__init__.py:155: UserWarning: A NumPy version >=1.18.5 and <1.25.0 is required for this version of SciPy (detected version 1.26.1\n",
      "  warnings.warn(f\"A NumPy version >={np_minversion} and <{np_maxversion}\"\n"
     ]
    }
   ],
   "source": [
    "from sklearn.neighbors import KernelDensity\n",
    "def fitKDE(obs,bWidth=.25,kernel='gaussian',x=None):\n",
    "    if len(obs.shape)==1: obs=obs.reshape(-1,1)\n",
    "    kde=KernelDensity(kernel=kernel,bandwidth=bWidth).fit(obs)\n",
    "    if x is None:x=np.unique(obs).reshape(-1,1)    \n",
    "    if len(x.shape)==1: x=x.reshape(-1,1)\n",
    "    logProb=kde.score_samples(x)\n",
    "    pdf=pd.Series(np.exp(logProb),index=x.flatten())\n",
    "    return pdf"
   ]
  },
  {
   "cell_type": "code",
   "execution_count": 12,
   "id": "02bcb9e0",
   "metadata": {},
   "outputs": [],
   "source": [
    "pdf1=fitKDE(eigenvalues,bWidth=.08) ### bandwidth is increased to smoothen the pdf curve"
   ]
  },
  {
   "cell_type": "code",
   "execution_count": 13,
   "id": "696f58d3",
   "metadata": {},
   "outputs": [
    {
     "data": {
      "image/png": "[encoded data removed]",
      "text/plain": [
       "<Figure size 640x480 with 1 Axes>"
      ]
     },
     "metadata": {},
     "output_type": "display_data"
    }
   ],
   "source": [
    "import seaborn as sns\n",
    "fig, ax = plt.subplots()\n",
    "ax = sns.lineplot(x=eigenvalues, y=pdf1, ax=ax) ### prints empirical pdf\n",
    "ax.set_title('PDF of Stock Return Correlation Matrix Eigenvalues')\n",
    "ax.set_xlabel('Eigenvalue')\n",
    "ax.set_ylabel('Empirical Probability Density')\n",
    "plt.show()"
   ]
  },
  {
   "cell_type": "code",
   "execution_count": 14,
   "id": "4e347f48",
   "metadata": {},
   "outputs": [
    {
     "name": "stdout",
     "output_type": "stream",
     "text": [
      "[0.23777545 0.24830976 0.29134883 0.30236206 0.35499693 0.36322877\n",
      " 0.38419966 0.44332669 0.46659641 0.535817   0.55524774 0.61387326\n",
      " 0.61922829 0.64157765 0.72200588 0.78494843 0.83230546 0.88442046\n",
      " 0.97049917 1.18529588 1.317256   1.77494235 2.04324288 7.42719501]\n"
     ]
    }
   ],
   "source": [
    "print(eigenvalues) \n",
    "### single array, print(eigenvalue.shape) gives (24,). It is in increasing order\n",
    "### eigenvalues[20:] gives eigenvalues above list order 20. eigenvalues[:20] gives eigenvalues up to list order 20"
   ]
  },
  {
   "cell_type": "code",
   "execution_count": 15,
   "id": "c6fdb400",
   "metadata": {},
   "outputs": [],
   "source": [
    "### The 21st to 24th elements on the eigenvalue list are above 1.3\n",
    "### The constant residual eigenvalue method is applied to average as constant all eigenvalues below 1.3 \n",
    "### -- or even nullify as they could be just from noises\n",
    "\n",
    "small=20 ### eigenvalues elements up to order 20 are all below 1.3\n",
    "neweig=eigenvalues.copy()   ### rather similar without .copy()\n",
    "neweig[:small]=eigenvalues[:small].sum()/small\n",
    "eigenvalues1=np.diagflat(neweig) ### this is diag 24x24 matrix with same constant in first 20 diagonals\n",
    "corr1=np.dot(eVec0,eigenvalues1).dot(eVec0.T) ### eVec.T is transpose of eVec\n",
    "dd=np.diag(corr1) ## after constant residual eigenvalue adjustment, corr1 is not necessarily a corr matrix\n",
    "                  ## need to readjust its diag to ones\n",
    "corr2=corr1/dd ### divides ith column of corr1 by ith element in list dd, same effect as corr1 .dot(np.diagflat(1/dd))"
   ]
  },
  {
   "cell_type": "code",
   "execution_count": 16,
   "id": "927e91e0",
   "metadata": {},
   "outputs": [],
   "source": [
    "### Now we use corr2 as denoised correlation matrix of the 24 stock returns"
   ]
  },
  {
   "cell_type": "code",
   "execution_count": 17,
   "id": "84dd1731",
   "metadata": {},
   "outputs": [
    {
     "name": "stdout",
     "output_type": "stream",
     "text": [
      "(24, 24)\n",
      "[[ 1.          0.49857953  0.49873607  0.48473558  0.49346076  0.1226159\n",
      "   0.16073357  0.15311462  0.41277452  0.44554364  0.43965816  0.25836237\n",
      "   0.05458851  0.40273512  0.24756209  0.42405994  0.37527365  0.40598745\n",
      "   0.36580369  0.41896036  0.13864184  0.36466083  0.22551009  0.39763673]\n",
      " [ 0.48091999  1.          0.47856167  0.46416978  0.4786616   0.0905861\n",
      "   0.12688135  0.14124619  0.4094537   0.44224509  0.42925704  0.25285617\n",
      "   0.05214942  0.39480969  0.24171396  0.42129248  0.35269875  0.38500814\n",
      "   0.34443837  0.39467797  0.1296579   0.33663365  0.20717963  0.37032777]\n",
      " [ 0.52468335  0.52194654  1.          0.51547899  0.51543065  0.15396652\n",
      "   0.19350973  0.17773176  0.4370898   0.46522481  0.45948985  0.26372797\n",
      "   0.07301545  0.42476994  0.25929964  0.44717495  0.38056126  0.411859\n",
      "   0.3703345   0.428414    0.15971507  0.37418381  0.22262427  0.41085235]\n",
      " [ 0.49219022  0.48861474  0.4975223   1.          0.48076811  0.18638751\n",
      "   0.22605923  0.1780527   0.4138493   0.42954234  0.4158438   0.19357087\n",
      "   0.07631101  0.3901831   0.20787534  0.42201285  0.30900412  0.33422695\n",
      "   0.28702176  0.35712374  0.15019041  0.30120894  0.13389744  0.34330879]\n",
      " [ 0.44411294  0.44661263  0.44094512  0.42613614  1.          0.06183172\n",
      "   0.09567361  0.11944997  0.38150751  0.41482147  0.39873172  0.23456978\n",
      "   0.04000206  0.36577058  0.22180194  0.39371153  0.32517856  0.35632842\n",
      "   0.31695668  0.36310236  0.11031766  0.30506672  0.18819665  0.33656662]\n",
      " [ 0.11567858  0.08859911  0.1380721   0.17317886  0.06481517  1.\n",
      "   0.46773932  0.30946538  0.08387459  0.01295124  0.07863168  0.05579738\n",
      "   0.24341526  0.11035688  0.12010401  0.05679884  0.04457653  0.03262512\n",
      "   0.06410583  0.07880222  0.276223    0.15308422  0.07179185  0.16364267]\n",
      " [ 0.15413864  0.12614334  0.17639296  0.21350059  0.10194273  0.4754476\n",
      "   1.          0.29584105  0.09863586  0.03542773  0.09967857  0.04941887\n",
      "   0.21820112  0.12371913  0.11136009  0.07460447  0.07458573  0.06178597\n",
      "   0.08443633  0.10995034  0.258048    0.17512158  0.07409851  0.18746222]\n",
      " [ 0.10949631  0.10471796  0.12081514  0.12540167  0.09491352  0.2345788\n",
      "   0.22061566  1.          0.20206229  0.14036341  0.16100325  0.18611865\n",
      "   0.28920198  0.20383696  0.23071048  0.17928212  0.02217072  0.04057454\n",
      "   0.076673    0.05697801  0.30222321  0.10240659  0.09552737  0.12173836]\n",
      " [ 0.39489676  0.40610384  0.39747961  0.38992837  0.40553932  0.08505404\n",
      "   0.09840125  0.27031685  1.          0.46213406  0.42736785  0.30818213\n",
      "   0.23160548  0.44047683  0.33080277  0.47497734  0.19820464  0.24607937\n",
      "   0.23181403  0.2504322   0.27332477  0.21099377  0.13776504  0.258616  ]\n",
      " [ 0.4118986   0.42386221  0.40882405  0.39109113  0.4261088   0.01269128\n",
      "   0.03415375  0.18145592  0.44657803  1.          0.42318447  0.29136558\n",
      "   0.13516913  0.41441645  0.29063029  0.45305812  0.25346376  0.29882171\n",
      "   0.27173363  0.2972457   0.18582778  0.240591    0.16248236  0.28136646]\n",
      " [ 0.33119405  0.33523274  0.32901583  0.30851021  0.33373931  0.06278542\n",
      "   0.07830045  0.16959739  0.33651044  0.34482364  1.          0.25661376\n",
      "   0.12234818  0.32721295  0.25210354  0.33865628  0.23944504  0.27244005\n",
      "   0.26128474  0.27472252  0.17328122  0.24755657  0.18818817  0.27324343]\n",
      " [ 0.18207108  0.18473402  0.17666129  0.13434566  0.183672    0.0416792\n",
      "   0.03631613  0.18340821  0.22701182  0.22210068  0.24006247  1.\n",
      "   0.1686419   0.24403106  0.27517478  0.22017008  0.19003515  0.22085617\n",
      "   0.24761286  0.21421126  0.20696808  0.23093516  0.25332516  0.23684819]\n",
      " [ 0.03905221  0.03867723  0.04965152  0.05376547  0.03179698  0.18458056\n",
      "   0.16277824  0.28930952  0.17318985  0.10459761  0.11619152  0.17119776\n",
      "   1.          0.16931039  0.21820888  0.14864299 -0.04493266 -0.02502002\n",
      "   0.01756014 -0.01462895  0.29736392  0.03347927  0.05707526  0.05181522]\n",
      " [ 0.29981727  0.3047099   0.300583    0.28607343  0.30255554  0.08708241\n",
      "   0.09604374  0.21219602  0.34275952  0.33371372  0.32337039  0.25779265\n",
      "   0.17618805  1.          0.26692823  0.33952346  0.18770282  0.22215405\n",
      "   0.2193852   0.22601684  0.21683893  0.20860388  0.16019046  0.23774073]\n",
      " [ 0.16943407  0.17150625  0.16869104  0.14011721  0.16867128  0.08713005\n",
      "   0.07947696  0.22080103  0.23665465  0.21515795  0.22904887  0.26724743\n",
      "   0.20875876  0.24539967  1.          0.22558447  0.1394718   0.16898152\n",
      "   0.19682119  0.16797228  0.23863667  0.18897974  0.20253111  0.20114096]\n",
      " [ 0.39356026  0.40534919  0.39448905  0.38572837  0.40599559  0.05587497\n",
      "   0.07220112  0.23266879  0.46077211  0.4548182   0.4172302   0.28995499\n",
      "   0.19283423  0.42326917  0.30589795  1.          0.2061732   0.25233671\n",
      "   0.23205511  0.25474072  0.23520967  0.20763058  0.1316814   0.25336657]\n",
      " [ 0.29115813  0.28369154  0.28065896  0.23611144  0.28032507  0.03665903\n",
      "   0.06034366  0.02405348  0.16074     0.21271428  0.2466149   0.20921994\n",
      "  -0.04873025  0.19562056  0.15810683  0.17235706  1.          0.36918959\n",
      "   0.35824758  0.36901254  0.02789486  0.35453007  0.30196728  0.34854074]\n",
      " [ 0.39617639  0.38950004  0.3820305   0.32121023  0.3863542   0.03374598\n",
      "   0.06287253  0.05536646  0.25100392  0.31541915  0.35292266  0.30582558\n",
      "  -0.03412867  0.29120115  0.24093428  0.26532149  0.46434907  1.\n",
      "   0.47523149  0.48515281  0.06441691  0.46326725  0.40061979  0.45967366]\n",
      " [ 0.32832388  0.32049963  0.3159527   0.25371207  0.316092    0.0609882\n",
      "   0.0790276   0.09623078  0.21748205  0.26381392  0.31131572  0.31536673\n",
      "   0.0220312   0.26449932  0.25811286  0.22441999  0.41443537  0.43710284\n",
      "   1.          0.43439973  0.11073443  0.43620548  0.40399243  0.42840843]\n",
      " [ 0.40965514  0.40008288  0.39818292  0.34390311  0.39448796  0.08167287\n",
      "   0.11210814  0.07790582  0.25595579  0.3143844   0.35659263  0.29721865\n",
      "  -0.01999467  0.29685825  0.23997526  0.268386    0.46505654  0.4861251\n",
      "   0.47323911  1.          0.08132936  0.47138583  0.39440144  0.46964876]\n",
      " [ 0.10128096  0.09819606  0.11090545  0.10805568  0.08954425  0.21388837\n",
      "   0.19657535  0.30872974  0.2087093   0.14683989  0.16804191  0.21454834\n",
      "   0.30365291  0.21278136  0.25471473  0.18514188  0.02626496  0.04822335\n",
      "   0.09012842  0.06076246  1.          0.10949994  0.11897957  0.12722438]\n",
      " [ 0.35386177  0.33865982  0.34514614  0.28786198  0.32892627  0.15745947\n",
      "   0.17720635  0.13895994  0.21401464  0.25253631  0.31889785  0.31799689\n",
      "   0.04541258  0.27191287  0.26794346  0.21709602  0.44342151  0.46068083\n",
      "   0.4716081   0.46781654  0.14545375  1.          0.43261683  0.47570275]\n",
      " [ 0.18366978  0.17493649  0.17235257  0.10740288  0.17031105  0.06197845\n",
      "   0.06293269  0.10879695  0.11728436  0.14314556  0.20346826  0.29277795\n",
      "   0.06497934  0.17525534  0.24101656  0.11556124  0.31699381  0.33437066\n",
      "   0.36659841  0.32852223  0.13265104  0.36310366  1.          0.34432326]\n",
      " [ 0.34529412  0.33338847  0.33912668  0.29360235  0.32473786  0.15062362\n",
      "   0.16975068  0.1478248   0.23474015  0.26428648  0.31498149  0.2918509\n",
      "   0.06289494  0.27731229  0.25520348  0.23706531  0.3900995   0.40904993\n",
      "   0.4144826   0.41709059  0.15123055  0.42569037  0.36711092  1.        ]]\n"
     ]
    }
   ],
   "source": [
    "print(corr2.shape)\n",
    "print(corr2)"
   ]
  },
  {
   "cell_type": "code",
   "execution_count": 18,
   "id": "bd760520",
   "metadata": {},
   "outputs": [
    {
     "name": "stdout",
     "output_type": "stream",
     "text": [
      "BroadR       0.024089\n",
      "IntelR       0.023111\n",
      "MicroCR      0.026355\n",
      "MicronR      0.030768\n",
      "QualR        0.025415\n",
      "SamR         0.017472\n",
      "SKR          0.023599\n",
      "SMICR        0.035990\n",
      "AliR         0.022421\n",
      "AmazR        0.020011\n",
      "EbayR        0.018804\n",
      "RakR         0.021795\n",
      "SunR         0.020323\n",
      "WayR         0.048417\n",
      "ZalR         0.025410\n",
      "JDR          0.026660\n",
      "TysonR       0.021226\n",
      "PepsicoR     0.014445\n",
      "NestleR      0.011154\n",
      "MondelezR    0.014640\n",
      "KweichowR    0.019680\n",
      "DiageoR      0.014818\n",
      "DanoneR      0.013318\n",
      "AnheuserR    0.020728\n",
      "dtype: float64\n"
     ]
    }
   ],
   "source": [
    "### corr2 is transformed back to corresponding covariance matrix using original variances\n",
    "var = trainingset.var()\n",
    "sd = np.sqrt(var)  ### here output comes from pandas -- dataframe, so some numpy commands may not work as they are not arrays\n",
    "                   ### such as np.diagflat()\n",
    "print(sd)"
   ]
  },
  {
   "cell_type": "code",
   "execution_count": 19,
   "id": "54409673",
   "metadata": {},
   "outputs": [],
   "source": [
    "sd1=sd.to_numpy()  ### now sd1 is array"
   ]
  },
  {
   "cell_type": "code",
   "execution_count": 20,
   "id": "9ae8693c",
   "metadata": {},
   "outputs": [],
   "source": [
    "sd2=np.diagflat(sd1) ### sd2 is 24 x 24 diagonal matrix with diagonal as std devs"
   ]
  },
  {
   "cell_type": "code",
   "execution_count": 21,
   "id": "b2a818e1",
   "metadata": {},
   "outputs": [
    {
     "name": "stdout",
     "output_type": "stream",
     "text": [
      "(24, 24)\n",
      "[[ 5.80287843e-04  2.77572553e-04  3.16631186e-04  3.59278326e-04\n",
      "   3.02111098e-04  5.16086805e-05  9.13727412e-05  1.32744116e-04\n",
      "   2.22936264e-04  2.14775034e-04  1.99151417e-04  1.35645417e-04\n",
      "   2.67243808e-05  4.69716335e-04  1.51534375e-04  2.72340658e-04\n",
      "   1.91885616e-04  1.41265867e-04  9.82899325e-05  1.47752301e-04\n",
      "   6.57260782e-05  1.30170719e-04  7.23460023e-05  1.98547614e-04]\n",
      " [ 2.67741014e-04  5.34122258e-04  2.91487153e-04  3.30066606e-04\n",
      "   2.81152041e-04  3.65793629e-05  6.92000545e-05  1.17482715e-04\n",
      "   2.12163777e-04  2.04529129e-04  1.86545291e-04  1.27364391e-04\n",
      "   2.44937026e-05  4.41776459e-04  1.41947368e-04  2.59577798e-04\n",
      "   1.73020222e-04  1.28526635e-04  8.87914364e-05  1.33537364e-04\n",
      "   5.89713360e-05  1.15286994e-04  6.37667418e-05  1.77403858e-04]\n",
      " [ 3.33104262e-04  3.17912449e-04  6.94580112e-04  4.18000233e-04\n",
      "   3.45242083e-04  7.08992579e-05  1.20351722e-04  1.68578856e-04\n",
      "   2.58272368e-04  2.45355530e-04  2.27710793e-04  1.51485653e-04\n",
      "   3.91075462e-05  5.42012587e-04  1.73647431e-04  3.14197075e-04\n",
      "   2.12891515e-04  1.56787929e-04  1.08866575e-04  1.65296787e-04\n",
      "   8.28378306e-05  1.46133105e-04  7.81376814e-05  2.24441617e-04]\n",
      " [ 3.64803587e-04  3.47449174e-04  4.03439209e-04  9.46692125e-04\n",
      "   3.75951958e-04  1.00201773e-04  1.64140195e-04  1.97165005e-04\n",
      "   2.85491187e-04  2.64473506e-04  2.40591977e-04  1.29807121e-04\n",
      "   4.77173437e-05  5.81255752e-04  1.62522176e-04  3.46173291e-04\n",
      "   2.01809337e-04  1.48541820e-04  9.85050310e-05  1.60865413e-04\n",
      "   9.09427851e-05  1.37332930e-04  5.48660245e-05  2.18950404e-04]\n",
      " [ 2.71898919e-04  2.62327401e-04  2.95350717e-04  3.33230750e-04\n",
      "   6.45928777e-04  2.74573023e-05  5.73816164e-05  1.09258510e-04\n",
      "   2.17390972e-04  2.10972262e-04  1.90554681e-04  1.29932714e-04\n",
      "   2.06613822e-05  4.50086015e-04  1.43239547e-04  2.66768128e-04\n",
      "   1.75423118e-04  1.30811422e-04  8.98527635e-05  1.35101750e-04\n",
      "   5.51771159e-05  1.14891948e-04  6.36987680e-05  1.77304516e-04]\n",
      " [ 4.86887811e-05  3.57769982e-05  6.35801189e-05  9.31008129e-05\n",
      "   2.87821486e-05  3.05287099e-04  1.92861893e-04  1.94600160e-04\n",
      "   3.28572141e-05  4.52832441e-06  2.58343959e-05  2.12482026e-05\n",
      "   8.64344122e-05  9.33572567e-05  5.33232975e-05  2.64580098e-05\n",
      "   1.65322945e-05  8.23396995e-06  1.24936972e-05  2.01572964e-05\n",
      "   9.49807772e-05  3.96357509e-05  1.67053738e-05  5.92662197e-05]\n",
      " [ 8.76236989e-05  6.87975512e-05  1.09706089e-04  1.55021449e-04\n",
      "   6.11416148e-05  1.96040231e-04  5.56899261e-04  2.51260170e-04\n",
      "   5.21878321e-05  1.67302874e-05  4.42320048e-05  2.54176403e-05\n",
      "   1.04647764e-04  1.41357740e-04  6.67764283e-05  4.69371458e-05\n",
      "   3.73608451e-05  2.10611019e-05  2.22257739e-05  3.79860816e-05\n",
      "   1.19842393e-04  6.12393307e-05  2.32875955e-05  9.16977165e-05]\n",
      " [ 9.49288280e-05  8.71000545e-05  1.14593357e-04  1.38862376e-04\n",
      "   8.68155078e-05  1.47509464e-04  1.87370648e-04  1.29525058e-03\n",
      "   1.63045293e-04  1.01088700e-04  1.08957731e-04  1.45989269e-04\n",
      "   2.11525537e-04  3.55184709e-04  2.10983989e-04  1.72019380e-04\n",
      "   1.69367227e-05  2.10927586e-05  3.07792867e-05  3.00209027e-05\n",
      "   2.14055487e-04  5.46144121e-05  4.57858767e-05  9.08156714e-05]\n",
      " [ 2.13280626e-04  2.10428007e-04  2.34867071e-04  2.68989491e-04\n",
      "   2.31084806e-04  3.33192548e-05  5.20636985e-05  2.18120315e-04\n",
      "   5.02680693e-04  2.07341335e-04  1.80174978e-04  1.50594006e-04\n",
      "   1.05530885e-04  4.78149379e-04  1.88460576e-04  2.83911176e-04\n",
      "   9.43262412e-05  7.96937389e-05  5.79729014e-05  8.22007639e-05\n",
      "   1.20599845e-04  7.01000275e-05  4.11350440e-05  1.20187121e-04]\n",
      " [ 1.98556389e-04  1.96027433e-04  2.15610258e-04  2.40798712e-04\n",
      "   2.16712832e-04  4.43742938e-06  1.61286695e-05  1.30683225e-04\n",
      "   2.00361960e-04  4.00445690e-04  1.59238493e-04  1.27076192e-04\n",
      "   5.49710432e-05  4.01516347e-04  1.47780782e-04  2.41706997e-04\n",
      "   1.07661467e-04  8.63747589e-05  6.06532968e-05  8.70817154e-05\n",
      "   7.31819696e-05  7.13433729e-05  4.33016905e-05  1.16707988e-04]\n",
      " [ 1.50020559e-04  1.45684479e-04  1.63051386e-04  1.78492692e-04\n",
      "   1.59494680e-04  2.06281150e-05  3.47455409e-05  1.14773756e-04\n",
      "   1.41870197e-04  1.29752392e-04  3.53584360e-04  1.05167271e-04\n",
      "   4.67550672e-05  2.97900644e-04  1.20456638e-04  1.69773206e-04\n",
      "   9.55707477e-05  7.39980648e-05  5.48024261e-05  7.56276093e-05\n",
      "   6.41238619e-05  6.89800365e-05  4.71265518e-05  1.06500756e-04]\n",
      " [ 9.55909616e-05  9.30510644e-05  1.01474451e-04  9.00911525e-05\n",
      "   1.01739457e-04  1.58718576e-05  1.86785005e-05  1.43863228e-04\n",
      "   1.10929921e-04  9.68669958e-05  9.83841027e-05  4.75016035e-04\n",
      "   7.46971894e-05  2.57509743e-04  1.52394062e-04  1.27931041e-04\n",
      "   8.79145355e-05  6.95290927e-05  6.01958486e-05  6.83496055e-05\n",
      "   8.87726451e-05  7.45841655e-05  7.35291078e-05  1.06999228e-04]\n",
      " [ 1.91184182e-05  1.81660439e-05  2.65936759e-05  3.36195954e-05\n",
      "   1.64233926e-05  6.55427775e-05  7.80673306e-05  2.11604195e-04\n",
      "   7.89138438e-05  4.25381124e-05  4.44023146e-05  7.58292673e-05\n",
      "   4.13018308e-04  1.66595279e-04  1.12684023e-04  8.05364703e-05\n",
      "  -1.93829270e-05 -7.34472042e-06  3.98063123e-06 -4.35248600e-06\n",
      "   1.18930865e-04  1.00823790e-05  1.54475414e-05  2.18272210e-05]\n",
      " [ 3.49681622e-04  3.40958349e-04  3.83548259e-04  4.26163575e-04\n",
      "   3.72298993e-04  7.36680339e-05  1.09736678e-04  3.69750326e-04\n",
      "   3.72074624e-04  3.23325759e-04  2.94402305e-04  2.72031441e-04\n",
      "   1.73362647e-04  2.34416867e-03  3.28393249e-04  4.38255846e-04\n",
      "   1.92902489e-04  1.55364418e-04  1.18478886e-04  1.60204534e-04\n",
      "   2.06610948e-04  1.49664655e-04  1.03289914e-04  2.38591218e-04]\n",
      " [ 1.03711704e-04  1.00717646e-04  1.12968787e-04  1.09547168e-04\n",
      "   1.08927803e-04  3.86836511e-05  4.76578959e-05  2.01921826e-04\n",
      "   1.34823759e-04  1.09404326e-04  1.09440977e-04  1.48003826e-04\n",
      "   1.07803943e-04  3.01907347e-04  6.45669922e-04  1.52819215e-04\n",
      "   7.52253626e-05  6.20222307e-05  5.57848600e-05  6.24859632e-05\n",
      "   1.19333978e-04  7.11578738e-05  6.85368045e-05  1.05940554e-04]\n",
      " [ 2.52753087e-04  2.49754399e-04  2.77178553e-04  3.16409462e-04\n",
      "   2.75091470e-04  2.60276532e-05  4.54250836e-05  2.23243347e-04\n",
      "   2.75420198e-04  2.42646001e-04  2.09163431e-04  1.68479946e-04\n",
      "   1.04479786e-04  5.46354545e-04  2.07226526e-04  7.10766566e-04\n",
      "   1.16672448e-04  9.71732703e-05  6.90071099e-05  9.94263390e-05\n",
      "   1.23407150e-04  8.20270806e-05  4.67535684e-05  1.40013285e-04]\n",
      " [ 1.48875511e-04  1.39167980e-04  1.57004715e-04  1.54203425e-04\n",
      "   1.51226140e-04  1.35958959e-05  3.02268303e-05  1.83750015e-05\n",
      "   7.64966972e-05  9.03526858e-05  9.84324845e-05  9.67898514e-05\n",
      "  -2.10211224e-05  2.01039563e-04  8.52763352e-05  9.75360515e-05\n",
      "   4.50552305e-04  1.13194401e-04  8.48193786e-05  1.14670924e-04\n",
      "   1.16524811e-05  1.11513675e-04  8.53609655e-05  1.53349584e-04]\n",
      " [ 1.37852048e-04  1.30026159e-04  1.45432713e-04  1.42756747e-04\n",
      "   1.41834162e-04  8.51685224e-06  2.14314790e-05  2.87823683e-05\n",
      "   8.12885723e-05  9.11722685e-05  9.58581324e-05  9.62788374e-05\n",
      "  -1.00185979e-05  2.03652807e-04  8.84314523e-05  1.02173628e-04\n",
      "   1.42370524e-04  2.08643944e-04  7.65680030e-05  1.02593779e-04\n",
      "   1.83115217e-05  9.91600954e-05  7.70658770e-05  1.37628684e-04]\n",
      " [ 8.82192635e-05  8.26203609e-05  9.28800521e-05  8.70732434e-05\n",
      "   8.96076377e-05  1.18860957e-05  2.08020605e-05  3.86304799e-05\n",
      "   5.43887076e-05  5.88855497e-05  6.52960327e-05  7.66671335e-05\n",
      "   4.99415517e-06  1.42842752e-04  7.31567043e-05  6.67366256e-05\n",
      "   9.81225064e-05  7.04248174e-05  1.24416628e-04  7.09362685e-05\n",
      "   2.43076821e-05  7.20995880e-05  6.00121621e-05  9.90498149e-05]\n",
      " [ 1.44470683e-04  1.35366092e-04  1.53632601e-04  1.54910221e-04\n",
      "   1.46779582e-04  2.08915956e-05  3.87315648e-05  4.10474690e-05\n",
      "   8.40138021e-05  9.21027041e-05  9.81654057e-05  9.48352471e-05\n",
      "  -5.94892580e-06  2.10418119e-04  8.92711927e-05  1.04752148e-04\n",
      "   1.44516669e-04  1.02799386e-04  7.72786315e-05  2.14328123e-04\n",
      "   2.34319594e-05  1.02263005e-04  7.68962038e-05  1.42517831e-04]\n",
      " [ 4.80143667e-05  4.46617841e-05  5.75222284e-05  6.54295080e-05\n",
      "   4.47869699e-05  7.35466775e-05  9.12933262e-05  2.18663861e-04\n",
      "   9.20893798e-05  5.78279119e-05  6.21850196e-05  9.20239646e-05\n",
      "   1.21446152e-04  2.02744776e-04  1.27374061e-04  9.71381485e-05\n",
      "   1.09716273e-05  1.37082476e-05  1.97843890e-05  1.75063908e-05\n",
      "   3.87296265e-04  3.19328720e-05  3.11832139e-05  5.18977387e-05]\n",
      " [ 1.26315845e-04  1.15980896e-04  1.34792783e-04  1.31247529e-04\n",
      "   1.23877753e-04  4.07685695e-05  6.19683649e-05  7.41086588e-05\n",
      "   7.11036720e-05  7.48855627e-05  8.88588255e-05  1.02702132e-04\n",
      "   1.36761308e-05  1.95086239e-04  1.00890642e-04  8.57665219e-05\n",
      "   1.39473536e-04  9.86064863e-05  7.79512209e-05  1.01488680e-04\n",
      "   4.24178863e-05  2.19586126e-04  8.53753876e-05  1.46114918e-04]\n",
      " [ 5.89231941e-05  5.38427936e-05  6.04930890e-05  4.40095729e-05\n",
      "   5.76450438e-05  1.44218772e-05  1.97784140e-05  5.21459325e-05\n",
      "   3.50197483e-05  3.81484173e-05  5.09530313e-05  8.49805098e-05\n",
      "   1.75867993e-05  1.13003661e-04  8.15603327e-05  4.10300948e-05\n",
      "   8.96087083e-05  6.43217550e-05  5.44573653e-05  6.40517748e-05\n",
      "   3.47663526e-05  7.16572111e-05  1.77359175e-04  9.50494565e-05]\n",
      " [ 1.72411948e-04  1.59708254e-04  1.85259110e-04  1.87249366e-04\n",
      "   1.71073082e-04  5.45511316e-05  8.30340607e-05  1.10275908e-04\n",
      "   1.09091252e-04  1.09623383e-04  1.22768795e-04  1.31847416e-04\n",
      "   2.64945670e-05  2.78304350e-04  1.34415179e-04  1.31005022e-04\n",
      "   1.71634442e-04  1.22471676e-04  9.58301046e-05  1.26568728e-04\n",
      "   6.16904068e-05  1.30753316e-04  1.01339925e-04  4.29648091e-04]]\n"
     ]
    }
   ],
   "source": [
    "cov2=(sd2 .dot(corr2)) .dot (sd2.T)\n",
    "print(cov2.shape)\n",
    "print(cov2)"
   ]
  },
  {
   "cell_type": "code",
   "execution_count": 22,
   "id": "de7e5a3b",
   "metadata": {},
   "outputs": [],
   "source": [
    "### cov2 (24 x 24) is saved as \n",
    "cov2=pd.DataFrame(cov2) ### cannot directly use pandas save -- need to convert np arrays back to pandas format\n",
    "import pandas as pd\n",
    "cov2.to_csv('denoised_cov.csv')"
   ]
  },
  {
   "cell_type": "code",
   "execution_count": null,
   "id": "daaf3d52",
   "metadata": {},
   "outputs": [],
   "source": []
  }
 ],
 "metadata": {
  "kernelspec": {
   "display_name": "Python 3 (ipykernel)",
   "language": "python",
   "name": "python3"
  },
  "language_info": {
   "codemirror_mode": {
    "name": "ipython",
    "version": 3
   },
   "file_extension": ".py",
   "mimetype": "text/x-python",
   "name": "python",
   "nbconvert_exporter": "python",
   "pygments_lexer": "ipython3",
   "version": "3.9.13"
  }
 },
 "nbformat": 4,
 "nbformat_minor": 5
}
