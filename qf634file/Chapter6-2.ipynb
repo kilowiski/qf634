{
 "cells": [
  {
   "cell_type": "markdown",
   "id": "952c7cb8",
   "metadata": {},
   "source": [
    "###### Chapter6. Financial Ratios(Industry level) Random Forest - data assisted by Wang ChengFan"
   ]
  },
  {
   "cell_type": "code",
   "execution_count": 1,
   "id": "33961292",
   "metadata": {},
   "outputs": [],
   "source": [
    "import pandas as pd\n",
    "import numpy as np\n",
    "import matplotlib.pyplot as plt\n",
    "from matplotlib.ticker import PercentFormatter\n",
    "import matplotlib.ticker as mtick\n",
    "%matplotlib inline\n",
    "from random import sample\n",
    "import seaborn as sns\n",
    "from sklearn import metrics\n",
    "from sklearn import preprocessing\n",
    "from sklearn.metrics import classification_report\n",
    "from sklearn.metrics import accuracy_score\n",
    "from sklearn.metrics import confusion_matrix\n",
    "from sklearn.model_selection import train_test_split\n",
    "from sklearn.preprocessing import StandardScaler\n",
    "# import warnings filter\n",
    "from warnings import simplefilter\n",
    "# ignore all future warnings\n",
    "simplefilter(action='ignore', category=FutureWarning)"
   ]
  },
  {
   "cell_type": "code",
   "execution_count": 2,
   "id": "a4667166",
   "metadata": {},
   "outputs": [
    {
     "data": {
      "text/html": [
       "<div>\n",
       "<style scoped>\n",
       "    .dataframe tbody tr th:only-of-type {\n",
       "        vertical-align: middle;\n",
       "    }\n",
       "\n",
       "    .dataframe tbody tr th {\n",
       "        vertical-align: top;\n",
       "    }\n",
       "\n",
       "    .dataframe thead th {\n",
       "        text-align: right;\n",
       "    }\n",
       "</style>\n",
       "<table border=\"1\" class=\"dataframe\">\n",
       "  <thead>\n",
       "    <tr style=\"text-align: right;\">\n",
       "      <th></th>\n",
       "      <th>public_date</th>\n",
       "      <th>gicdesc</th>\n",
       "      <th>NFIRM</th>\n",
       "      <th>futchangeNPM</th>\n",
       "      <th>indret_vw</th>\n",
       "      <th>dpr_Mean</th>\n",
       "      <th>PEG_trailing_Mean</th>\n",
       "      <th>bm_Mean</th>\n",
       "      <th>CAPEI_Mean</th>\n",
       "      <th>divyield_Mean</th>\n",
       "      <th>...</th>\n",
       "      <th>inv_turn_Mean</th>\n",
       "      <th>pay_turn_Mean</th>\n",
       "      <th>rect_turn_Mean</th>\n",
       "      <th>sale_equity_Mean</th>\n",
       "      <th>sale_invcap_Mean</th>\n",
       "      <th>sale_nwc_Mean</th>\n",
       "      <th>accrual_Mean</th>\n",
       "      <th>rd_sale_Mean</th>\n",
       "      <th>adv_sale_Mean</th>\n",
       "      <th>staff_sale_Mean</th>\n",
       "    </tr>\n",
       "  </thead>\n",
       "  <tbody>\n",
       "    <tr>\n",
       "      <th>0</th>\n",
       "      <td>30/6/1999</td>\n",
       "      <td>Communication Services</td>\n",
       "      <td>117</td>\n",
       "      <td>1</td>\n",
       "      <td>0.054565</td>\n",
       "      <td>0.301</td>\n",
       "      <td>1.569</td>\n",
       "      <td>0.361</td>\n",
       "      <td>13.074</td>\n",
       "      <td>0.0212</td>\n",
       "      <td>...</td>\n",
       "      <td>55.873</td>\n",
       "      <td>6.210</td>\n",
       "      <td>6.144</td>\n",
       "      <td>2.834</td>\n",
       "      <td>1.382</td>\n",
       "      <td>12.041</td>\n",
       "      <td>-0.119</td>\n",
       "      <td>1.095</td>\n",
       "      <td>0.137</td>\n",
       "      <td>0.009</td>\n",
       "    </tr>\n",
       "    <tr>\n",
       "      <th>1</th>\n",
       "      <td>30/6/1999</td>\n",
       "      <td>Consumer Discretionary</td>\n",
       "      <td>1213</td>\n",
       "      <td>1</td>\n",
       "      <td>0.056150</td>\n",
       "      <td>0.161</td>\n",
       "      <td>0.645</td>\n",
       "      <td>0.855</td>\n",
       "      <td>72.114</td>\n",
       "      <td>0.0190</td>\n",
       "      <td>...</td>\n",
       "      <td>23.646</td>\n",
       "      <td>13.334</td>\n",
       "      <td>58.938</td>\n",
       "      <td>5.397</td>\n",
       "      <td>2.475</td>\n",
       "      <td>29.005</td>\n",
       "      <td>-0.052</td>\n",
       "      <td>0.128</td>\n",
       "      <td>0.023</td>\n",
       "      <td>0.022</td>\n",
       "    </tr>\n",
       "    <tr>\n",
       "      <th>2</th>\n",
       "      <td>30/6/1999</td>\n",
       "      <td>Consumer Staples</td>\n",
       "      <td>281</td>\n",
       "      <td>0</td>\n",
       "      <td>-0.010385</td>\n",
       "      <td>0.244</td>\n",
       "      <td>1.747</td>\n",
       "      <td>0.695</td>\n",
       "      <td>22.661</td>\n",
       "      <td>0.0207</td>\n",
       "      <td>...</td>\n",
       "      <td>8.258</td>\n",
       "      <td>12.039</td>\n",
       "      <td>24.457</td>\n",
       "      <td>6.183</td>\n",
       "      <td>2.862</td>\n",
       "      <td>31.724</td>\n",
       "      <td>-0.038</td>\n",
       "      <td>0.007</td>\n",
       "      <td>0.033</td>\n",
       "      <td>0.004</td>\n",
       "    </tr>\n",
       "    <tr>\n",
       "      <th>3</th>\n",
       "      <td>30/6/1999</td>\n",
       "      <td>Energy</td>\n",
       "      <td>235</td>\n",
       "      <td>1</td>\n",
       "      <td>0.001533</td>\n",
       "      <td>0.407</td>\n",
       "      <td>0.702</td>\n",
       "      <td>0.944</td>\n",
       "      <td>18.062</td>\n",
       "      <td>0.0293</td>\n",
       "      <td>...</td>\n",
       "      <td>95.906</td>\n",
       "      <td>7.264</td>\n",
       "      <td>6.685</td>\n",
       "      <td>2.083</td>\n",
       "      <td>1.285</td>\n",
       "      <td>53.031</td>\n",
       "      <td>-0.160</td>\n",
       "      <td>0.002</td>\n",
       "      <td>0.000</td>\n",
       "      <td>0.020</td>\n",
       "    </tr>\n",
       "    <tr>\n",
       "      <th>4</th>\n",
       "      <td>30/6/1999</td>\n",
       "      <td>Financials</td>\n",
       "      <td>1111</td>\n",
       "      <td>0</td>\n",
       "      <td>0.032834</td>\n",
       "      <td>0.195</td>\n",
       "      <td>2.133</td>\n",
       "      <td>0.780</td>\n",
       "      <td>28.371</td>\n",
       "      <td>0.0238</td>\n",
       "      <td>...</td>\n",
       "      <td>75.656</td>\n",
       "      <td>6.940</td>\n",
       "      <td>3.380</td>\n",
       "      <td>1.233</td>\n",
       "      <td>0.787</td>\n",
       "      <td>18.764</td>\n",
       "      <td>0.006</td>\n",
       "      <td>0.006</td>\n",
       "      <td>0.007</td>\n",
       "      <td>0.157</td>\n",
       "    </tr>\n",
       "    <tr>\n",
       "      <th>...</th>\n",
       "      <td>...</td>\n",
       "      <td>...</td>\n",
       "      <td>...</td>\n",
       "      <td>...</td>\n",
       "      <td>...</td>\n",
       "      <td>...</td>\n",
       "      <td>...</td>\n",
       "      <td>...</td>\n",
       "      <td>...</td>\n",
       "      <td>...</td>\n",
       "      <td>...</td>\n",
       "      <td>...</td>\n",
       "      <td>...</td>\n",
       "      <td>...</td>\n",
       "      <td>...</td>\n",
       "      <td>...</td>\n",
       "      <td>...</td>\n",
       "      <td>...</td>\n",
       "      <td>...</td>\n",
       "      <td>...</td>\n",
       "      <td>...</td>\n",
       "    </tr>\n",
       "    <tr>\n",
       "      <th>2758</th>\n",
       "      <td>30/11/2021</td>\n",
       "      <td>Industrials</td>\n",
       "      <td>500</td>\n",
       "      <td>0</td>\n",
       "      <td>-0.032490</td>\n",
       "      <td>1.257</td>\n",
       "      <td>2.220</td>\n",
       "      <td>0.480</td>\n",
       "      <td>-67.313</td>\n",
       "      <td>0.0153</td>\n",
       "      <td>...</td>\n",
       "      <td>21.990</td>\n",
       "      <td>16.388</td>\n",
       "      <td>7.758</td>\n",
       "      <td>4.696</td>\n",
       "      <td>1.561</td>\n",
       "      <td>12.428</td>\n",
       "      <td>-0.036</td>\n",
       "      <td>556.796</td>\n",
       "      <td>0.021</td>\n",
       "      <td>0.064</td>\n",
       "    </tr>\n",
       "    <tr>\n",
       "      <th>2759</th>\n",
       "      <td>30/11/2021</td>\n",
       "      <td>Information Technology</td>\n",
       "      <td>540</td>\n",
       "      <td>1</td>\n",
       "      <td>0.024663</td>\n",
       "      <td>0.292</td>\n",
       "      <td>0.834</td>\n",
       "      <td>0.302</td>\n",
       "      <td>-75.657</td>\n",
       "      <td>0.0173</td>\n",
       "      <td>...</td>\n",
       "      <td>20.984</td>\n",
       "      <td>13.253</td>\n",
       "      <td>8.526</td>\n",
       "      <td>3.606</td>\n",
       "      <td>1.231</td>\n",
       "      <td>2.691</td>\n",
       "      <td>-0.061</td>\n",
       "      <td>0.599</td>\n",
       "      <td>0.014</td>\n",
       "      <td>0.030</td>\n",
       "    </tr>\n",
       "    <tr>\n",
       "      <th>2760</th>\n",
       "      <td>30/11/2021</td>\n",
       "      <td>Materials</td>\n",
       "      <td>151</td>\n",
       "      <td>0</td>\n",
       "      <td>-0.008783</td>\n",
       "      <td>0.533</td>\n",
       "      <td>1.360</td>\n",
       "      <td>0.636</td>\n",
       "      <td>30.797</td>\n",
       "      <td>0.0195</td>\n",
       "      <td>...</td>\n",
       "      <td>5.652</td>\n",
       "      <td>8.930</td>\n",
       "      <td>10.017</td>\n",
       "      <td>3.850</td>\n",
       "      <td>1.196</td>\n",
       "      <td>5.788</td>\n",
       "      <td>-0.045</td>\n",
       "      <td>0.069</td>\n",
       "      <td>0.001</td>\n",
       "      <td>0.005</td>\n",
       "    </tr>\n",
       "    <tr>\n",
       "      <th>2761</th>\n",
       "      <td>30/11/2021</td>\n",
       "      <td>Real Estate</td>\n",
       "      <td>41</td>\n",
       "      <td>0</td>\n",
       "      <td>-0.176764</td>\n",
       "      <td>0.390</td>\n",
       "      <td>-0.416</td>\n",
       "      <td>0.685</td>\n",
       "      <td>-602.730</td>\n",
       "      <td>0.0241</td>\n",
       "      <td>...</td>\n",
       "      <td>56.790</td>\n",
       "      <td>52.948</td>\n",
       "      <td>40.598</td>\n",
       "      <td>2.155</td>\n",
       "      <td>1.620</td>\n",
       "      <td>11.111</td>\n",
       "      <td>-0.012</td>\n",
       "      <td>0.037</td>\n",
       "      <td>0.006</td>\n",
       "      <td>0.039</td>\n",
       "    </tr>\n",
       "    <tr>\n",
       "      <th>2762</th>\n",
       "      <td>30/11/2021</td>\n",
       "      <td>Utilities</td>\n",
       "      <td>70</td>\n",
       "      <td>0</td>\n",
       "      <td>-0.016398</td>\n",
       "      <td>1.270</td>\n",
       "      <td>4.201</td>\n",
       "      <td>0.629</td>\n",
       "      <td>26.454</td>\n",
       "      <td>0.0327</td>\n",
       "      <td>...</td>\n",
       "      <td>18.250</td>\n",
       "      <td>7.357</td>\n",
       "      <td>9.294</td>\n",
       "      <td>1.004</td>\n",
       "      <td>0.446</td>\n",
       "      <td>24.461</td>\n",
       "      <td>-0.019</td>\n",
       "      <td>0.000</td>\n",
       "      <td>0.000</td>\n",
       "      <td>0.002</td>\n",
       "    </tr>\n",
       "  </tbody>\n",
       "</table>\n",
       "<p>2763 rows × 74 columns</p>\n",
       "</div>"
      ],
      "text/plain": [
       "     public_date                 gicdesc  NFIRM  futchangeNPM  indret_vw  \\\n",
       "0      30/6/1999  Communication Services    117             1   0.054565   \n",
       "1      30/6/1999  Consumer Discretionary   1213             1   0.056150   \n",
       "2      30/6/1999        Consumer Staples    281             0  -0.010385   \n",
       "3      30/6/1999                  Energy    235             1   0.001533   \n",
       "4      30/6/1999              Financials   1111             0   0.032834   \n",
       "...          ...                     ...    ...           ...        ...   \n",
       "2758  30/11/2021             Industrials    500             0  -0.032490   \n",
       "2759  30/11/2021  Information Technology    540             1   0.024663   \n",
       "2760  30/11/2021               Materials    151             0  -0.008783   \n",
       "2761  30/11/2021             Real Estate     41             0  -0.176764   \n",
       "2762  30/11/2021               Utilities     70             0  -0.016398   \n",
       "\n",
       "      dpr_Mean  PEG_trailing_Mean  bm_Mean  CAPEI_Mean  divyield_Mean  ...  \\\n",
       "0        0.301              1.569    0.361      13.074         0.0212  ...   \n",
       "1        0.161              0.645    0.855      72.114         0.0190  ...   \n",
       "2        0.244              1.747    0.695      22.661         0.0207  ...   \n",
       "3        0.407              0.702    0.944      18.062         0.0293  ...   \n",
       "4        0.195              2.133    0.780      28.371         0.0238  ...   \n",
       "...        ...                ...      ...         ...            ...  ...   \n",
       "2758     1.257              2.220    0.480     -67.313         0.0153  ...   \n",
       "2759     0.292              0.834    0.302     -75.657         0.0173  ...   \n",
       "2760     0.533              1.360    0.636      30.797         0.0195  ...   \n",
       "2761     0.390             -0.416    0.685    -602.730         0.0241  ...   \n",
       "2762     1.270              4.201    0.629      26.454         0.0327  ...   \n",
       "\n",
       "      inv_turn_Mean  pay_turn_Mean  rect_turn_Mean  sale_equity_Mean  \\\n",
       "0            55.873          6.210           6.144             2.834   \n",
       "1            23.646         13.334          58.938             5.397   \n",
       "2             8.258         12.039          24.457             6.183   \n",
       "3            95.906          7.264           6.685             2.083   \n",
       "4            75.656          6.940           3.380             1.233   \n",
       "...             ...            ...             ...               ...   \n",
       "2758         21.990         16.388           7.758             4.696   \n",
       "2759         20.984         13.253           8.526             3.606   \n",
       "2760          5.652          8.930          10.017             3.850   \n",
       "2761         56.790         52.948          40.598             2.155   \n",
       "2762         18.250          7.357           9.294             1.004   \n",
       "\n",
       "      sale_invcap_Mean  sale_nwc_Mean  accrual_Mean  rd_sale_Mean  \\\n",
       "0                1.382         12.041        -0.119         1.095   \n",
       "1                2.475         29.005        -0.052         0.128   \n",
       "2                2.862         31.724        -0.038         0.007   \n",
       "3                1.285         53.031        -0.160         0.002   \n",
       "4                0.787         18.764         0.006         0.006   \n",
       "...                ...            ...           ...           ...   \n",
       "2758             1.561         12.428        -0.036       556.796   \n",
       "2759             1.231          2.691        -0.061         0.599   \n",
       "2760             1.196          5.788        -0.045         0.069   \n",
       "2761             1.620         11.111        -0.012         0.037   \n",
       "2762             0.446         24.461        -0.019         0.000   \n",
       "\n",
       "      adv_sale_Mean  staff_sale_Mean  \n",
       "0             0.137            0.009  \n",
       "1             0.023            0.022  \n",
       "2             0.033            0.004  \n",
       "3             0.000            0.020  \n",
       "4             0.007            0.157  \n",
       "...             ...              ...  \n",
       "2758          0.021            0.064  \n",
       "2759          0.014            0.030  \n",
       "2760          0.001            0.005  \n",
       "2761          0.006            0.039  \n",
       "2762          0.000            0.002  \n",
       "\n",
       "[2763 rows x 74 columns]"
      ]
     },
     "execution_count": 2,
     "metadata": {},
     "output_type": "execute_result"
    }
   ],
   "source": [
    "df_ratios = pd.read_csv('Financial_ratios_Industry_new2.csv')\n",
    "df_ratios"
   ]
  },
  {
   "cell_type": "code",
   "execution_count": 3,
   "id": "5d08f2c3",
   "metadata": {},
   "outputs": [
    {
     "data": {
      "text/html": [
       "<div>\n",
       "<style scoped>\n",
       "    .dataframe tbody tr th:only-of-type {\n",
       "        vertical-align: middle;\n",
       "    }\n",
       "\n",
       "    .dataframe tbody tr th {\n",
       "        vertical-align: top;\n",
       "    }\n",
       "\n",
       "    .dataframe thead th {\n",
       "        text-align: right;\n",
       "    }\n",
       "</style>\n",
       "<table border=\"1\" class=\"dataframe\">\n",
       "  <thead>\n",
       "    <tr style=\"text-align: right;\">\n",
       "      <th></th>\n",
       "      <th>indret_vw</th>\n",
       "      <th>dpr_Mean</th>\n",
       "      <th>PEG_trailing_Mean</th>\n",
       "      <th>bm_Mean</th>\n",
       "      <th>CAPEI_Mean</th>\n",
       "      <th>divyield_Mean</th>\n",
       "      <th>evm_Mean</th>\n",
       "      <th>pcf_Mean</th>\n",
       "      <th>pe_exi_Mean</th>\n",
       "      <th>pe_inc_Mean</th>\n",
       "      <th>...</th>\n",
       "      <th>inv_turn_Mean</th>\n",
       "      <th>pay_turn_Mean</th>\n",
       "      <th>rect_turn_Mean</th>\n",
       "      <th>sale_equity_Mean</th>\n",
       "      <th>sale_invcap_Mean</th>\n",
       "      <th>sale_nwc_Mean</th>\n",
       "      <th>accrual_Mean</th>\n",
       "      <th>rd_sale_Mean</th>\n",
       "      <th>adv_sale_Mean</th>\n",
       "      <th>staff_sale_Mean</th>\n",
       "    </tr>\n",
       "  </thead>\n",
       "  <tbody>\n",
       "    <tr>\n",
       "      <th>count</th>\n",
       "      <td>2763.000000</td>\n",
       "      <td>2763.000000</td>\n",
       "      <td>2763.000000</td>\n",
       "      <td>2763.000000</td>\n",
       "      <td>2.763000e+03</td>\n",
       "      <td>2763.000000</td>\n",
       "      <td>2.763000e+03</td>\n",
       "      <td>2763.000000</td>\n",
       "      <td>2763.000000</td>\n",
       "      <td>2763.000000</td>\n",
       "      <td>...</td>\n",
       "      <td>2763.000000</td>\n",
       "      <td>2763.000000</td>\n",
       "      <td>2763.000000</td>\n",
       "      <td>2763.000000</td>\n",
       "      <td>2763.000000</td>\n",
       "      <td>2.763000e+03</td>\n",
       "      <td>2763.000000</td>\n",
       "      <td>2763.000000</td>\n",
       "      <td>2763.000000</td>\n",
       "      <td>2763.000000</td>\n",
       "    </tr>\n",
       "    <tr>\n",
       "      <th>mean</th>\n",
       "      <td>0.007786</td>\n",
       "      <td>0.854545</td>\n",
       "      <td>1.590547</td>\n",
       "      <td>0.866917</td>\n",
       "      <td>8.830981e+11</td>\n",
       "      <td>0.026746</td>\n",
       "      <td>3.391241e+12</td>\n",
       "      <td>7.470954</td>\n",
       "      <td>-0.401867</td>\n",
       "      <td>-0.118124</td>\n",
       "      <td>...</td>\n",
       "      <td>53.265378</td>\n",
       "      <td>22.383057</td>\n",
       "      <td>24.845756</td>\n",
       "      <td>4.952852</td>\n",
       "      <td>1.629526</td>\n",
       "      <td>1.581614e+10</td>\n",
       "      <td>-0.069670</td>\n",
       "      <td>2.988202</td>\n",
       "      <td>0.019371</td>\n",
       "      <td>0.084386</td>\n",
       "    </tr>\n",
       "    <tr>\n",
       "      <th>std</th>\n",
       "      <td>0.056692</td>\n",
       "      <td>3.652362</td>\n",
       "      <td>1.478804</td>\n",
       "      <td>2.932913</td>\n",
       "      <td>1.058267e+14</td>\n",
       "      <td>0.011828</td>\n",
       "      <td>1.836514e+14</td>\n",
       "      <td>4.706189</td>\n",
       "      <td>26.442317</td>\n",
       "      <td>25.047585</td>\n",
       "      <td>...</td>\n",
       "      <td>204.182180</td>\n",
       "      <td>141.788781</td>\n",
       "      <td>108.326522</td>\n",
       "      <td>21.773214</td>\n",
       "      <td>6.257582</td>\n",
       "      <td>4.798242e+11</td>\n",
       "      <td>0.063216</td>\n",
       "      <td>22.014819</td>\n",
       "      <td>0.042039</td>\n",
       "      <td>0.387968</td>\n",
       "    </tr>\n",
       "    <tr>\n",
       "      <th>min</th>\n",
       "      <td>-0.370985</td>\n",
       "      <td>-1.675000</td>\n",
       "      <td>-6.789000</td>\n",
       "      <td>0.261000</td>\n",
       "      <td>-1.870000e+15</td>\n",
       "      <td>0.010100</td>\n",
       "      <td>-2.070000e+15</td>\n",
       "      <td>-23.477000</td>\n",
       "      <td>-229.700000</td>\n",
       "      <td>-203.150000</td>\n",
       "      <td>...</td>\n",
       "      <td>3.345000</td>\n",
       "      <td>4.393000</td>\n",
       "      <td>1.508000</td>\n",
       "      <td>0.814000</td>\n",
       "      <td>-130.570000</td>\n",
       "      <td>-3.706700e+03</td>\n",
       "      <td>-0.268000</td>\n",
       "      <td>0.000000</td>\n",
       "      <td>0.000000</td>\n",
       "      <td>0.000000</td>\n",
       "    </tr>\n",
       "    <tr>\n",
       "      <th>25%</th>\n",
       "      <td>-0.021407</td>\n",
       "      <td>0.278000</td>\n",
       "      <td>0.704500</td>\n",
       "      <td>0.563000</td>\n",
       "      <td>3.903500e+00</td>\n",
       "      <td>0.019400</td>\n",
       "      <td>3.165500e+00</td>\n",
       "      <td>4.692000</td>\n",
       "      <td>-5.185500</td>\n",
       "      <td>-5.305000</td>\n",
       "      <td>...</td>\n",
       "      <td>18.790500</td>\n",
       "      <td>10.040000</td>\n",
       "      <td>7.860500</td>\n",
       "      <td>2.051500</td>\n",
       "      <td>1.001000</td>\n",
       "      <td>7.597500e+00</td>\n",
       "      <td>-0.098000</td>\n",
       "      <td>0.007000</td>\n",
       "      <td>0.002000</td>\n",
       "      <td>0.004000</td>\n",
       "    </tr>\n",
       "    <tr>\n",
       "      <th>50%</th>\n",
       "      <td>0.011062</td>\n",
       "      <td>0.448000</td>\n",
       "      <td>1.446000</td>\n",
       "      <td>0.714000</td>\n",
       "      <td>1.587400e+01</td>\n",
       "      <td>0.023600</td>\n",
       "      <td>8.342000e+00</td>\n",
       "      <td>7.663000</td>\n",
       "      <td>6.673000</td>\n",
       "      <td>6.751000</td>\n",
       "      <td>...</td>\n",
       "      <td>30.664000</td>\n",
       "      <td>12.277000</td>\n",
       "      <td>9.364000</td>\n",
       "      <td>2.912000</td>\n",
       "      <td>1.520000</td>\n",
       "      <td>1.353700e+01</td>\n",
       "      <td>-0.065000</td>\n",
       "      <td>0.032000</td>\n",
       "      <td>0.011000</td>\n",
       "      <td>0.025000</td>\n",
       "    </tr>\n",
       "    <tr>\n",
       "      <th>75%</th>\n",
       "      <td>0.039770</td>\n",
       "      <td>0.731500</td>\n",
       "      <td>2.351500</td>\n",
       "      <td>0.905500</td>\n",
       "      <td>2.740350e+01</td>\n",
       "      <td>0.030400</td>\n",
       "      <td>1.268500e+01</td>\n",
       "      <td>10.328000</td>\n",
       "      <td>14.217000</td>\n",
       "      <td>13.797500</td>\n",
       "      <td>...</td>\n",
       "      <td>47.611500</td>\n",
       "      <td>15.371000</td>\n",
       "      <td>17.088500</td>\n",
       "      <td>4.883000</td>\n",
       "      <td>2.244500</td>\n",
       "      <td>2.374800e+01</td>\n",
       "      <td>-0.042000</td>\n",
       "      <td>0.242000</td>\n",
       "      <td>0.026000</td>\n",
       "      <td>0.053000</td>\n",
       "    </tr>\n",
       "    <tr>\n",
       "      <th>max</th>\n",
       "      <td>0.325330</td>\n",
       "      <td>92.984000</td>\n",
       "      <td>9.035000</td>\n",
       "      <td>150.898000</td>\n",
       "      <td>2.720000e+15</td>\n",
       "      <td>0.124000</td>\n",
       "      <td>5.190000e+15</td>\n",
       "      <td>26.226000</td>\n",
       "      <td>46.231000</td>\n",
       "      <td>44.269000</td>\n",
       "      <td>...</td>\n",
       "      <td>5481.040000</td>\n",
       "      <td>4003.550000</td>\n",
       "      <td>2457.570000</td>\n",
       "      <td>625.243000</td>\n",
       "      <td>135.916000</td>\n",
       "      <td>1.470000e+13</td>\n",
       "      <td>0.985000</td>\n",
       "      <td>556.796000</td>\n",
       "      <td>0.528000</td>\n",
       "      <td>8.469000</td>\n",
       "    </tr>\n",
       "  </tbody>\n",
       "</table>\n",
       "<p>8 rows × 70 columns</p>\n",
       "</div>"
      ],
      "text/plain": [
       "         indret_vw     dpr_Mean  PEG_trailing_Mean      bm_Mean    CAPEI_Mean  \\\n",
       "count  2763.000000  2763.000000        2763.000000  2763.000000  2.763000e+03   \n",
       "mean      0.007786     0.854545           1.590547     0.866917  8.830981e+11   \n",
       "std       0.056692     3.652362           1.478804     2.932913  1.058267e+14   \n",
       "min      -0.370985    -1.675000          -6.789000     0.261000 -1.870000e+15   \n",
       "25%      -0.021407     0.278000           0.704500     0.563000  3.903500e+00   \n",
       "50%       0.011062     0.448000           1.446000     0.714000  1.587400e+01   \n",
       "75%       0.039770     0.731500           2.351500     0.905500  2.740350e+01   \n",
       "max       0.325330    92.984000           9.035000   150.898000  2.720000e+15   \n",
       "\n",
       "       divyield_Mean      evm_Mean     pcf_Mean  pe_exi_Mean  pe_inc_Mean  \\\n",
       "count    2763.000000  2.763000e+03  2763.000000  2763.000000  2763.000000   \n",
       "mean        0.026746  3.391241e+12     7.470954    -0.401867    -0.118124   \n",
       "std         0.011828  1.836514e+14     4.706189    26.442317    25.047585   \n",
       "min         0.010100 -2.070000e+15   -23.477000  -229.700000  -203.150000   \n",
       "25%         0.019400  3.165500e+00     4.692000    -5.185500    -5.305000   \n",
       "50%         0.023600  8.342000e+00     7.663000     6.673000     6.751000   \n",
       "75%         0.030400  1.268500e+01    10.328000    14.217000    13.797500   \n",
       "max         0.124000  5.190000e+15    26.226000    46.231000    44.269000   \n",
       "\n",
       "       ...  inv_turn_Mean  pay_turn_Mean  rect_turn_Mean  sale_equity_Mean  \\\n",
       "count  ...    2763.000000    2763.000000     2763.000000       2763.000000   \n",
       "mean   ...      53.265378      22.383057       24.845756          4.952852   \n",
       "std    ...     204.182180     141.788781      108.326522         21.773214   \n",
       "min    ...       3.345000       4.393000        1.508000          0.814000   \n",
       "25%    ...      18.790500      10.040000        7.860500          2.051500   \n",
       "50%    ...      30.664000      12.277000        9.364000          2.912000   \n",
       "75%    ...      47.611500      15.371000       17.088500          4.883000   \n",
       "max    ...    5481.040000    4003.550000     2457.570000        625.243000   \n",
       "\n",
       "       sale_invcap_Mean  sale_nwc_Mean  accrual_Mean  rd_sale_Mean  \\\n",
       "count       2763.000000   2.763000e+03   2763.000000   2763.000000   \n",
       "mean           1.629526   1.581614e+10     -0.069670      2.988202   \n",
       "std            6.257582   4.798242e+11      0.063216     22.014819   \n",
       "min         -130.570000  -3.706700e+03     -0.268000      0.000000   \n",
       "25%            1.001000   7.597500e+00     -0.098000      0.007000   \n",
       "50%            1.520000   1.353700e+01     -0.065000      0.032000   \n",
       "75%            2.244500   2.374800e+01     -0.042000      0.242000   \n",
       "max          135.916000   1.470000e+13      0.985000    556.796000   \n",
       "\n",
       "       adv_sale_Mean  staff_sale_Mean  \n",
       "count    2763.000000      2763.000000  \n",
       "mean        0.019371         0.084386  \n",
       "std         0.042039         0.387968  \n",
       "min         0.000000         0.000000  \n",
       "25%         0.002000         0.004000  \n",
       "50%         0.011000         0.025000  \n",
       "75%         0.026000         0.053000  \n",
       "max         0.528000         8.469000  \n",
       "\n",
       "[8 rows x 70 columns]"
      ]
     },
     "execution_count": 3,
     "metadata": {},
     "output_type": "execute_result"
    }
   ],
   "source": [
    "df_ratios_1=df_ratios.iloc[:,4:74]\n",
    "df_ratios_1.describe()"
   ]
  },
  {
   "cell_type": "code",
   "execution_count": 4,
   "id": "90784432",
   "metadata": {},
   "outputs": [],
   "source": [
    "# Normalization\n",
    "from sklearn.preprocessing import StandardScaler\n",
    "scaler = StandardScaler().fit(df_ratios_1)\n",
    "df_ratios_1 = scaler.transform(df_ratios_1)\n",
    "df_ratios_1 = pd.DataFrame(df_ratios_1,columns=['indret_vw','dpr_Mean','PEG_trailing_Mean','bm_Mean','CAPEI_Mean','divyield_Mean','evm_Mean','pcf_Mean','pe_exi_Mean','pe_inc_Mean','pe_op_basic_Mean','pe_op_dil_Mean','ps_Mean','ptb_Mean','efftax_Mean','GProf_Mean','aftret_eq_Mean','aftret_equity_Mean','aftret_invcapx_Mean','gpm_Mean','npm_Mean','opmad_Mean','opmbd_Mean','pretret_earnat_Mean','pretret_noa_Mean',\n",
    "                                                    'ptpm_Mean','roa_Mean','roce_Mean','roe_Mean','capital_ratio_Mean','equity_invcap_Mean','debt_invcap_Mean','totdebt_invcap_Mean','invt_act_Mean','rect_act_Mean','fcf_ocf_Mean','ocf_lct_Mean','cash_debt_Mean','cash_lt_Mean','cfm_Mean','short_debt_Mean','profit_lct_Mean','curr_debt_Mean','debt_ebitda_Mean','dltt_be_Mean',\n",
    "                                                    'int_debt_Mean','int_totdebt_Mean','lt_debt_Mean','lt_ppent_Mean','de_ratio_Mean',\n",
    "                                                    'debt_assets_Mean','debt_at_Mean','debt_capital_Mean','intcov_Mean','intcov_ratio_Mean',\n",
    "                                                    'cash_conversion_Mean','cash_ratio_Mean','curr_ratio_Mean','quick_ratio_Mean','at_turn_Mean',\n",
    "                                                    'inv_turn_Mean','pay_turn_Mean','rect_turn_Mean','sale_equity_Mean','sale_invcap_Mean','sale_nwc_Mean','accrual_Mean','rd_sale_Mean','adv_sale_Mean','staff_sale_Mean'])"
   ]
  },
  {
   "cell_type": "code",
   "execution_count": 5,
   "id": "e188bd5a",
   "metadata": {
    "scrolled": false
   },
   "outputs": [
    {
     "data": {
      "text/plain": [
       "(2763, 70)"
      ]
     },
     "execution_count": 5,
     "metadata": {},
     "output_type": "execute_result"
    }
   ],
   "source": [
    "df_ratios_1.shape"
   ]
  },
  {
   "cell_type": "code",
   "execution_count": 6,
   "id": "d3e23834",
   "metadata": {},
   "outputs": [],
   "source": [
    "df_ratios_new = df_ratios_1.copy()"
   ]
  },
  {
   "cell_type": "markdown",
   "id": "d198f7fc",
   "metadata": {},
   "source": [
    "### Split the dataset: Creating a Training Set and a Test Set\n",
    "\n",
    "- 25% of the data will be used as the test set and 75% of the data would be used to train"
   ]
  },
  {
   "cell_type": "code",
   "execution_count": 7,
   "id": "826ac452",
   "metadata": {},
   "outputs": [
    {
     "data": {
      "text/html": [
       "<div>\n",
       "<style scoped>\n",
       "    .dataframe tbody tr th:only-of-type {\n",
       "        vertical-align: middle;\n",
       "    }\n",
       "\n",
       "    .dataframe tbody tr th {\n",
       "        vertical-align: top;\n",
       "    }\n",
       "\n",
       "    .dataframe thead th {\n",
       "        text-align: right;\n",
       "    }\n",
       "</style>\n",
       "<table border=\"1\" class=\"dataframe\">\n",
       "  <thead>\n",
       "    <tr style=\"text-align: right;\">\n",
       "      <th></th>\n",
       "      <th>futchangeNPM</th>\n",
       "      <th>indret_vw</th>\n",
       "      <th>dpr_Mean</th>\n",
       "      <th>PEG_trailing_Mean</th>\n",
       "      <th>bm_Mean</th>\n",
       "      <th>CAPEI_Mean</th>\n",
       "      <th>divyield_Mean</th>\n",
       "      <th>evm_Mean</th>\n",
       "      <th>pcf_Mean</th>\n",
       "      <th>pe_exi_Mean</th>\n",
       "      <th>...</th>\n",
       "      <th>inv_turn_Mean</th>\n",
       "      <th>pay_turn_Mean</th>\n",
       "      <th>rect_turn_Mean</th>\n",
       "      <th>sale_equity_Mean</th>\n",
       "      <th>sale_invcap_Mean</th>\n",
       "      <th>sale_nwc_Mean</th>\n",
       "      <th>accrual_Mean</th>\n",
       "      <th>rd_sale_Mean</th>\n",
       "      <th>adv_sale_Mean</th>\n",
       "      <th>staff_sale_Mean</th>\n",
       "    </tr>\n",
       "  </thead>\n",
       "  <tbody>\n",
       "    <tr>\n",
       "      <th>2758</th>\n",
       "      <td>0</td>\n",
       "      <td>-0.710566</td>\n",
       "      <td>0.110210</td>\n",
       "      <td>0.425728</td>\n",
       "      <td>-0.131946</td>\n",
       "      <td>-0.008346</td>\n",
       "      <td>-0.967841</td>\n",
       "      <td>-0.018469</td>\n",
       "      <td>0.375753</td>\n",
       "      <td>0.665602</td>\n",
       "      <td>...</td>\n",
       "      <td>-0.153202</td>\n",
       "      <td>-0.042289</td>\n",
       "      <td>-0.157772</td>\n",
       "      <td>-0.011799</td>\n",
       "      <td>-0.010953</td>\n",
       "      <td>-0.032968</td>\n",
       "      <td>0.532714</td>\n",
       "      <td>25.160690</td>\n",
       "      <td>0.038749</td>\n",
       "      <td>-0.052555</td>\n",
       "    </tr>\n",
       "    <tr>\n",
       "      <th>2759</th>\n",
       "      <td>1</td>\n",
       "      <td>0.297750</td>\n",
       "      <td>-0.154050</td>\n",
       "      <td>-0.511686</td>\n",
       "      <td>-0.192648</td>\n",
       "      <td>-0.008346</td>\n",
       "      <td>-0.798725</td>\n",
       "      <td>-0.018469</td>\n",
       "      <td>1.261768</td>\n",
       "      <td>-0.297461</td>\n",
       "      <td>...</td>\n",
       "      <td>-0.158129</td>\n",
       "      <td>-0.064404</td>\n",
       "      <td>-0.150681</td>\n",
       "      <td>-0.061869</td>\n",
       "      <td>-0.063698</td>\n",
       "      <td>-0.032968</td>\n",
       "      <td>0.137173</td>\n",
       "      <td>-0.108547</td>\n",
       "      <td>-0.127794</td>\n",
       "      <td>-0.140206</td>\n",
       "    </tr>\n",
       "    <tr>\n",
       "      <th>2760</th>\n",
       "      <td>0</td>\n",
       "      <td>-0.292317</td>\n",
       "      <td>-0.088053</td>\n",
       "      <td>-0.155929</td>\n",
       "      <td>-0.078747</td>\n",
       "      <td>-0.008346</td>\n",
       "      <td>-0.612699</td>\n",
       "      <td>-0.018469</td>\n",
       "      <td>0.058029</td>\n",
       "      <td>0.168354</td>\n",
       "      <td>...</td>\n",
       "      <td>-0.233233</td>\n",
       "      <td>-0.094898</td>\n",
       "      <td>-0.136914</td>\n",
       "      <td>-0.050661</td>\n",
       "      <td>-0.069293</td>\n",
       "      <td>-0.032968</td>\n",
       "      <td>0.390319</td>\n",
       "      <td>-0.132626</td>\n",
       "      <td>-0.437089</td>\n",
       "      <td>-0.204656</td>\n",
       "    </tr>\n",
       "    <tr>\n",
       "      <th>2761</th>\n",
       "      <td>0</td>\n",
       "      <td>-3.255907</td>\n",
       "      <td>-0.127213</td>\n",
       "      <td>-1.357117</td>\n",
       "      <td>-0.062037</td>\n",
       "      <td>-0.008346</td>\n",
       "      <td>-0.223733</td>\n",
       "      <td>-0.018469</td>\n",
       "      <td>-2.681626</td>\n",
       "      <td>1.033450</td>\n",
       "      <td>...</td>\n",
       "      <td>0.017265</td>\n",
       "      <td>0.215606</td>\n",
       "      <td>0.145441</td>\n",
       "      <td>-0.128523</td>\n",
       "      <td>-0.001523</td>\n",
       "      <td>-0.032968</td>\n",
       "      <td>0.912434</td>\n",
       "      <td>-0.134080</td>\n",
       "      <td>-0.318130</td>\n",
       "      <td>-0.117004</td>\n",
       "    </tr>\n",
       "    <tr>\n",
       "      <th>2762</th>\n",
       "      <td>0</td>\n",
       "      <td>-0.426664</td>\n",
       "      <td>0.113770</td>\n",
       "      <td>1.765566</td>\n",
       "      <td>-0.081134</td>\n",
       "      <td>-0.008346</td>\n",
       "      <td>0.503462</td>\n",
       "      <td>-0.018469</td>\n",
       "      <td>0.564050</td>\n",
       "      <td>0.912864</td>\n",
       "      <td>...</td>\n",
       "      <td>-0.171522</td>\n",
       "      <td>-0.105994</td>\n",
       "      <td>-0.143590</td>\n",
       "      <td>-0.181396</td>\n",
       "      <td>-0.189169</td>\n",
       "      <td>-0.032968</td>\n",
       "      <td>0.801683</td>\n",
       "      <td>-0.135761</td>\n",
       "      <td>-0.460881</td>\n",
       "      <td>-0.212390</td>\n",
       "    </tr>\n",
       "  </tbody>\n",
       "</table>\n",
       "<p>5 rows × 71 columns</p>\n",
       "</div>"
      ],
      "text/plain": [
       "      futchangeNPM  indret_vw  dpr_Mean  PEG_trailing_Mean   bm_Mean  \\\n",
       "2758             0  -0.710566  0.110210           0.425728 -0.131946   \n",
       "2759             1   0.297750 -0.154050          -0.511686 -0.192648   \n",
       "2760             0  -0.292317 -0.088053          -0.155929 -0.078747   \n",
       "2761             0  -3.255907 -0.127213          -1.357117 -0.062037   \n",
       "2762             0  -0.426664  0.113770           1.765566 -0.081134   \n",
       "\n",
       "      CAPEI_Mean  divyield_Mean  evm_Mean  pcf_Mean  pe_exi_Mean  ...  \\\n",
       "2758   -0.008346      -0.967841 -0.018469  0.375753     0.665602  ...   \n",
       "2759   -0.008346      -0.798725 -0.018469  1.261768    -0.297461  ...   \n",
       "2760   -0.008346      -0.612699 -0.018469  0.058029     0.168354  ...   \n",
       "2761   -0.008346      -0.223733 -0.018469 -2.681626     1.033450  ...   \n",
       "2762   -0.008346       0.503462 -0.018469  0.564050     0.912864  ...   \n",
       "\n",
       "      inv_turn_Mean  pay_turn_Mean  rect_turn_Mean  sale_equity_Mean  \\\n",
       "2758      -0.153202      -0.042289       -0.157772         -0.011799   \n",
       "2759      -0.158129      -0.064404       -0.150681         -0.061869   \n",
       "2760      -0.233233      -0.094898       -0.136914         -0.050661   \n",
       "2761       0.017265       0.215606        0.145441         -0.128523   \n",
       "2762      -0.171522      -0.105994       -0.143590         -0.181396   \n",
       "\n",
       "      sale_invcap_Mean  sale_nwc_Mean  accrual_Mean  rd_sale_Mean  \\\n",
       "2758         -0.010953      -0.032968      0.532714     25.160690   \n",
       "2759         -0.063698      -0.032968      0.137173     -0.108547   \n",
       "2760         -0.069293      -0.032968      0.390319     -0.132626   \n",
       "2761         -0.001523      -0.032968      0.912434     -0.134080   \n",
       "2762         -0.189169      -0.032968      0.801683     -0.135761   \n",
       "\n",
       "      adv_sale_Mean  staff_sale_Mean  \n",
       "2758       0.038749        -0.052555  \n",
       "2759      -0.127794        -0.140206  \n",
       "2760      -0.437089        -0.204656  \n",
       "2761      -0.318130        -0.117004  \n",
       "2762      -0.460881        -0.212390  \n",
       "\n",
       "[5 rows x 71 columns]"
      ]
     },
     "execution_count": 7,
     "metadata": {},
     "output_type": "execute_result"
    }
   ],
   "source": [
    "TT=pd.concat([df_ratios['futchangeNPM'],df_ratios_new],axis=1)\n",
    "TT.shape\n",
    "TT.tail()"
   ]
  },
  {
   "cell_type": "code",
   "execution_count": 8,
   "id": "da45251b",
   "metadata": {},
   "outputs": [],
   "source": [
    "Train, Test = train_test_split(TT, test_size=0.25, random_state=42)\n",
    "X_train, y_train = Train.iloc[:,1:71], Train.iloc[:,0] ### choose the 70 features excluding futchangeNPM\n",
    "X_test, y_test = Test.iloc[:,1:71], Test.iloc[:,0]"
   ]
  },
  {
   "cell_type": "code",
   "execution_count": 9,
   "id": "fc4b2b79",
   "metadata": {
    "scrolled": true
   },
   "outputs": [
    {
     "data": {
      "text/plain": [
       "((2072, 70), (2072,), (691, 70), (691,))"
      ]
     },
     "execution_count": 9,
     "metadata": {},
     "output_type": "execute_result"
    }
   ],
   "source": [
    "X_train.shape, y_train.shape, X_test.shape, y_test.shape"
   ]
  },
  {
   "cell_type": "markdown",
   "id": "3ed0ffec",
   "metadata": {},
   "source": [
    "# Random Forest"
   ]
  },
  {
   "cell_type": "code",
   "execution_count": 10,
   "id": "d95e758e",
   "metadata": {},
   "outputs": [
    {
     "name": "stdout",
     "output_type": "stream",
     "text": [
      "RF Accuracy: 0.5412445730824892\n"
     ]
    }
   ],
   "source": [
    "# Random Forest\n",
    "from sklearn.ensemble import RandomForestClassifier\n",
    "\n",
    "RF_model = RandomForestClassifier(n_estimators=500, random_state=1, max_features=\"sqrt\", max_depth=34)\n",
    "### default n_estimators/trees = 100; default criterion = 'gini' \n",
    "### max_features default case is \"sqrt\"; unlike DecisionTree Classifier where default case = \"none\"\n",
    "### If max_depth=None, then nodes are expanded until all leaves are pure or until all leaves contain less than \n",
    "###   min_samples_split samples -- usu 2\n",
    "### bootsrapping - bagging, default=true\n",
    "### oob_scorebool, default=False -- Whether to use out-of-bag samples to estimate the generalization score. \n",
    "###    Only available if bootstrap=True.\n",
    "RF_model.fit(X_train,y_train)\n",
    "\n",
    "y_pred_RF = RF_model.predict(X_test)\n",
    "Accuracy_RF = metrics.accuracy_score(y_test, y_pred_RF)\n",
    "print(\"RF Accuracy:\",Accuracy_RF)"
   ]
  },
  {
   "cell_type": "code",
   "execution_count": 11,
   "id": "333fa017",
   "metadata": {},
   "outputs": [
    {
     "name": "stdout",
     "output_type": "stream",
     "text": [
      "[[259 133]\n",
      " [184 115]]\n"
     ]
    }
   ],
   "source": [
    "from sklearn.metrics import confusion_matrix\n",
    "confusion_matrix = confusion_matrix(y_test, y_pred_RF)\n",
    "print(confusion_matrix)"
   ]
  },
  {
   "cell_type": "code",
   "execution_count": 12,
   "id": "ae36fc97",
   "metadata": {},
   "outputs": [
    {
     "name": "stdout",
     "output_type": "stream",
     "text": [
      "              precision    recall  f1-score   support\n",
      "\n",
      "           0       0.58      0.66      0.62       392\n",
      "           1       0.46      0.38      0.42       299\n",
      "\n",
      "    accuracy                           0.54       691\n",
      "   macro avg       0.52      0.52      0.52       691\n",
      "weighted avg       0.53      0.54      0.53       691\n",
      "\n"
     ]
    }
   ],
   "source": [
    "from sklearn.metrics import classification_report\n",
    "print(classification_report(y_test, y_pred_RF))"
   ]
  },
  {
   "cell_type": "code",
   "execution_count": 13,
   "id": "adc5feb0",
   "metadata": {},
   "outputs": [
    {
     "data": {
      "text/plain": [
       "0.5209797966009145"
      ]
     },
     "execution_count": 13,
     "metadata": {},
     "output_type": "execute_result"
    }
   ],
   "source": [
    "import sklearn.metrics as metrics\n",
    "# calculate the fpr and tpr for all thresholds of the classification\n",
    "preds_RF = RF_model.predict_proba(X_test)[:,1]\n",
    "\n",
    "fpr, tpr, thresholds = metrics.roc_curve(y_test, preds_RF)  \n",
    "    ### matches y_test of 1's and 0's versus pred prob of 1's for each of the 508 test cases\n",
    "    ###    sklearn.metrics.roc_curve(y_true, y_score,...) requires y_true as 0,1 input and y_score as prob inputs\n",
    "    ###    this metrics.roc_curve returns fpr, tpr, thresholds (Decreasing thresholds used to compute fpr and tpr)\n",
    "roc_auc_RF = metrics.auc(fpr, tpr)\n",
    "    ### sklearn.metrics.auc(fpr,tpr) returns AUC using trapezoidal rule\n",
    "roc_auc_RF"
   ]
  },
  {
   "cell_type": "code",
   "execution_count": 14,
   "id": "c6ce43b5",
   "metadata": {},
   "outputs": [
    {
     "data": {
      "image/png": "[encoded data removed]",
      "text/plain": [
       "<Figure size 640x480 with 1 Axes>"
      ]
     },
     "metadata": {},
     "output_type": "display_data"
    }
   ],
   "source": [
    "import matplotlib.pyplot as plt\n",
    "plt.title('Receiver Operating Characteristic')\n",
    "plt.plot(fpr, tpr, 'b', label = 'AUC = %0.2f' % roc_auc_RF)\n",
    "plt.legend(loc = 'lower right')\n",
    "plt.plot([0, 1], [0, 1],'r--')\n",
    "plt.xlim([0, 1])\n",
    "plt.ylim([0, 1])\n",
    "plt.ylabel('True Positive Rate')\n",
    "plt.xlabel('False Positive Rate')\n",
    "plt.show()"
   ]
  },
  {
   "cell_type": "markdown",
   "id": "fa3a6ca1",
   "metadata": {},
   "source": [
    "## Gradient Boosting\n"
   ]
  },
  {
   "cell_type": "code",
   "execution_count": 15,
   "id": "4f64f68c",
   "metadata": {},
   "outputs": [
    {
     "name": "stdout",
     "output_type": "stream",
     "text": [
      "GB Accuracy: 0.516642547033285\n"
     ]
    }
   ],
   "source": [
    "# Gradient Boosting Classifier\n",
    "from sklearn.ensemble import GradientBoostingClassifier\n",
    "### criterion='gini'\n",
    "### min_samples_splitint or float, default=2\n",
    "### min_samples_leafint or float, default=1 (The minimum number of samples required to be at a leaf node)\n",
    "### sample_wt is same as min_sample on leaf except this is wt x total sample. Default -- equal weight \n",
    "### max_depth, default=3, maximum depth of the individual regression estimators --limits the number of nodes in the tree. \n",
    "###   Tune this parameter for best performance;\n",
    "### min_impurity_decreasefloat, default=0.0, a node will be split if this split induces a decrease of the impurity > value\n",
    "### random_stateint, RandomState instance or None, default=None, controls the random seed given to each Tree estimator \n",
    "###   at each boosting iteration. In addition, it controls the random permutation of the features at each split \n",
    "###   It also controls the random splitting of the training data to obtain a validation set if n_iter_no_change is not None. \n",
    "\n",
    "GB_model = GradientBoostingClassifier(n_estimators=500, random_state=1, max_features=\"sqrt\", learning_rate=0.055,max_depth=24)\n",
    "GB_model.fit(X_train, y_train)\n",
    "\n",
    "y_pred_GB = GB_model.predict(X_test)\n",
    "Accuracy_GB = metrics.accuracy_score(y_test, y_pred_GB)\n",
    "print(\"GB Accuracy:\",Accuracy_GB)"
   ]
  },
  {
   "cell_type": "code",
   "execution_count": 16,
   "id": "99cbf7b0",
   "metadata": {},
   "outputs": [
    {
     "name": "stdout",
     "output_type": "stream",
     "text": [
      "[[239 153]\n",
      " [181 118]]\n"
     ]
    }
   ],
   "source": [
    "from sklearn.metrics import confusion_matrix\n",
    "confusion_matrix = confusion_matrix(y_test, y_pred_GB)\n",
    "print(confusion_matrix)"
   ]
  },
  {
   "cell_type": "code",
   "execution_count": 17,
   "id": "17f23199",
   "metadata": {},
   "outputs": [
    {
     "name": "stdout",
     "output_type": "stream",
     "text": [
      "              precision    recall  f1-score   support\n",
      "\n",
      "           0       0.57      0.61      0.59       392\n",
      "           1       0.44      0.39      0.41       299\n",
      "\n",
      "    accuracy                           0.52       691\n",
      "   macro avg       0.50      0.50      0.50       691\n",
      "weighted avg       0.51      0.52      0.51       691\n",
      "\n"
     ]
    }
   ],
   "source": [
    "from sklearn.metrics import classification_report\n",
    "print(classification_report(y_test, y_pred_GB))"
   ]
  },
  {
   "cell_type": "code",
   "execution_count": 18,
   "id": "097a64d8",
   "metadata": {},
   "outputs": [
    {
     "data": {
      "text/plain": [
       "0.512900143334926"
      ]
     },
     "execution_count": 18,
     "metadata": {},
     "output_type": "execute_result"
    }
   ],
   "source": [
    "import sklearn.metrics as metrics\n",
    "# calculate the fpr and tpr for all thresholds of the classification\n",
    "preds_GB = GB_model.predict_proba(X_test)[:,1]\n",
    "\n",
    "fpr, tpr, thresholds = metrics.roc_curve(y_test, preds_GB)  \n",
    "    ### matches y_test of 1's and 0's versus pred prob of 1's for each of the 508 test cases\n",
    "    ###    sklearn.metrics.roc_curve(y_true, y_score,...) requires y_true as 0,1 input and y_score as prob inputs\n",
    "    ###    this metrics.roc_curve returns fpr, tpr, thresholds (Decreasing thresholds used to compute fpr and tpr)\n",
    "roc_auc_GB = metrics.auc(fpr, tpr)\n",
    "    ### sklearn.metrics.auc(fpr,tpr) returns AUC using trapezoidal rule\n",
    "roc_auc_GB"
   ]
  },
  {
   "cell_type": "code",
   "execution_count": 19,
   "id": "e95ae764",
   "metadata": {},
   "outputs": [
    {
     "data": {
      "image/png": "[encoded data removed]",
      "text/plain": [
       "<Figure size 640x480 with 1 Axes>"
      ]
     },
     "metadata": {},
     "output_type": "display_data"
    }
   ],
   "source": [
    "import matplotlib.pyplot as plt\n",
    "plt.title('Receiver Operating Characteristic')\n",
    "plt.plot(fpr, tpr, 'b', label = 'AUC = %0.2f' % roc_auc_GB)\n",
    "plt.legend(loc = 'lower right')\n",
    "plt.plot([0, 1], [0, 1],'r--')\n",
    "plt.xlim([0, 1])\n",
    "plt.ylim([0, 1])\n",
    "plt.ylabel('True Positive Rate')\n",
    "plt.xlabel('False Positive Rate')\n",
    "plt.show()"
   ]
  },
  {
   "cell_type": "code",
   "execution_count": 21,
   "id": "54a39129",
   "metadata": {},
   "outputs": [
    {
     "name": "stdout",
     "output_type": "stream",
     "text": [
      "Requirement already satisfied: lightgbm in c:\\users\\kglim\\anaconda3\\lib\\site-packages (4.0.0)"
     ]
    },
    {
     "name": "stderr",
     "output_type": "stream",
     "text": [
      "\n",
      "[notice] A new release of pip is available: 23.2.1 -> 23.3.1\n",
      "[notice] To update, run: python.exe -m pip install --upgrade pip\n"
     ]
    },
    {
     "name": "stdout",
     "output_type": "stream",
     "text": [
      "\n",
      "Requirement already satisfied: numpy in c:\\users\\kglim\\anaconda3\\lib\\site-packages (from lightgbm) (1.21.5)\n",
      "Requirement already satisfied: scipy in c:\\users\\kglim\\anaconda3\\lib\\site-packages (from lightgbm) (1.9.1)\n"
     ]
    }
   ],
   "source": [
    "# Light GBM\n",
    "#pip install --upgrade pip\n",
    "!pip3 install lightgbm"
   ]
  },
  {
   "cell_type": "code",
   "execution_count": 22,
   "id": "1129d750",
   "metadata": {},
   "outputs": [],
   "source": [
    "import lightgbm as lgb\n",
    "from lightgbm.sklearn import LGBMClassifier"
   ]
  },
  {
   "cell_type": "code",
   "execution_count": 23,
   "id": "351daef0",
   "metadata": {},
   "outputs": [
    {
     "name": "stdout",
     "output_type": "stream",
     "text": [
      "[LightGBM] [Info] Number of positive: 840, number of negative: 1232\n",
      "[LightGBM] [Warning] Auto-choosing col-wise multi-threading, the overhead of testing was 0.000738 seconds.\n",
      "You can set `force_col_wise=true` to remove the overhead.\n",
      "[LightGBM] [Info] Total Bins 17430\n",
      "[LightGBM] [Info] Number of data points in the train set: 2072, number of used features: 70\n",
      "[LightGBM] [Info] [binary:BoostFromScore]: pavg=0.405405 -> initscore=-0.382992\n",
      "[LightGBM] [Info] Start training from score -0.382992\n",
      "[0 0 1 0 0 0 0 0 1 1 1 0 1 0 0 0 1 0 1 1 1 0 0 1 0 0 0 0 0 1 1 0 0 1 0 1 0\n",
      " 0 0 0 1 1 1 0 0 1 0 1 0 0 1 0 0 1 0 0 0 0 0 0 1 1 0 0 0 0 1 1 0 1 0 0 1 1\n",
      " 0 1 0 1 0 1 0 0 1 0 0 0 0 0 0 0 0 0 0 0 0 1 1 1 0 0 0 0 0 0 0 0 0 0 1 0 1\n",
      " 1 0 0 1 1 0 1 0 1 0 0 0 1 0 1 1 1 1 0 0 1 1 1 0 0 1 0 0 1 0 0 0 0 0 1 0 1\n",
      " 0 0 0 0 0 0 0 0 0 0 0 0 0 1 0 0 1 0 0 0 0 1 0 0 1 0 0 1 0 1 1 0 0 1 0 0 0\n",
      " 0 1 1 0 1 0 0 0 1 0 0 0 0 1 0 1 0 1 0 0 0 1 0 0 0 0 1 0 0 0 0 0 1 1 0 0 0\n",
      " 1 0 0 0 0 1 0 1 0 0 0 0 1 0 1 1 0 0 1 0 0 0 0 1 0 1 0 0 0 1 1 1 0 1 1 0 1\n",
      " 0 0 0 1 0 0 1 0 0 0 0 0 0 1 0 1 0 0 0 1 1 0 1 0 1 0 0 0 0 1 0 1 0 1 1 0 0\n",
      " 0 0 1 0 0 0 1 0 1 0 1 1 0 0 1 1 1 0 0 1 0 1 1 1 0 0 0 0 0 0 0 0 0 0 1 1 0\n",
      " 0 1 0 0 0 1 0 1 0 0 0 0 1 0 1 0 0 0 0 0 1 0 0 0 0 0 0 1 0 0 0 1 0 0 0 1 0\n",
      " 0 1 1 0 1 0 1 1 1 0 0 0 0 0 0 0 1 0 0 0 0 0 1 1 1 0 0 0 1 1 0 0 1 1 0 0 1\n",
      " 0 0 0 0 1 0 1 0 0 0 0 0 0 1 1 0 1 0 0 1 0 0 1 0 0 0 1 1 0 0 0 1 0 0 1 1 0\n",
      " 1 1 1 0 0 1 0 0 1 0 1 0 0 0 0 1 0 0 0 0 0 1 0 0 0 0 0 1 0 0 1 0 0 1 0 0 0\n",
      " 0 0 0 1 1 0 0 0 1 0 1 0 1 0 0 1 1 0 1 0 0 1 0 0 0 0 0 0 1 1 0 1 1 1 0 0 0\n",
      " 1 1 0 0 0 0 0 1 0 1 0 0 0 0 0 0 0 0 0 0 0 0 0 1 0 0 1 1 0 1 1 0 0 1 0 1 0\n",
      " 1 1 0 0 0 1 0 1 1 1 0 0 0 0 0 0 0 1 1 0 0 1 0 0 1 0 0 0 1 0 0 1 0 1 1 0 0\n",
      " 1 0 0 0 0 0 0 0 1 0 0 0 0 1 0 1 1 0 0 0 0 0 0 0 1 0 1 1 1 0 1 1 1 1 0 0 0\n",
      " 1 1 0 0 0 0 1 0 1 0 0 1 0 1 0 1 0 0 0 0 1 0 0 0 0 0 0 0 0 0 0 0 0 1 0 1 1\n",
      " 0 1 0 0 1 1 0 0 1 1 0 1 1 1 0 0 1 1 0 1 0 1 0 0 1]\n",
      "0.557163531114327\n"
     ]
    }
   ],
   "source": [
    "# Creating an object for model and fitting it on training data set\n",
    "model = LGBMClassifier(learning_rate=0.1)\n",
    "model.fit(X_train, y_train)\n",
    " \n",
    "# Predicting the Target variable\n",
    "predLGBM = model.predict(X_test)\n",
    "print(predLGBM)\n",
    "accuracy = model.score(X_test, y_test)\n",
    "print(accuracy)"
   ]
  },
  {
   "cell_type": "code",
   "execution_count": 24,
   "id": "f9ef5969",
   "metadata": {},
   "outputs": [
    {
     "name": "stdout",
     "output_type": "stream",
     "text": [
      "[[270 122]\n",
      " [184 115]]\n"
     ]
    }
   ],
   "source": [
    "from sklearn.metrics import confusion_matrix\n",
    "confusion_matrix = confusion_matrix(y_test, predLGBM)\n",
    "print(confusion_matrix)"
   ]
  },
  {
   "cell_type": "code",
   "execution_count": 25,
   "id": "120a2aa2",
   "metadata": {},
   "outputs": [
    {
     "name": "stdout",
     "output_type": "stream",
     "text": [
      "              precision    recall  f1-score   support\n",
      "\n",
      "           0       0.59      0.69      0.64       392\n",
      "           1       0.49      0.38      0.43       299\n",
      "\n",
      "    accuracy                           0.56       691\n",
      "   macro avg       0.54      0.54      0.53       691\n",
      "weighted avg       0.55      0.56      0.55       691\n",
      "\n"
     ]
    }
   ],
   "source": [
    "from sklearn.metrics import classification_report\n",
    "print(classification_report(y_test, predLGBM))"
   ]
  },
  {
   "cell_type": "code",
   "execution_count": 26,
   "id": "cf9e5525",
   "metadata": {},
   "outputs": [
    {
     "data": {
      "text/plain": [
       "0.5216964712306327"
      ]
     },
     "execution_count": 26,
     "metadata": {},
     "output_type": "execute_result"
    }
   ],
   "source": [
    "import sklearn.metrics as metrics\n",
    "# calculate the fpr and tpr for all thresholds of the classification\n",
    "preds_LGBM = model.predict_proba(X_test)[:,1]\n",
    "\n",
    "fpr, tpr, thresholds = metrics.roc_curve(y_test, preds_LGBM)  \n",
    "    ### matches y_test of 1's and 0's versus pred prob of 1's for each of the 508 test cases\n",
    "    ###    sklearn.metrics.roc_curve(y_true, y_score,...) requires y_true as 0,1 input and y_score as prob inputs\n",
    "    ###    this metrics.roc_curve returns fpr, tpr, thresholds (Decreasing thresholds used to compute fpr and tpr)\n",
    "roc_auc_LGBM = metrics.auc(fpr, tpr)\n",
    "    ### sklearn.metrics.auc(fpr,tpr) returns AUC using trapezoidal rule\n",
    "roc_auc_LGBM"
   ]
  },
  {
   "cell_type": "code",
   "execution_count": 27,
   "id": "c79e0e76",
   "metadata": {},
   "outputs": [
    {
     "data": {
      "image/png": "[encoded data removed]",
      "text/plain": [
       "<Figure size 640x480 with 1 Axes>"
      ]
     },
     "metadata": {},
     "output_type": "display_data"
    }
   ],
   "source": [
    "import matplotlib.pyplot as plt\n",
    "plt.title('Receiver Operating Characteristic')\n",
    "plt.plot(fpr, tpr, 'b', label = 'AUC = %0.2f' % roc_auc_LGBM)\n",
    "plt.legend(loc = 'lower right')\n",
    "plt.plot([0, 1], [0, 1],'r--')\n",
    "plt.xlim([0, 1])\n",
    "plt.ylim([0, 1])\n",
    "plt.ylabel('True Positive Rate')\n",
    "plt.xlabel('False Positive Rate')\n",
    "plt.show()"
   ]
  },
  {
   "cell_type": "code",
   "execution_count": 28,
   "id": "2280ed0b",
   "metadata": {},
   "outputs": [
    {
     "name": "stdout",
     "output_type": "stream",
     "text": [
      "LR Accuracy: 0.5513748191027497\n"
     ]
    }
   ],
   "source": [
    "# Logistic Regression\n",
    "from sklearn.linear_model import LogisticRegression\n",
    "LR = LogisticRegression(random_state=1, \n",
    "                        multi_class='multinomial',\n",
    "                        solver='newton-cg')\n",
    "LR = LR.fit(X_train, y_train)\n",
    "\n",
    "y_pred_LR = LR.predict(X_test)\n",
    "Accuracy_LR = metrics.accuracy_score(y_test, y_pred_LR)\n",
    "print(\"LR Accuracy:\",Accuracy_LR)\n",
    "### recall in last chapter3 -- using statsmodel has issues in convergence with features have very high multicollinearity\n",
    "###   in that case, we reduce to 38 features and obtain via statsmodel and also sklearn accuracy of about 55.7% but similar AUC\n",
    "###   of just above 50%. sklearn LogisticReg with multi-class ='multinomial' and solver='newton-cg' seems more effective in \n",
    "###   handling flat surfaces and does not produce non-convergence red flag here when all 70 features are used"
   ]
  },
  {
   "cell_type": "code",
   "execution_count": 29,
   "id": "23070f05",
   "metadata": {},
   "outputs": [
    {
     "name": "stdout",
     "output_type": "stream",
     "text": [
      "[[343  49]\n",
      " [261  38]]\n"
     ]
    }
   ],
   "source": [
    "from sklearn.metrics import confusion_matrix\n",
    "confusion_matrix = confusion_matrix(y_test, y_pred_LR)\n",
    "print(confusion_matrix)"
   ]
  },
  {
   "cell_type": "code",
   "execution_count": 30,
   "id": "4f879aa2",
   "metadata": {},
   "outputs": [
    {
     "name": "stdout",
     "output_type": "stream",
     "text": [
      "              precision    recall  f1-score   support\n",
      "\n",
      "           0       0.57      0.88      0.69       392\n",
      "           1       0.44      0.13      0.20       299\n",
      "\n",
      "    accuracy                           0.55       691\n",
      "   macro avg       0.50      0.50      0.44       691\n",
      "weighted avg       0.51      0.55      0.48       691\n",
      "\n"
     ]
    }
   ],
   "source": [
    "from sklearn.metrics import classification_report\n",
    "print(classification_report(y_test, y_pred_LR))"
   ]
  },
  {
   "cell_type": "code",
   "execution_count": 31,
   "id": "2a70cd9d",
   "metadata": {},
   "outputs": [
    {
     "data": {
      "text/plain": [
       "0.5146577025459013"
      ]
     },
     "execution_count": 31,
     "metadata": {},
     "output_type": "execute_result"
    }
   ],
   "source": [
    "import sklearn.metrics as metrics\n",
    "# calculate the fpr and tpr for all thresholds of the classification\n",
    "preds_LR = LR.predict_proba(X_test)[:,1]\n",
    "\n",
    "fpr, tpr, thresholds = metrics.roc_curve(y_test, preds_LR)  \n",
    "    ### matches y_test of 1's and 0's versus pred prob of 1's for each of the 508 test cases\n",
    "    ###    sklearn.metrics.roc_curve(y_true, y_score,...) requires y_true as 0,1 input and y_score as prob inputs\n",
    "    ###    this metrics.roc_curve returns fpr, tpr, thresholds (Decreasing thresholds used to compute fpr and tpr)\n",
    "roc_auc_LR = metrics.auc(fpr, tpr)\n",
    "    ### sklearn.metrics.auc(fpr,tpr) returns AUC using trapezoidal rule\n",
    "roc_auc_LR"
   ]
  },
  {
   "cell_type": "code",
   "execution_count": 32,
   "id": "b043d449",
   "metadata": {},
   "outputs": [
    {
     "data": {
      "image/png": "[encoded data removed]",
      "text/plain": [
       "<Figure size 640x480 with 1 Axes>"
      ]
     },
     "metadata": {},
     "output_type": "display_data"
    }
   ],
   "source": [
    "import matplotlib.pyplot as plt\n",
    "plt.title('Receiver Operating Characteristic')\n",
    "plt.plot(fpr, tpr, 'b', label = 'AUC = %0.2f' % roc_auc_LR)\n",
    "plt.legend(loc = 'lower right')\n",
    "plt.plot([0, 1], [0, 1],'r--')\n",
    "plt.xlim([0, 1])\n",
    "plt.ylim([0, 1])\n",
    "plt.ylabel('True Positive Rate')\n",
    "plt.xlabel('False Positive Rate')\n",
    "plt.show()"
   ]
  },
  {
   "cell_type": "markdown",
   "id": "4e0d4542",
   "metadata": {},
   "source": [
    "## Make comparison"
   ]
  },
  {
   "cell_type": "code",
   "execution_count": 33,
   "id": "f60b6a07",
   "metadata": {},
   "outputs": [
    {
     "data": {
      "text/html": [
       "<div>\n",
       "<style scoped>\n",
       "    .dataframe tbody tr th:only-of-type {\n",
       "        vertical-align: middle;\n",
       "    }\n",
       "\n",
       "    .dataframe tbody tr th {\n",
       "        vertical-align: top;\n",
       "    }\n",
       "\n",
       "    .dataframe thead th {\n",
       "        text-align: right;\n",
       "    }\n",
       "</style>\n",
       "<table border=\"1\" class=\"dataframe\">\n",
       "  <thead>\n",
       "    <tr style=\"text-align: right;\">\n",
       "      <th></th>\n",
       "      <th>Model</th>\n",
       "      <th>AUC</th>\n",
       "    </tr>\n",
       "  </thead>\n",
       "  <tbody>\n",
       "    <tr>\n",
       "      <th>0</th>\n",
       "      <td>Random Forest</td>\n",
       "      <td>0.520980</td>\n",
       "    </tr>\n",
       "    <tr>\n",
       "      <th>1</th>\n",
       "      <td>Gradient Boosting</td>\n",
       "      <td>0.512900</td>\n",
       "    </tr>\n",
       "    <tr>\n",
       "      <th>2</th>\n",
       "      <td>Light GBM</td>\n",
       "      <td>0.521696</td>\n",
       "    </tr>\n",
       "    <tr>\n",
       "      <th>3</th>\n",
       "      <td>Logistic Regression</td>\n",
       "      <td>0.514658</td>\n",
       "    </tr>\n",
       "  </tbody>\n",
       "</table>\n",
       "</div>"
      ],
      "text/plain": [
       "                 Model       AUC\n",
       "0        Random Forest  0.520980\n",
       "1    Gradient Boosting  0.512900\n",
       "2            Light GBM  0.521696\n",
       "3  Logistic Regression  0.514658"
      ]
     },
     "execution_count": 33,
     "metadata": {},
     "output_type": "execute_result"
    }
   ],
   "source": [
    "AUC_list = [roc_auc_RF, roc_auc_GB, roc_auc_LGBM, roc_auc_LR]\n",
    "model_list = ['Random Forest', 'Gradient Boosting', 'Light GBM', 'Logistic Regression']\n",
    "df_AUC= pd.DataFrame({'Model': model_list, 'AUC': AUC_list})\n",
    "df_AUC"
   ]
  },
  {
   "cell_type": "code",
   "execution_count": 34,
   "id": "8e2ddbd0",
   "metadata": {},
   "outputs": [
    {
     "data": {
      "image/png": "[encoded data removed]",
      "text/plain": [
       "<Figure size 1000x700 with 1 Axes>"
      ]
     },
     "metadata": {},
     "output_type": "display_data"
    }
   ],
   "source": [
    "order = list(df_AUC.sort_values('AUC', ascending=False).Model)\n",
    "df_AUC = df_AUC.sort_values('AUC', ascending=False).reset_index().drop(['index'], axis=1)\n",
    "\n",
    "plt.figure(figsize=(10,7))\n",
    "# make barplot and sort bars\n",
    "x = sns.barplot(x='Model', y=\"AUC\", \n",
    "                data=df_AUC, \n",
    "                order = order, \n",
    "                palette=\"Blues_r\")\n",
    "\n",
    "plt.xlabel(\"Model\", fontsize=20)\n",
    "plt.ylabel(\"AUC\", fontsize=20)\n",
    "plt.title(\"AUC by Model\", fontsize=20)\n",
    "plt.grid(linestyle='-', linewidth='0.5', color='grey')\n",
    "plt.xticks(rotation=70, fontsize=12)\n",
    "plt.ylim(0,1)\n",
    "plt.gca().yaxis.set_major_formatter(mtick.PercentFormatter(1))\n",
    "\n",
    "for i in range(len(model_list)):\n",
    "    plt.text(x = i, y = df_AUC.loc[i, 'AUC'] + 0.05, \n",
    "             s = str(round((df_AUC.loc[i, 'AUC'])*100, 2))+'%', \n",
    "             fontsize = 14, \n",
    "             color='black',\n",
    "             horizontalalignment='center')\n",
    "\n",
    "plt.tight_layout()\n"
   ]
  },
  {
   "cell_type": "code",
   "execution_count": null,
   "id": "a8689dcd",
   "metadata": {},
   "outputs": [],
   "source": []
  }
 ],
 "metadata": {
  "kernelspec": {
   "display_name": "Python 3 (ipykernel)",
   "language": "python",
   "name": "python3"
  },
  "language_info": {
   "codemirror_mode": {
    "name": "ipython",
    "version": 3
   },
   "file_extension": ".py",
   "mimetype": "text/x-python",
   "name": "python",
   "nbconvert_exporter": "python",
   "pygments_lexer": "ipython3",
   "version": "3.9.13"
  }
 },
 "nbformat": 4,
 "nbformat_minor": 5
}
