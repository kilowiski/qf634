{
 "cells": [
  {
   "cell_type": "code",
   "execution_count": 1,
   "id": "0ccc5b00",
   "metadata": {},
   "outputs": [],
   "source": [
    "### This module uses Stacked LSTM 50 units and 100 epochs to predict Google stock prices from Yahoo Finance, epochs = 100\n",
    "import numpy as np\n",
    "import matplotlib.pyplot as plt\n",
    "import pandas as pd"
   ]
  },
  {
   "cell_type": "code",
   "execution_count": 2,
   "id": "179853b9",
   "metadata": {},
   "outputs": [
    {
     "data": {
      "text/html": [
       "<div>\n",
       "<style scoped>\n",
       "    .dataframe tbody tr th:only-of-type {\n",
       "        vertical-align: middle;\n",
       "    }\n",
       "\n",
       "    .dataframe tbody tr th {\n",
       "        vertical-align: top;\n",
       "    }\n",
       "\n",
       "    .dataframe thead th {\n",
       "        text-align: right;\n",
       "    }\n",
       "</style>\n",
       "<table border=\"1\" class=\"dataframe\">\n",
       "  <thead>\n",
       "    <tr style=\"text-align: right;\">\n",
       "      <th></th>\n",
       "      <th>Date</th>\n",
       "      <th>Open</th>\n",
       "      <th>High</th>\n",
       "      <th>Low</th>\n",
       "      <th>Close</th>\n",
       "      <th>Adj Close</th>\n",
       "      <th>Volume</th>\n",
       "    </tr>\n",
       "  </thead>\n",
       "  <tbody>\n",
       "    <tr>\n",
       "      <th>0</th>\n",
       "      <td>3/1/2012</td>\n",
       "      <td>16.262545</td>\n",
       "      <td>16.641375</td>\n",
       "      <td>16.248346</td>\n",
       "      <td>16.573130</td>\n",
       "      <td>16.573130</td>\n",
       "      <td>147611217</td>\n",
       "    </tr>\n",
       "    <tr>\n",
       "      <th>1</th>\n",
       "      <td>4/1/2012</td>\n",
       "      <td>16.563665</td>\n",
       "      <td>16.693678</td>\n",
       "      <td>16.453827</td>\n",
       "      <td>16.644611</td>\n",
       "      <td>16.644611</td>\n",
       "      <td>114989399</td>\n",
       "    </tr>\n",
       "    <tr>\n",
       "      <th>2</th>\n",
       "      <td>5/1/2012</td>\n",
       "      <td>16.491436</td>\n",
       "      <td>16.537264</td>\n",
       "      <td>16.344486</td>\n",
       "      <td>16.413727</td>\n",
       "      <td>16.413727</td>\n",
       "      <td>131808205</td>\n",
       "    </tr>\n",
       "    <tr>\n",
       "      <th>3</th>\n",
       "      <td>6/1/2012</td>\n",
       "      <td>16.417213</td>\n",
       "      <td>16.438385</td>\n",
       "      <td>16.184088</td>\n",
       "      <td>16.189817</td>\n",
       "      <td>16.189817</td>\n",
       "      <td>108119746</td>\n",
       "    </tr>\n",
       "    <tr>\n",
       "      <th>4</th>\n",
       "      <td>9/1/2012</td>\n",
       "      <td>16.102144</td>\n",
       "      <td>16.114599</td>\n",
       "      <td>15.472754</td>\n",
       "      <td>15.503389</td>\n",
       "      <td>15.503389</td>\n",
       "      <td>233776981</td>\n",
       "    </tr>\n",
       "  </tbody>\n",
       "</table>\n",
       "</div>"
      ],
      "text/plain": [
       "       Date       Open       High        Low      Close  Adj Close     Volume\n",
       "0  3/1/2012  16.262545  16.641375  16.248346  16.573130  16.573130  147611217\n",
       "1  4/1/2012  16.563665  16.693678  16.453827  16.644611  16.644611  114989399\n",
       "2  5/1/2012  16.491436  16.537264  16.344486  16.413727  16.413727  131808205\n",
       "3  6/1/2012  16.417213  16.438385  16.184088  16.189817  16.189817  108119746\n",
       "4  9/1/2012  16.102144  16.114599  15.472754  15.503389  15.503389  233776981"
      ]
     },
     "execution_count": 2,
     "metadata": {},
     "output_type": "execute_result"
    }
   ],
   "source": [
    "### import training set\n",
    "dataset=pd.read_csv('GOOG.csv')\n",
    "dataset.head()"
   ]
  },
  {
   "cell_type": "code",
   "execution_count": 3,
   "id": "ec43e4b9",
   "metadata": {},
   "outputs": [
    {
     "data": {
      "image/png": "[encoded data removed]",
      "text/plain": [
       "<Figure size 432x288 with 1 Axes>"
      ]
     },
     "metadata": {
      "needs_background": "light"
     },
     "output_type": "display_data"
    }
   ],
   "source": [
    "p=dataset.iloc[0:1259,4:5]\n",
    "plt.plot(p,label=\"Google Price\",linestyle='-')\n",
    "plt.title('Google Stock Price from 3 Jan 2012 till 29 Dec 2016')\n",
    "plt.xlabel('Time')\n",
    "plt.ylabel('Price in $')\n",
    "plt.legend()\n",
    "plt.show()"
   ]
  },
  {
   "cell_type": "code",
   "execution_count": 4,
   "id": "95022efe",
   "metadata": {},
   "outputs": [
    {
     "name": "stdout",
     "output_type": "stream",
     "text": [
      "(1257, 7) (1100, 1) (157, 1)\n",
      "           0\n",
      "0  16.573130\n",
      "1  16.644611\n",
      "2  16.413727\n",
      "3  16.189817\n",
      "4  15.503389               0\n",
      "1095  35.764500\n",
      "1096  35.665501\n",
      "1097  35.541500\n",
      "1098  35.824501\n",
      "1099  35.311501            0\n",
      "0  35.331501\n",
      "1  35.015999\n",
      "2  35.487000\n",
      "3  35.212002\n",
      "4  36.004501              0\n",
      "152  39.563000\n",
      "153  39.495499\n",
      "154  39.577499\n",
      "155  39.252499\n",
      "156  39.139500\n"
     ]
    }
   ],
   "source": [
    "training_set=dataset.iloc[0:1100,4:5].values ### keeps the Adj Close prices\n",
    "trgsset=pd.DataFrame(training_set)\n",
    "\n",
    "test_set=dataset.iloc[1100:1259,4:5].values\n",
    "tstset=pd.DataFrame(test_set)\n",
    "\n",
    "print(dataset.shape, trgsset.shape, tstset.shape)\n",
    "print(trgsset.head(),trgsset.tail(), tstset.head(),tstset.tail())"
   ]
  },
  {
   "cell_type": "code",
   "execution_count": 5,
   "id": "0c17a245",
   "metadata": {},
   "outputs": [
    {
     "data": {
      "text/plain": [
       "(numpy.ndarray, numpy.ndarray)"
      ]
     },
     "execution_count": 5,
     "metadata": {},
     "output_type": "execute_result"
    }
   ],
   "source": [
    "### Feature Scaling\n",
    "from sklearn.preprocessing import MinMaxScaler\n",
    "sc=MinMaxScaler(feature_range=(0,1))\n",
    "training_set_scaled=sc.fit_transform(training_set)\n",
    "test_set_scaled=sc.transform(test_set)\n",
    "type(training_set_scaled), type(test_set_scaled), "
   ]
  },
  {
   "cell_type": "code",
   "execution_count": 6,
   "id": "9902d9ec",
   "metadata": {},
   "outputs": [
    {
     "name": "stdout",
     "output_type": "stream",
     "text": [
      "1100 [[0.10636301]\n",
      " [0.10923305]\n",
      " [0.09996281]\n",
      " ...\n",
      " [0.86796316]\n",
      " [0.87932595]\n",
      " [0.85872846]]\n"
     ]
    }
   ],
   "source": [
    "print(len(training_set_scaled), training_set_scaled)"
   ]
  },
  {
   "cell_type": "code",
   "execution_count": 7,
   "id": "b52dfae0",
   "metadata": {},
   "outputs": [
    {
     "name": "stdout",
     "output_type": "stream",
     "text": [
      "(1040, 60) (1040,)\n"
     ]
    }
   ],
   "source": [
    "### creating data structure with 60 time-steps and 1 output\n",
    "X_train=[]\n",
    "y_train=[]\n",
    "for i in range(60,1100):\n",
    "    X_train.append(training_set_scaled[i-60:i, 0])\n",
    "    y_train.append(training_set_scaled[i, 0])\n",
    "X_train, y_train = np.array(X_train), np.array(y_train)   \n",
    "print(X_train.shape, y_train.shape)\n",
    "X_train=np.reshape(X_train, (X_train.shape[0], X_train.shape[1],1)) \n",
    "### this step converts X_train to 3D from (1040,60) to (1040,60,1) for input to the keras app"
   ]
  },
  {
   "cell_type": "code",
   "execution_count": 8,
   "id": "9f1ab9d6",
   "metadata": {},
   "outputs": [],
   "source": [
    "from keras.models import Sequential\n",
    "from keras.layers import Dense\n",
    "from keras.layers import LSTM\n",
    "from keras.layers import Dropout"
   ]
  },
  {
   "cell_type": "code",
   "execution_count": 9,
   "id": "a526c807",
   "metadata": {},
   "outputs": [],
   "source": [
    "### Initializing RNN\n",
    "model = Sequential()"
   ]
  },
  {
   "cell_type": "code",
   "execution_count": 10,
   "id": "50364a9d",
   "metadata": {},
   "outputs": [],
   "source": [
    "### Add first LSTM layer and add Dropout Reegularization\n",
    "model.add(LSTM(units=50,return_sequences=True,input_shape=(X_train.shape[1],1))) ### Sequential reads input as 3D\n",
    "model.add(Dropout(0.2))\n",
    "### add return_sequences=True for all LSTM layers except the last one. Setting this flag to True lets Keras know that \n",
    "### LSTM output should contain all historical generated outputs along with time stamps (3D). So, next LSTM layer can work \n",
    "### further on the data. If this flag is false, then LSTM only returns last output (2D). Such output is not good enough \n",
    "### for another LSTM layer."
   ]
  },
  {
   "cell_type": "code",
   "execution_count": 11,
   "id": "53bec4fa",
   "metadata": {},
   "outputs": [],
   "source": [
    "### Add second LSTM layer and Dropout\n",
    "model.add(LSTM(units=50,return_sequences=True))\n",
    "model.add(Dropout(0.2))"
   ]
  },
  {
   "cell_type": "code",
   "execution_count": 12,
   "id": "bd6a589b",
   "metadata": {},
   "outputs": [],
   "source": [
    "### Add third LSTM layer and Dropout\n",
    "model.add(LSTM(units=50,return_sequences=True))\n",
    "model.add(Dropout(0.2))"
   ]
  },
  {
   "cell_type": "code",
   "execution_count": 13,
   "id": "c626c519",
   "metadata": {},
   "outputs": [],
   "source": [
    "### Add fourth LSTM layer and Dropout\n",
    "model.add(LSTM(units=50)) ### note: last LSTM layer does not carry argument 'return_sequences=True'\n",
    "model.add(Dropout(0.2))"
   ]
  },
  {
   "cell_type": "code",
   "execution_count": 14,
   "id": "91043c55",
   "metadata": {},
   "outputs": [],
   "source": [
    "### Add output layer\n",
    "model.add(Dense(units=1))  ### not capital \"U\"nit"
   ]
  },
  {
   "cell_type": "code",
   "execution_count": 15,
   "id": "6392b570",
   "metadata": {},
   "outputs": [],
   "source": [
    "### Compiling the RNN\n",
    "model.compile(optimizer='adam',loss='mean_squared_error')"
   ]
  },
  {
   "cell_type": "code",
   "execution_count": 16,
   "id": "816d279f",
   "metadata": {},
   "outputs": [
    {
     "name": "stdout",
     "output_type": "stream",
     "text": [
      "Epoch 1/100\n",
      "104/104 [==============================] - 5s 20ms/step - loss: 0.0199\n",
      "Epoch 2/100\n",
      "104/104 [==============================] - 2s 20ms/step - loss: 0.0066\n",
      "Epoch 3/100\n",
      "104/104 [==============================] - 2s 21ms/step - loss: 0.0058\n",
      "Epoch 4/100\n",
      "104/104 [==============================] - 2s 20ms/step - loss: 0.0050\n",
      "Epoch 5/100\n",
      "104/104 [==============================] - 2s 20ms/step - loss: 0.0050\n",
      "Epoch 6/100\n",
      "104/104 [==============================] - 2s 20ms/step - loss: 0.0045\n",
      "Epoch 7/100\n",
      "104/104 [==============================] - 2s 20ms/step - loss: 0.0046\n",
      "Epoch 8/100\n",
      "104/104 [==============================] - 2s 20ms/step - loss: 0.0038\n",
      "Epoch 9/100\n",
      "104/104 [==============================] - 2s 20ms/step - loss: 0.0041\n",
      "Epoch 10/100\n",
      "104/104 [==============================] - 2s 20ms/step - loss: 0.0035\n",
      "Epoch 11/100\n",
      "104/104 [==============================] - 2s 21ms/step - loss: 0.0036\n",
      "Epoch 12/100\n",
      "104/104 [==============================] - 2s 20ms/step - loss: 0.0032\n",
      "Epoch 13/100\n",
      "104/104 [==============================] - 2s 20ms/step - loss: 0.0031\n",
      "Epoch 14/100\n",
      "104/104 [==============================] - 2s 20ms/step - loss: 0.0029\n",
      "Epoch 15/100\n",
      "104/104 [==============================] - 2s 20ms/step - loss: 0.0031\n",
      "Epoch 16/100\n",
      "104/104 [==============================] - 2s 20ms/step - loss: 0.0034\n",
      "Epoch 17/100\n",
      "104/104 [==============================] - 2s 20ms/step - loss: 0.0026\n",
      "Epoch 18/100\n",
      "104/104 [==============================] - 2s 21ms/step - loss: 0.0028\n",
      "Epoch 19/100\n",
      "104/104 [==============================] - 2s 21ms/step - loss: 0.0027\n",
      "Epoch 20/100\n",
      "104/104 [==============================] - 2s 20ms/step - loss: 0.0027\n",
      "Epoch 21/100\n",
      "104/104 [==============================] - 2s 20ms/step - loss: 0.0030\n",
      "Epoch 22/100\n",
      "104/104 [==============================] - 2s 20ms/step - loss: 0.0024\n",
      "Epoch 23/100\n",
      "104/104 [==============================] - 2s 21ms/step - loss: 0.0026\n",
      "Epoch 24/100\n",
      "104/104 [==============================] - 2s 21ms/step - loss: 0.0021\n",
      "Epoch 25/100\n",
      "104/104 [==============================] - 2s 21ms/step - loss: 0.0023\n",
      "Epoch 26/100\n",
      "104/104 [==============================] - 2s 23ms/step - loss: 0.0024\n",
      "Epoch 27/100\n",
      "104/104 [==============================] - 2s 21ms/step - loss: 0.0024\n",
      "Epoch 28/100\n",
      "104/104 [==============================] - 2s 21ms/step - loss: 0.0020\n",
      "Epoch 29/100\n",
      "104/104 [==============================] - 2s 21ms/step - loss: 0.0020\n",
      "Epoch 30/100\n",
      "104/104 [==============================] - 2s 21ms/step - loss: 0.0021\n",
      "Epoch 31/100\n",
      "104/104 [==============================] - 2s 21ms/step - loss: 0.0020\n",
      "Epoch 32/100\n",
      "104/104 [==============================] - 2s 21ms/step - loss: 0.0022\n",
      "Epoch 33/100\n",
      "104/104 [==============================] - 2s 23ms/step - loss: 0.0019\n",
      "Epoch 34/100\n",
      "104/104 [==============================] - 2s 21ms/step - loss: 0.0017\n",
      "Epoch 35/100\n",
      "104/104 [==============================] - 2s 21ms/step - loss: 0.0016\n",
      "Epoch 36/100\n",
      "104/104 [==============================] - 2s 21ms/step - loss: 0.0015\n",
      "Epoch 37/100\n",
      "104/104 [==============================] - 2s 21ms/step - loss: 0.0017\n",
      "Epoch 38/100\n",
      "104/104 [==============================] - 2s 21ms/step - loss: 0.0015\n",
      "Epoch 39/100\n",
      "104/104 [==============================] - 2s 21ms/step - loss: 0.0019\n",
      "Epoch 40/100\n",
      "104/104 [==============================] - 2s 23ms/step - loss: 0.0017\n",
      "Epoch 41/100\n",
      "104/104 [==============================] - 2s 22ms/step - loss: 0.0017\n",
      "Epoch 42/100\n",
      "104/104 [==============================] - 2s 21ms/step - loss: 0.0016\n",
      "Epoch 43/100\n",
      "104/104 [==============================] - 2s 21ms/step - loss: 0.0017\n",
      "Epoch 44/100\n",
      "104/104 [==============================] - 2s 21ms/step - loss: 0.0015\n",
      "Epoch 45/100\n",
      "104/104 [==============================] - 2s 22ms/step - loss: 0.0015\n",
      "Epoch 46/100\n",
      "104/104 [==============================] - 2s 21ms/step - loss: 0.0016\n",
      "Epoch 47/100\n",
      "104/104 [==============================] - 2s 23ms/step - loss: 0.0015\n",
      "Epoch 48/100\n",
      "104/104 [==============================] - 2s 22ms/step - loss: 0.0016\n",
      "Epoch 49/100\n",
      "104/104 [==============================] - 2s 21ms/step - loss: 0.0017\n",
      "Epoch 50/100\n",
      "104/104 [==============================] - 2s 21ms/step - loss: 0.0015\n",
      "Epoch 51/100\n",
      "104/104 [==============================] - 2s 22ms/step - loss: 0.0016\n",
      "Epoch 52/100\n",
      "104/104 [==============================] - 2s 21ms/step - loss: 0.0016\n",
      "Epoch 53/100\n",
      "104/104 [==============================] - 2s 22ms/step - loss: 0.0015\n",
      "Epoch 54/100\n",
      "104/104 [==============================] - 3s 25ms/step - loss: 0.0016\n",
      "Epoch 55/100\n",
      "104/104 [==============================] - 2s 23ms/step - loss: 0.0015\n",
      "Epoch 56/100\n",
      "104/104 [==============================] - 2s 21ms/step - loss: 0.0016\n",
      "Epoch 57/100\n",
      "104/104 [==============================] - 2s 22ms/step - loss: 0.0014\n",
      "Epoch 58/100\n",
      "104/104 [==============================] - 2s 22ms/step - loss: 0.0017\n",
      "Epoch 59/100\n",
      "104/104 [==============================] - 2s 22ms/step - loss: 0.0014\n",
      "Epoch 60/100\n",
      "104/104 [==============================] - 2s 24ms/step - loss: 0.0013\n",
      "Epoch 61/100\n",
      "104/104 [==============================] - 3s 25ms/step - loss: 0.0014\n",
      "Epoch 62/100\n",
      "104/104 [==============================] - 2s 22ms/step - loss: 0.0013\n",
      "Epoch 63/100\n",
      "104/104 [==============================] - 2s 23ms/step - loss: 0.0014\n",
      "Epoch 64/100\n",
      "104/104 [==============================] - 2s 22ms/step - loss: 0.0013\n",
      "Epoch 65/100\n",
      "104/104 [==============================] - 2s 24ms/step - loss: 0.0015\n",
      "Epoch 66/100\n",
      "104/104 [==============================] - 2s 23ms/step - loss: 0.0014\n",
      "Epoch 67/100\n",
      "104/104 [==============================] - 2s 22ms/step - loss: 0.0013\n",
      "Epoch 68/100\n",
      "104/104 [==============================] - 2s 24ms/step - loss: 0.0012\n",
      "Epoch 69/100\n",
      "104/104 [==============================] - 2s 22ms/step - loss: 0.0014\n",
      "Epoch 70/100\n",
      "104/104 [==============================] - 2s 22ms/step - loss: 0.0015\n",
      "Epoch 71/100\n",
      "104/104 [==============================] - 2s 22ms/step - loss: 0.0014\n",
      "Epoch 72/100\n",
      "104/104 [==============================] - 2s 22ms/step - loss: 0.0012\n",
      "Epoch 73/100\n",
      "104/104 [==============================] - 3s 24ms/step - loss: 0.0014\n",
      "Epoch 74/100\n",
      "104/104 [==============================] - 2s 23ms/step - loss: 0.0013\n",
      "Epoch 75/100\n",
      "104/104 [==============================] - 2s 24ms/step - loss: 0.0015\n",
      "Epoch 76/100\n",
      "104/104 [==============================] - 2s 22ms/step - loss: 0.0013\n",
      "Epoch 77/100\n",
      "104/104 [==============================] - 2s 21ms/step - loss: 0.0012\n",
      "Epoch 78/100\n",
      "104/104 [==============================] - 2s 22ms/step - loss: 0.0012\n",
      "Epoch 79/100\n",
      "104/104 [==============================] - 2s 22ms/step - loss: 0.0013\n",
      "Epoch 80/100\n",
      "104/104 [==============================] - 2s 22ms/step - loss: 0.0013\n",
      "Epoch 81/100\n",
      "104/104 [==============================] - 2s 22ms/step - loss: 0.0013\n",
      "Epoch 82/100\n",
      "104/104 [==============================] - 2s 24ms/step - loss: 0.0014\n",
      "Epoch 83/100\n",
      "104/104 [==============================] - 2s 23ms/step - loss: 0.0013\n",
      "Epoch 84/100\n",
      "104/104 [==============================] - 2s 22ms/step - loss: 0.0014\n",
      "Epoch 85/100\n",
      "104/104 [==============================] - 2s 22ms/step - loss: 0.0013\n",
      "Epoch 86/100\n",
      "104/104 [==============================] - 2s 23ms/step - loss: 0.0012\n",
      "Epoch 87/100\n",
      "104/104 [==============================] - 2s 22ms/step - loss: 0.0011\n",
      "Epoch 88/100\n",
      "104/104 [==============================] - 2s 24ms/step - loss: 0.0011\n",
      "Epoch 89/100\n",
      "104/104 [==============================] - 2s 23ms/step - loss: 0.0010\n",
      "Epoch 90/100\n",
      "104/104 [==============================] - 2s 23ms/step - loss: 0.0013\n",
      "Epoch 91/100\n",
      "104/104 [==============================] - 3s 25ms/step - loss: 0.0011\n",
      "Epoch 92/100\n",
      "104/104 [==============================] - 3s 25ms/step - loss: 0.0013\n",
      "Epoch 93/100\n",
      "104/104 [==============================] - 2s 22ms/step - loss: 0.0012\n",
      "Epoch 94/100\n",
      "104/104 [==============================] - 2s 22ms/step - loss: 0.0011\n",
      "Epoch 95/100\n",
      "104/104 [==============================] - 3s 25ms/step - loss: 0.0011\n",
      "Epoch 96/100\n",
      "104/104 [==============================] - 2s 23ms/step - loss: 0.0013\n",
      "Epoch 97/100\n",
      "104/104 [==============================] - 2s 22ms/step - loss: 0.0013\n",
      "Epoch 98/100\n",
      "104/104 [==============================] - 2s 22ms/step - loss: 0.0014\n",
      "Epoch 99/100\n",
      "104/104 [==============================] - 2s 22ms/step - loss: 0.0013\n",
      "Epoch 100/100\n",
      "104/104 [==============================] - 2s 22ms/step - loss: 0.0013\n"
     ]
    },
    {
     "data": {
      "text/plain": [
       "<keras.callbacks.History at 0x11afd977040>"
      ]
     },
     "execution_count": 16,
     "metadata": {},
     "output_type": "execute_result"
    }
   ],
   "source": [
    "### Run the training set with the LSTM (specialized RNN here)\n",
    "model.fit(X_train,y_train,epochs=100,batch_size=10)"
   ]
  },
  {
   "cell_type": "code",
   "execution_count": 17,
   "id": "1ee74e46",
   "metadata": {},
   "outputs": [
    {
     "name": "stdout",
     "output_type": "stream",
     "text": [
      "Model: \"sequential\"\n",
      "_________________________________________________________________\n",
      " Layer (type)                Output Shape              Param #   \n",
      "=================================================================\n",
      " lstm (LSTM)                 (None, 60, 50)            10400     \n",
      "                                                                 \n",
      " dropout (Dropout)           (None, 60, 50)            0         \n",
      "                                                                 \n",
      " lstm_1 (LSTM)               (None, 60, 50)            20200     \n",
      "                                                                 \n",
      " dropout_1 (Dropout)         (None, 60, 50)            0         \n",
      "                                                                 \n",
      " lstm_2 (LSTM)               (None, 60, 50)            20200     \n",
      "                                                                 \n",
      " dropout_2 (Dropout)         (None, 60, 50)            0         \n",
      "                                                                 \n",
      " lstm_3 (LSTM)               (None, 50)                20200     \n",
      "                                                                 \n",
      " dropout_3 (Dropout)         (None, 50)                0         \n",
      "                                                                 \n",
      " dense (Dense)               (None, 1)                 51        \n",
      "                                                                 \n",
      "=================================================================\n",
      "Total params: 71,051\n",
      "Trainable params: 71,051\n",
      "Non-trainable params: 0\n",
      "_________________________________________________________________\n"
     ]
    }
   ],
   "source": [
    "model.summary()"
   ]
  },
  {
   "cell_type": "code",
   "execution_count": 18,
   "id": "df27a927",
   "metadata": {},
   "outputs": [
    {
     "name": "stdout",
     "output_type": "stream",
     "text": [
      "33/33 [==============================] - 1s 12ms/step\n",
      "(1040, 1)\n"
     ]
    }
   ],
   "source": [
    "predict_train=model.predict(X_train) \n",
    "print(predict_train.shape) \n",
    "### this output is (1040,60,1), we want only the first no. in each row of 1040 \n",
    "### this 3D structure makes it more difficult to interpret comparison of prediction in training set vs output in trg set"
   ]
  },
  {
   "cell_type": "code",
   "execution_count": 19,
   "id": "519e5684",
   "metadata": {},
   "outputs": [
    {
     "name": "stdout",
     "output_type": "stream",
     "text": [
      "[[0.11048877]\n",
      " [0.11068454]\n",
      " [0.10711372]\n",
      " ...\n",
      " [0.87018967]\n",
      " [0.8678323 ]\n",
      " [0.87677455]]\n"
     ]
    }
   ],
   "source": [
    "print(predict_train)"
   ]
  },
  {
   "cell_type": "code",
   "execution_count": 20,
   "id": "82e08e6c",
   "metadata": {},
   "outputs": [],
   "source": [
    "predict_train=predict_train[:, 0]  ### select first column or first day of 60 days of each day prediction from 1 to 1040"
   ]
  },
  {
   "cell_type": "code",
   "execution_count": 21,
   "id": "1a99a0f9",
   "metadata": {},
   "outputs": [
    {
     "name": "stdout",
     "output_type": "stream",
     "text": [
      "[0.11048877 0.11068454 0.10711372 ... 0.87018967 0.8678323  0.87677455]\n"
     ]
    }
   ],
   "source": [
    "print(predict_train)"
   ]
  },
  {
   "cell_type": "code",
   "execution_count": 22,
   "id": "f584fac4",
   "metadata": {},
   "outputs": [],
   "source": [
    "### creating data structure with 60 time-steps and 1 output\n",
    "X_test=[]\n",
    "y_test=[]  ### here y_test is to collect the predicted y values\n",
    "for i in range(60,157):\n",
    "    X_test.append(test_set_scaled[i-60:i, 0])\n",
    "    y_test.append(test_set_scaled[i, 0])\n",
    "X_test, y_test = np.array(X_test), np.array(y_test)  ### convert to np arrays as X_test is \"list\"    \n",
    "X_test=np.reshape(X_test, (X_test.shape[0], X_test.shape[1],1))"
   ]
  },
  {
   "cell_type": "code",
   "execution_count": 23,
   "id": "e7859827",
   "metadata": {},
   "outputs": [
    {
     "data": {
      "text/plain": [
       "(97,)"
      ]
     },
     "execution_count": 23,
     "metadata": {},
     "output_type": "execute_result"
    }
   ],
   "source": [
    "y_test.shape ### now (97.) is 1 Dim -- convert to two dim"
   ]
  },
  {
   "cell_type": "code",
   "execution_count": 24,
   "id": "557594a8",
   "metadata": {},
   "outputs": [],
   "source": [
    "y_test = np.reshape(y_test, (-1, 1))\n",
    "y_train=np.reshape(y_train,(-1,1))"
   ]
  },
  {
   "cell_type": "code",
   "execution_count": 25,
   "id": "d4cde86f",
   "metadata": {},
   "outputs": [
    {
     "name": "stdout",
     "output_type": "stream",
     "text": [
      "4/4 [==============================] - 0s 9ms/step\n"
     ]
    }
   ],
   "source": [
    "### Prediction\n",
    "predicted_stock_price=model.predict(X_test)\n",
    "predicted_stock_price=predicted_stock_price[:,0]\n",
    "#predicted_stock_price1=sc.inverse_transform(predicted_stock_price)\n",
    "#predicted_stock_price.shape"
   ]
  },
  {
   "cell_type": "code",
   "execution_count": 26,
   "id": "0ecb8209",
   "metadata": {},
   "outputs": [
    {
     "name": "stdout",
     "output_type": "stream",
     "text": [
      "[0.99890614 0.99694437 0.9964469  0.98937505 0.99387527 0.9919386\n",
      " 0.98753715 0.9830254  0.9834373  0.9800555  0.9788041  0.97926074\n",
      " 0.98307276 0.9780225  0.9736108  0.9769389  0.98151976 0.9941009\n",
      " 0.99419826 0.98455894 0.96126443 0.97570664 0.9656535  0.9643751\n",
      " 0.9814     0.9774989  0.96912545 0.9793935  0.9889848  1.0041466\n",
      " 1.0028914  0.98171574 0.99622875 0.99882716 0.9846092  0.9880116\n",
      " 0.9841878  0.98862904 0.9897936  0.989514   0.98692065 1.0042396\n",
      " 1.0006583  1.0020566  0.99175197 0.9916624  0.99585915 1.0196462\n",
      " 1.0289098  1.0180912  1.022585   1.0483813  1.037884   1.020745\n",
      " 1.0192832  1.0227144  1.0051658  1.002315   0.9830796  0.97098875\n",
      " 0.9724016  1.0050851  1.0165391  1.0020989  0.96745926 0.9549704\n",
      " 0.93135506 0.961117   0.97514933 0.978436   0.961501   0.97451293\n",
      " 0.9771443  0.96191764 0.96163124 0.9748846  0.97860944 0.9566184\n",
      " 0.9397932  0.9462878  0.96718454 0.9601983  0.97520477 0.9874964\n",
      " 1.0057967  1.0050197  1.0140419  1.0178921  1.0183394  1.0080271\n",
      " 1.014317   1.020793   1.0167671  1.0115528  1.0114243  1.015325\n",
      " 1.0051904 ]\n"
     ]
    }
   ],
   "source": [
    "print(predicted_stock_price)"
   ]
  },
  {
   "cell_type": "code",
   "execution_count": 27,
   "id": "97f4d9d4",
   "metadata": {},
   "outputs": [
    {
     "name": "stdout",
     "output_type": "stream",
     "text": [
      "Train RMSE: 0.020 RMSE\n",
      "Test RMSE: 0.019 RMSE\n"
     ]
    }
   ],
   "source": [
    "from sklearn.metrics import mean_squared_error\n",
    "import math\n",
    "def print_error(trainY, testY, train_predict, test_predict):    \n",
    "    ### Error of predictions\n",
    "    train_rmse = math.sqrt(mean_squared_error(trainY, train_predict))\n",
    "    test_rmse = math.sqrt(mean_squared_error(testY, test_predict))\n",
    "    ### Print RMSE\n",
    "    print('Train RMSE: %.3f RMSE' % (train_rmse))\n",
    "    print('Test RMSE: %.3f RMSE' % (test_rmse))\n",
    "    \n",
    "print_error(y_train, y_test, predict_train, predicted_stock_price)"
   ]
  },
  {
   "cell_type": "code",
   "execution_count": 28,
   "id": "d60a8dcf",
   "metadata": {},
   "outputs": [
    {
     "name": "stdout",
     "output_type": "stream",
     "text": [
      "[[0.08936253]\n",
      " [0.08219231]\n",
      " [0.08787248]\n",
      " ...\n",
      " [0.86796316]\n",
      " [0.87932595]\n",
      " [0.85872846]]\n"
     ]
    }
   ],
   "source": [
    "print(y_train)"
   ]
  },
  {
   "cell_type": "code",
   "execution_count": 29,
   "id": "10270e98",
   "metadata": {},
   "outputs": [
    {
     "name": "stdout",
     "output_type": "stream",
     "text": [
      "[0.11048877 0.11068454 0.10711372 ... 0.87018967 0.8678323  0.87677455]\n"
     ]
    }
   ],
   "source": [
    "print(predict_train)"
   ]
  },
  {
   "cell_type": "code",
   "execution_count": 30,
   "id": "637c326d",
   "metadata": {},
   "outputs": [
    {
     "name": "stdout",
     "output_type": "stream",
     "text": [
      "[[1.01328988]\n",
      " [1.01172411]\n",
      " [1.00108392]\n",
      " [1.00664488]\n",
      " [1.00180672]\n",
      " [0.99763101]\n",
      " [0.99106623]\n",
      " [0.99092578]\n",
      " [0.98602727]\n",
      " [0.98556565]\n",
      " [0.98582664]\n",
      " [0.99106623]\n",
      " [0.98492312]\n",
      " [0.98082783]\n",
      " [0.98430082]\n",
      " [0.98968118]\n",
      " [1.00698628]\n",
      " [1.00752832]\n",
      " [0.99743021]\n",
      " [0.96599205]\n",
      " [0.98478267]\n",
      " [0.96605224]\n",
      " [0.97167335]\n",
      " [0.9902834 ]\n",
      " [0.98450161]\n",
      " [0.97811759]\n",
      " [0.98958068]\n",
      " [0.99923709]\n",
      " [1.02130006]\n",
      " [1.02067776]\n",
      " [0.99520183]\n",
      " [1.01286837]\n",
      " [1.00995734]\n",
      " [0.99680791]\n",
      " [1.00138505]\n",
      " [0.99188933]\n",
      " [0.9996586 ]\n",
      " [0.99973902]\n",
      " [1.00052184]\n",
      " [0.99694852]\n",
      " [1.0187505 ]\n",
      " [1.01298879]\n",
      " [1.01915193]\n",
      " [1.00319193]\n",
      " [1.00387442]\n",
      " [1.00674534]\n",
      " [1.03746086]\n",
      " [1.04998803]\n",
      " [1.04089373]\n",
      " [1.04571182]\n",
      " [1.07329564]\n",
      " [1.06237455]\n",
      " [1.04510959]\n",
      " [1.03764162]\n",
      " [1.03768173]\n",
      " [1.01593993]\n",
      " [1.01407287]\n",
      " [0.98414029]\n",
      " [0.97095059]\n",
      " [0.97072988]\n",
      " [1.01188459]\n",
      " [1.02792502]\n",
      " [1.01748567]\n",
      " [0.9718138 ]\n",
      " [0.95466937]\n",
      " [0.91865391]\n",
      " [0.96364314]\n",
      " [0.97566834]\n",
      " [0.9892194 ]\n",
      " [0.96775862]\n",
      " [0.98514399]\n",
      " [0.98327708]\n",
      " [0.96866202]\n",
      " [0.97004723]\n",
      " [0.98321674]\n",
      " [0.98843641]\n",
      " [0.96273974]\n",
      " [0.9424233 ]\n",
      " [0.94760287]\n",
      " [0.97173353]\n",
      " [0.9648879 ]\n",
      " [0.98913914]\n",
      " [0.99963852]\n",
      " [1.02547577]\n",
      " [1.02543566]\n",
      " [1.0391472 ]\n",
      " [1.04109453]\n",
      " [1.0426605 ]\n",
      " [1.02850721]\n",
      " [1.03533281]\n",
      " [1.03978958]\n",
      " [1.03605561]\n",
      " [1.02943065]\n",
      " [1.02672041]\n",
      " [1.0300128 ]\n",
      " [1.0169637 ]\n",
      " [1.01242667]]\n"
     ]
    }
   ],
   "source": [
    "print(y_test)"
   ]
  },
  {
   "cell_type": "code",
   "execution_count": 31,
   "id": "0829bd81",
   "metadata": {},
   "outputs": [
    {
     "name": "stdout",
     "output_type": "stream",
     "text": [
      "[0.99890614 0.99694437 0.9964469  0.98937505 0.99387527 0.9919386\n",
      " 0.98753715 0.9830254  0.9834373  0.9800555  0.9788041  0.97926074\n",
      " 0.98307276 0.9780225  0.9736108  0.9769389  0.98151976 0.9941009\n",
      " 0.99419826 0.98455894 0.96126443 0.97570664 0.9656535  0.9643751\n",
      " 0.9814     0.9774989  0.96912545 0.9793935  0.9889848  1.0041466\n",
      " 1.0028914  0.98171574 0.99622875 0.99882716 0.9846092  0.9880116\n",
      " 0.9841878  0.98862904 0.9897936  0.989514   0.98692065 1.0042396\n",
      " 1.0006583  1.0020566  0.99175197 0.9916624  0.99585915 1.0196462\n",
      " 1.0289098  1.0180912  1.022585   1.0483813  1.037884   1.020745\n",
      " 1.0192832  1.0227144  1.0051658  1.002315   0.9830796  0.97098875\n",
      " 0.9724016  1.0050851  1.0165391  1.0020989  0.96745926 0.9549704\n",
      " 0.93135506 0.961117   0.97514933 0.978436   0.961501   0.97451293\n",
      " 0.9771443  0.96191764 0.96163124 0.9748846  0.97860944 0.9566184\n",
      " 0.9397932  0.9462878  0.96718454 0.9601983  0.97520477 0.9874964\n",
      " 1.0057967  1.0050197  1.0140419  1.0178921  1.0183394  1.0080271\n",
      " 1.014317   1.020793   1.0167671  1.0115528  1.0114243  1.015325\n",
      " 1.0051904 ]\n"
     ]
    }
   ],
   "source": [
    "print(predicted_stock_price)"
   ]
  },
  {
   "cell_type": "code",
   "execution_count": 32,
   "id": "3fc91195",
   "metadata": {},
   "outputs": [],
   "source": [
    "Pred_price=sc.inverse_transform(predicted_stock_price.reshape(-1, 1))\n",
    "#Pred_price=Pred.price.reshape(-1, 1)"
   ]
  },
  {
   "cell_type": "code",
   "execution_count": 33,
   "id": "c3b8401b",
   "metadata": {},
   "outputs": [
    {
     "data": {
      "image/png": "[encoded data removed]",
      "text/plain": [
       "<Figure size 432x288 with 1 Axes>"
      ]
     },
     "metadata": {
      "needs_background": "light"
     },
     "output_type": "display_data"
    }
   ],
   "source": [
    "### Plotting the stock price prediction results\n",
    "plt.plot(test_set[60:157,:],label=\"Actual Google Price\",linestyle='--') ### from observation 60 to 157  or 12 Aug 2016 to 30 Dec 2016\n",
    "plt.plot(Pred_price,label=\"Predicted Google Price\",linestyle='-')\n",
    "plt.title('Google Stock Price Prediction from 12 Aug 2016 till 29 Dec 2016')\n",
    "plt.xlabel('Time')\n",
    "plt.ylabel('Price in $')\n",
    "plt.legend()\n",
    "plt.show()"
   ]
  },
  {
   "cell_type": "code",
   "execution_count": null,
   "id": "3d0e9846",
   "metadata": {},
   "outputs": [],
   "source": []
  }
 ],
 "metadata": {
  "kernelspec": {
   "display_name": "Python 3 (ipykernel)",
   "language": "python",
   "name": "python3"
  },
  "language_info": {
   "codemirror_mode": {
    "name": "ipython",
    "version": 3
   },
   "file_extension": ".py",
   "mimetype": "text/x-python",
   "name": "python",
   "nbconvert_exporter": "python",
   "pygments_lexer": "ipython3",
   "version": "3.9.13"
  }
 },
 "nbformat": 4,
 "nbformat_minor": 5
}
