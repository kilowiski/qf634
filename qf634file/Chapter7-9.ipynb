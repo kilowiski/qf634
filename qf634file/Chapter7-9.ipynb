{
 "cells": [
  {
   "cell_type": "markdown",
   "id": "c65022cc",
   "metadata": {},
   "source": [
    "# In this model -- same adam, sigmoids, 12-6-6-6-1 structure\n",
    "# Total sample size 10,000\n",
    "# Training sample size 80% = 8,000, this is (whole) batch size\n",
    "# (Mini) batch size = 100, hence no. of batches per epoch = 80\n",
    "# Hence 80 iterations per epoch \n",
    "# (1 iteration = 1 forward pass + 1 backward pass)\n",
    "# No. of epochs = 500, Total iterations = 500 x 80 = 40,000\n",
    "# Prediction of Y=1 (exit from bank) or Y=0 (no exit): binary classification "
   ]
  },
  {
   "cell_type": "code",
   "execution_count": 1,
   "id": "7ad2255c",
   "metadata": {},
   "outputs": [
    {
     "name": "stderr",
     "output_type": "stream",
     "text": [
      "C:\\Users\\kglim\\Anaconda3\\lib\\site-packages\\scipy\\__init__.py:155: UserWarning: A NumPy version >=1.18.5 and <1.25.0 is required for this version of SciPy (detected version 1.26.1\n",
      "  warnings.warn(f\"A NumPy version >={np_minversion} and <{np_maxversion}\"\n"
     ]
    }
   ],
   "source": [
    "import json\n",
    "import numpy as np\n",
    "import tensorflow as tf\n",
    "import keras\n",
    "from keras import layers\n",
    "from keras import initializers\n",
    "\n",
    "# Set the seed using keras.utils.set_random_seed. This will set:\n",
    "# 1) `numpy` seed\n",
    "# 2) backend random seed\n",
    "# 3) `python` random seed\n",
    "keras.utils.set_random_seed(5)\n",
    "\n",
    "# If using TensorFlow, this will make GPU ops as deterministic as possible,\n",
    "# but it will affect the overall performance, so be mindful of that.\n",
    "tf.config.experimental.enable_op_determinism()"
   ]
  },
  {
   "cell_type": "code",
   "execution_count": 2,
   "id": "617ee135",
   "metadata": {},
   "outputs": [],
   "source": [
    "#Importing necessary Libraries\n",
    "import numpy as np\n",
    "import pandas as pd\n",
    "import tensorflow as tf"
   ]
  },
  {
   "cell_type": "code",
   "execution_count": 3,
   "id": "6c6deff4",
   "metadata": {},
   "outputs": [],
   "source": [
    "#Loading Dataset\n",
    "data = pd.read_csv(\"Churn_Modelling.csv\")"
   ]
  },
  {
   "cell_type": "code",
   "execution_count": 4,
   "id": "a80540e6",
   "metadata": {},
   "outputs": [
    {
     "data": {
      "text/html": [
       "<div>\n",
       "<style scoped>\n",
       "    .dataframe tbody tr th:only-of-type {\n",
       "        vertical-align: middle;\n",
       "    }\n",
       "\n",
       "    .dataframe tbody tr th {\n",
       "        vertical-align: top;\n",
       "    }\n",
       "\n",
       "    .dataframe thead th {\n",
       "        text-align: right;\n",
       "    }\n",
       "</style>\n",
       "<table border=\"1\" class=\"dataframe\">\n",
       "  <thead>\n",
       "    <tr style=\"text-align: right;\">\n",
       "      <th></th>\n",
       "      <th>CreditScore</th>\n",
       "      <th>Geography</th>\n",
       "      <th>Gender</th>\n",
       "      <th>Age</th>\n",
       "      <th>Tenure</th>\n",
       "      <th>Balance</th>\n",
       "      <th>NumOfProducts</th>\n",
       "      <th>HasCrCard</th>\n",
       "      <th>IsActiveMember</th>\n",
       "      <th>EstimatedSalary</th>\n",
       "    </tr>\n",
       "  </thead>\n",
       "  <tbody>\n",
       "    <tr>\n",
       "      <th>0</th>\n",
       "      <td>619</td>\n",
       "      <td>France</td>\n",
       "      <td>Female</td>\n",
       "      <td>42</td>\n",
       "      <td>2</td>\n",
       "      <td>0.00</td>\n",
       "      <td>1</td>\n",
       "      <td>1</td>\n",
       "      <td>1</td>\n",
       "      <td>101348.88</td>\n",
       "    </tr>\n",
       "    <tr>\n",
       "      <th>1</th>\n",
       "      <td>608</td>\n",
       "      <td>Spain</td>\n",
       "      <td>Female</td>\n",
       "      <td>41</td>\n",
       "      <td>1</td>\n",
       "      <td>83807.86</td>\n",
       "      <td>1</td>\n",
       "      <td>0</td>\n",
       "      <td>1</td>\n",
       "      <td>112542.58</td>\n",
       "    </tr>\n",
       "    <tr>\n",
       "      <th>2</th>\n",
       "      <td>502</td>\n",
       "      <td>France</td>\n",
       "      <td>Female</td>\n",
       "      <td>42</td>\n",
       "      <td>8</td>\n",
       "      <td>159660.80</td>\n",
       "      <td>3</td>\n",
       "      <td>1</td>\n",
       "      <td>0</td>\n",
       "      <td>113931.57</td>\n",
       "    </tr>\n",
       "    <tr>\n",
       "      <th>3</th>\n",
       "      <td>699</td>\n",
       "      <td>France</td>\n",
       "      <td>Female</td>\n",
       "      <td>39</td>\n",
       "      <td>1</td>\n",
       "      <td>0.00</td>\n",
       "      <td>2</td>\n",
       "      <td>0</td>\n",
       "      <td>0</td>\n",
       "      <td>93826.63</td>\n",
       "    </tr>\n",
       "    <tr>\n",
       "      <th>4</th>\n",
       "      <td>850</td>\n",
       "      <td>Spain</td>\n",
       "      <td>Female</td>\n",
       "      <td>43</td>\n",
       "      <td>2</td>\n",
       "      <td>125510.82</td>\n",
       "      <td>1</td>\n",
       "      <td>1</td>\n",
       "      <td>1</td>\n",
       "      <td>79084.10</td>\n",
       "    </tr>\n",
       "  </tbody>\n",
       "</table>\n",
       "</div>"
      ],
      "text/plain": [
       "   CreditScore Geography  Gender  Age  Tenure    Balance  NumOfProducts  \\\n",
       "0          619    France  Female   42       2       0.00              1   \n",
       "1          608     Spain  Female   41       1   83807.86              1   \n",
       "2          502    France  Female   42       8  159660.80              3   \n",
       "3          699    France  Female   39       1       0.00              2   \n",
       "4          850     Spain  Female   43       2  125510.82              1   \n",
       "\n",
       "   HasCrCard  IsActiveMember  EstimatedSalary  \n",
       "0          1               1        101348.88  \n",
       "1          0               1        112542.58  \n",
       "2          1               0        113931.57  \n",
       "3          0               0         93826.63  \n",
       "4          1               1         79084.10  "
      ]
     },
     "execution_count": 4,
     "metadata": {},
     "output_type": "execute_result"
    }
   ],
   "source": [
    "#Generating Dependent Variable Vectors\n",
    "Y = data.iloc[:,-1].values\n",
    "X = data.iloc[:,3:13]\n",
    "X.head()"
   ]
  },
  {
   "cell_type": "code",
   "execution_count": 5,
   "id": "a98c381c",
   "metadata": {},
   "outputs": [
    {
     "name": "stdout",
     "output_type": "stream",
     "text": [
      "[1 0 1 ... 1 1 0]\n",
      "0       0\n",
      "1       0\n",
      "2       0\n",
      "3       0\n",
      "4       0\n",
      "       ..\n",
      "9995    1\n",
      "9996    1\n",
      "9997    0\n",
      "9998    1\n",
      "9999    0\n",
      "Name: Gender, Length: 10000, dtype: int64\n"
     ]
    }
   ],
   "source": [
    "#Generating Dependent Variable Vectors\n",
    "Y = data.iloc[:,-1].values\n",
    "X = data.iloc[:,3:13]\n",
    "X['Gender']=X['Gender'].map({'Female':0,'Male':1})\n",
    "### above is used instead of a more complicated package involving -- from sklearn.preprocessing import LabelEncoder\n",
    "### converts Female -- 0, Male -- 1, i.e. hot-encoding categorical variables\n",
    "print(Y) ### Y = 1 means exited bank, 0 means staying on with bank as customer\n",
    "print (X['Gender'])"
   ]
  },
  {
   "cell_type": "code",
   "execution_count": 6,
   "id": "2e436f57",
   "metadata": {},
   "outputs": [],
   "source": [
    "#Encoding Categorical variable Geography\n",
    "from sklearn.compose import ColumnTransformer\n",
    "from sklearn.preprocessing import OneHotEncoder\n",
    "ct =ColumnTransformer(transformers=[('encoder',OneHotEncoder(),[1])],remainder=\"passthrough\")\n",
    "X = np.array(ct.fit_transform(X))\n",
    "### Geography is transformed into France -- 1,0,0; Spain -- 0,0,1; Germany -- 0,1,0.\n",
    "### Moreover -- this encoded vector of ones-zeros is now put in first 3 cols. Credit Score pushed to 4th col."
   ]
  },
  {
   "cell_type": "code",
   "execution_count": 7,
   "id": "3166a509",
   "metadata": {},
   "outputs": [
    {
     "data": {
      "text/html": [
       "<div>\n",
       "<style scoped>\n",
       "    .dataframe tbody tr th:only-of-type {\n",
       "        vertical-align: middle;\n",
       "    }\n",
       "\n",
       "    .dataframe tbody tr th {\n",
       "        vertical-align: top;\n",
       "    }\n",
       "\n",
       "    .dataframe thead th {\n",
       "        text-align: right;\n",
       "    }\n",
       "</style>\n",
       "<table border=\"1\" class=\"dataframe\">\n",
       "  <thead>\n",
       "    <tr style=\"text-align: right;\">\n",
       "      <th></th>\n",
       "      <th>0</th>\n",
       "      <th>1</th>\n",
       "      <th>2</th>\n",
       "      <th>3</th>\n",
       "      <th>4</th>\n",
       "      <th>5</th>\n",
       "      <th>6</th>\n",
       "      <th>7</th>\n",
       "      <th>8</th>\n",
       "      <th>9</th>\n",
       "      <th>10</th>\n",
       "      <th>11</th>\n",
       "    </tr>\n",
       "  </thead>\n",
       "  <tbody>\n",
       "    <tr>\n",
       "      <th>0</th>\n",
       "      <td>1.0</td>\n",
       "      <td>0.0</td>\n",
       "      <td>0.0</td>\n",
       "      <td>619.0</td>\n",
       "      <td>0.0</td>\n",
       "      <td>42.0</td>\n",
       "      <td>2.0</td>\n",
       "      <td>0.00</td>\n",
       "      <td>1.0</td>\n",
       "      <td>1.0</td>\n",
       "      <td>1.0</td>\n",
       "      <td>101348.88</td>\n",
       "    </tr>\n",
       "    <tr>\n",
       "      <th>1</th>\n",
       "      <td>0.0</td>\n",
       "      <td>0.0</td>\n",
       "      <td>1.0</td>\n",
       "      <td>608.0</td>\n",
       "      <td>0.0</td>\n",
       "      <td>41.0</td>\n",
       "      <td>1.0</td>\n",
       "      <td>83807.86</td>\n",
       "      <td>1.0</td>\n",
       "      <td>0.0</td>\n",
       "      <td>1.0</td>\n",
       "      <td>112542.58</td>\n",
       "    </tr>\n",
       "    <tr>\n",
       "      <th>2</th>\n",
       "      <td>1.0</td>\n",
       "      <td>0.0</td>\n",
       "      <td>0.0</td>\n",
       "      <td>502.0</td>\n",
       "      <td>0.0</td>\n",
       "      <td>42.0</td>\n",
       "      <td>8.0</td>\n",
       "      <td>159660.80</td>\n",
       "      <td>3.0</td>\n",
       "      <td>1.0</td>\n",
       "      <td>0.0</td>\n",
       "      <td>113931.57</td>\n",
       "    </tr>\n",
       "    <tr>\n",
       "      <th>3</th>\n",
       "      <td>1.0</td>\n",
       "      <td>0.0</td>\n",
       "      <td>0.0</td>\n",
       "      <td>699.0</td>\n",
       "      <td>0.0</td>\n",
       "      <td>39.0</td>\n",
       "      <td>1.0</td>\n",
       "      <td>0.00</td>\n",
       "      <td>2.0</td>\n",
       "      <td>0.0</td>\n",
       "      <td>0.0</td>\n",
       "      <td>93826.63</td>\n",
       "    </tr>\n",
       "    <tr>\n",
       "      <th>4</th>\n",
       "      <td>0.0</td>\n",
       "      <td>0.0</td>\n",
       "      <td>1.0</td>\n",
       "      <td>850.0</td>\n",
       "      <td>0.0</td>\n",
       "      <td>43.0</td>\n",
       "      <td>2.0</td>\n",
       "      <td>125510.82</td>\n",
       "      <td>1.0</td>\n",
       "      <td>1.0</td>\n",
       "      <td>1.0</td>\n",
       "      <td>79084.10</td>\n",
       "    </tr>\n",
       "  </tbody>\n",
       "</table>\n",
       "</div>"
      ],
      "text/plain": [
       "    0    1    2      3    4     5    6          7    8    9    10         11\n",
       "0  1.0  0.0  0.0  619.0  0.0  42.0  2.0       0.00  1.0  1.0  1.0  101348.88\n",
       "1  0.0  0.0  1.0  608.0  0.0  41.0  1.0   83807.86  1.0  0.0  1.0  112542.58\n",
       "2  1.0  0.0  0.0  502.0  0.0  42.0  8.0  159660.80  3.0  1.0  0.0  113931.57\n",
       "3  1.0  0.0  0.0  699.0  0.0  39.0  1.0       0.00  2.0  0.0  0.0   93826.63\n",
       "4  0.0  0.0  1.0  850.0  0.0  43.0  2.0  125510.82  1.0  1.0  1.0   79084.10"
      ]
     },
     "execution_count": 7,
     "metadata": {},
     "output_type": "execute_result"
    }
   ],
   "source": [
    "### convert X to dataframe X1\n",
    "X1 = pd.DataFrame(X)\n",
    "X1.head()\n",
    "### Note there are 12 features including onehotencoder for the Geography feature-- \n",
    "### The features are encoded using a one-hot (aka ‘one-of-K’ or ‘dummy’) encoding scheme"
   ]
  },
  {
   "cell_type": "code",
   "execution_count": 8,
   "id": "3ef915ac",
   "metadata": {},
   "outputs": [],
   "source": [
    "#Splitting dataset into training and testing dataset\n",
    "from sklearn.model_selection import train_test_split\n",
    "X_train,X_test,Y_train,Y_test = train_test_split(X,Y,test_size=0.2,random_state=1)"
   ]
  },
  {
   "cell_type": "code",
   "execution_count": 9,
   "id": "eb2461b3",
   "metadata": {},
   "outputs": [
    {
     "name": "stdout",
     "output_type": "stream",
     "text": [
      "[0 0 0 0 0 0 0 0 0 0 0 1 0 0 0 0 0 0 0 0 0 0 0 0 0 0 1 1 0 0 0 0 0 1 1 0 0\n",
      " 1 0 0 0 1 0 0 1 0 1 0 1 0]\n"
     ]
    }
   ],
   "source": [
    "print(Y_test[0:50])"
   ]
  },
  {
   "cell_type": "code",
   "execution_count": 10,
   "id": "740ede9b",
   "metadata": {},
   "outputs": [],
   "source": [
    "#Performing Feature Scaling\n",
    "from sklearn.preprocessing import StandardScaler\n",
    "sc = StandardScaler()\n",
    "X_train = sc.fit_transform(X_train)\n",
    "X_test = sc.transform(X_test)"
   ]
  },
  {
   "cell_type": "markdown",
   "id": "9850b84b",
   "metadata": {},
   "source": [
    "We call fit_transform() method on our training data and transform() method on our test data.\n",
    "In sklearn.preprocessing.StandardScaler(), centering and scaling happens independently on each feature. \n",
    "\n",
    "The fit method is calculating the mean and variance of each of the features present in the data. The transform method is transforming all the features using the respective feature's mean and variance that are calculated in the statement\n",
    "before on X_train.\n",
    "\n",
    "X_train = sc.fit_transform(X_train) -- each feature in the X_train is scaled to mean 0, variance 1. \n",
    "X_test = sc.transform(X_test) -- each feature in X_test is scaled using sample mean, var of X_train features"
   ]
  },
  {
   "cell_type": "code",
   "execution_count": 11,
   "id": "5e9c3dbe",
   "metadata": {},
   "outputs": [
    {
     "name": "stdout",
     "output_type": "stream",
     "text": [
      "[-2.89906987e-16 -2.86048962e-16 -5.30686606e-16 -2.17603713e-17\n",
      "  4.79061235e-17 -6.23376351e-16 -5.14518983e-17 -4.18663715e-15\n",
      " -4.83973972e-16  7.27695681e-16 -5.93469718e-16  3.58962859e-15]\n"
     ]
    }
   ],
   "source": [
    "### Check transformed data\n",
    "import sys\n",
    "#np.set_printoptions(threshold=sys.maxsize)\n",
    "#print(X_train)\n",
    "print(np.mean(X_train,axis=0)) ## print means of each feature, showing scaling working"
   ]
  },
  {
   "cell_type": "code",
   "execution_count": 12,
   "id": "8d87c81d",
   "metadata": {},
   "outputs": [
    {
     "name": "stdout",
     "output_type": "stream",
     "text": [
      "[1. 1. 1. 1. 1. 1. 1. 1. 1. 1. 1. 1.]\n"
     ]
    }
   ],
   "source": [
    "print(np.var(X_train,axis=0)) ## print means of each feature, showing scaling working"
   ]
  },
  {
   "cell_type": "code",
   "execution_count": 13,
   "id": "33f93b4a",
   "metadata": {},
   "outputs": [
    {
     "name": "stdout",
     "output_type": "stream",
     "text": [
      "[ 0.02150002 -0.03274686  0.00811563  0.01112925  0.01455712  0.0165023\n",
      " -0.0211389   0.00179946 -0.01435279 -0.0164785   0.03600953 -0.00461947]\n"
     ]
    }
   ],
   "source": [
    "print(np.mean(X_test,axis=0)) ## print means of each feature, showing scaling working"
   ]
  },
  {
   "cell_type": "code",
   "execution_count": 14,
   "id": "6acc33de",
   "metadata": {},
   "outputs": [
    {
     "name": "stdout",
     "output_type": "stream",
     "text": [
      "[0.99960225 0.96186549 1.0094561  0.99757565 0.99720133 1.0179895\n",
      " 1.02168564 1.00410934 0.96758663 1.01471752 0.99704644 0.98892999]\n"
     ]
    }
   ],
   "source": [
    "print(np.var(X_test,axis=0)) ## print means of each feature, showing scaling working"
   ]
  },
  {
   "cell_type": "code",
   "execution_count": 15,
   "id": "f43f1db5",
   "metadata": {},
   "outputs": [],
   "source": [
    "### This is the very first step while creating NNmodel. Here we are going to create our ann object by using a certain class of Keras \n",
    "### named Sequential. As a part of tensorflow 2.0, Keras is now integrated with tensorflow and is now considered as a \n",
    "### sub-library of tensorflow. The Sequential class is a part of the models module of Keras library which is a part of the \n",
    "### tensorflow library now. \n",
    "### It used to be \"import tensorflow as tf; from tensorflow import keras; from tensorflow.keras import layers\"\n",
    "### See documentation at https://keras.io/guides/sequential_model/\n",
    "\n",
    "#Initialising the NN model name -- NNmodel\n",
    "NNmodel = tf.keras.models.Sequential()"
   ]
  },
  {
   "cell_type": "code",
   "execution_count": 16,
   "id": "34730cae",
   "metadata": {},
   "outputs": [],
   "source": [
    "### Creating a network that has 2 hidden layers together with 1 input layer and 1 output layer. \n",
    "#Adding First Hidden Layer\n",
    "NNmodel.add(tf.keras.layers.Dense(units=6,activation=\"sigmoid\"))\n",
    "### units = 6 refer to 6 neurons in hidden layer "
   ]
  },
  {
   "cell_type": "markdown",
   "id": "ab12edcf",
   "metadata": {},
   "source": [
    "Above -- first hidden layer is created using the Dense class which is part of the layers module. This class accepts 2 inputs:-\n",
    "(1) units:- number of neurons that will be present in the respective layer (2) activation:- specify which activation function to be used. This example uses first input as 8. There is no correct answer which is the right number of neurons in the layer -- trial and error. Not too large to be computationally impractical or redundant; not too small to be ineffective.\n",
    "For the second input, we try the sigmoid or logistic function as an activation function for hidden layers. We can also try “relu”[rectified linear unit]."
   ]
  },
  {
   "cell_type": "code",
   "execution_count": 17,
   "id": "e22a225d",
   "metadata": {},
   "outputs": [],
   "source": [
    "### Creating 2nd hidden layer \n",
    "#Adding Second Hidden Layer -- note this is added sequentially to the first hidden layer\n",
    "NNmodel.add(tf.keras.layers.Dense(units=6,activation=\"sigmoid\"))\n",
    "### units = 6 refer to 6 neurons in hidden layer "
   ]
  },
  {
   "cell_type": "code",
   "execution_count": 18,
   "id": "b423a28f",
   "metadata": {},
   "outputs": [],
   "source": [
    "### Creating 3rd hidden layer \n",
    "#Adding Second Hidden Layer -- note this is added sequentially to the first hidden layer\n",
    "NNmodel.add(tf.keras.layers.Dense(units=6,activation=\"sigmoid\"))\n",
    "### units = 6 refer to 6 neurons in hidden layer "
   ]
  },
  {
   "cell_type": "code",
   "execution_count": 19,
   "id": "303997d6",
   "metadata": {},
   "outputs": [],
   "source": [
    "### now we create the output layer -- this is added sequentially\n",
    "#Adding Output Layer\n",
    "NNmodel.add(tf.keras.layers.Dense(units=1,activation=\"sigmoid\"))\n",
    "### Only 1 output neuron"
   ]
  },
  {
   "cell_type": "markdown",
   "id": "a1b4a623",
   "metadata": {},
   "source": [
    "For a binary classification problem as above, actual case output is 1 or 0. Hence we require only one neuron to output layer - output could be estimated probability of case actual output = 1. For multiclass classification problem, if the output contains m categories then we need to create m different neurons, one for each category. In the binary output case, the suitable activation function is the sigmoid function. For multiclass classification problem, the activation function is typically softmax. The softmax function predicts a multinomial probability distribution."
   ]
  },
  {
   "cell_type": "code",
   "execution_count": 20,
   "id": "70baaa68",
   "metadata": {},
   "outputs": [],
   "source": [
    "### After creating the layers -- require compiling the NNmodel. Compiling allows the computer to run and understand the program \n",
    "### without the need of more fundamental steps in the programming. Compiling adds other elements or linking other libraries, and optimization,\n",
    "### such that after compiling the results are readily computed e.g. in a binary executable program as an output. \n",
    "#Compiling NNmodel\n",
    "NNmodel.compile(optimizer=\"adam\",loss=\"binary_crossentropy\",metrics=['accuracy'])\n",
    "### Note optimizer here is a more sophisticated version of the Mean Square loss"
   ]
  },
  {
   "cell_type": "markdown",
   "id": "b6f9d245",
   "metadata": {},
   "source": [
    "Compile method above accepts inputs: (1) optimizer:- specifies which optimizer to be used in order to perform stochastic gradient descent (2) error/loss function, e.g., 'binary_crossentropy' here. For multiclass classification, it should be categorical_crossentropy, (3) metrics - the performance metrics to use in order to compute performance. 'accuracy' is one such  performance metric."
   ]
  },
  {
   "cell_type": "code",
   "execution_count": 21,
   "id": "51697cc6",
   "metadata": {},
   "outputs": [
    {
     "data": {
      "text/plain": [
       "(8000, 12)"
      ]
     },
     "execution_count": 21,
     "metadata": {},
     "output_type": "execute_result"
    }
   ],
   "source": [
    "X_train.shape"
   ]
  },
  {
   "cell_type": "code",
   "execution_count": 22,
   "id": "36a93b23",
   "metadata": {},
   "outputs": [
    {
     "name": "stdout",
     "output_type": "stream",
     "text": [
      "Epoch 1/500\n",
      "80/80 [==============================] - 1s 1ms/step - loss: 0.5893 - accuracy: 0.7972\n",
      "Epoch 2/500\n",
      "80/80 [==============================] - 0s 996us/step - loss: 0.5327 - accuracy: 0.7972\n",
      "Epoch 3/500\n",
      "80/80 [==============================] - 0s 968us/step - loss: 0.5103 - accuracy: 0.7972\n",
      "Epoch 4/500\n",
      "80/80 [==============================] - 0s 1000us/step - loss: 0.5033 - accuracy: 0.7972\n",
      "Epoch 5/500\n",
      "80/80 [==============================] - 0s 976us/step - loss: 0.5007 - accuracy: 0.7972\n",
      "Epoch 6/500\n",
      "80/80 [==============================] - 0s 1ms/step - loss: 0.4987 - accuracy: 0.7972\n",
      "Epoch 7/500\n",
      "80/80 [==============================] - 0s 1ms/step - loss: 0.4964 - accuracy: 0.7972\n",
      "Epoch 8/500\n",
      "80/80 [==============================] - 0s 1ms/step - loss: 0.4937 - accuracy: 0.7972\n",
      "Epoch 9/500\n",
      "80/80 [==============================] - 0s 953us/step - loss: 0.4902 - accuracy: 0.7972\n",
      "Epoch 10/500\n",
      "80/80 [==============================] - 0s 965us/step - loss: 0.4857 - accuracy: 0.7972\n",
      "Epoch 11/500\n",
      "80/80 [==============================] - 0s 975us/step - loss: 0.4801 - accuracy: 0.7972\n",
      "Epoch 12/500\n",
      "80/80 [==============================] - 0s 980us/step - loss: 0.4735 - accuracy: 0.7972\n",
      "Epoch 13/500\n",
      "80/80 [==============================] - 0s 929us/step - loss: 0.4663 - accuracy: 0.7972\n",
      "Epoch 14/500\n",
      "80/80 [==============================] - 0s 921us/step - loss: 0.4589 - accuracy: 0.7972\n",
      "Epoch 15/500\n",
      "80/80 [==============================] - 0s 1ms/step - loss: 0.4521 - accuracy: 0.7972\n",
      "Epoch 16/500\n",
      "80/80 [==============================] - 0s 928us/step - loss: 0.4460 - accuracy: 0.7972\n",
      "Epoch 17/500\n",
      "80/80 [==============================] - 0s 906us/step - loss: 0.4409 - accuracy: 0.7972\n",
      "Epoch 18/500\n",
      "80/80 [==============================] - 0s 890us/step - loss: 0.4369 - accuracy: 0.7972\n",
      "Epoch 19/500\n",
      "80/80 [==============================] - 0s 908us/step - loss: 0.4338 - accuracy: 0.7972\n",
      "Epoch 20/500\n",
      "80/80 [==============================] - 0s 942us/step - loss: 0.4315 - accuracy: 0.7972\n",
      "Epoch 21/500\n",
      "80/80 [==============================] - 0s 931us/step - loss: 0.4297 - accuracy: 0.7972\n",
      "Epoch 22/500\n",
      "80/80 [==============================] - 0s 977us/step - loss: 0.4284 - accuracy: 0.7972\n",
      "Epoch 23/500\n",
      "80/80 [==============================] - 0s 990us/step - loss: 0.4274 - accuracy: 0.7972\n",
      "Epoch 24/500\n",
      "80/80 [==============================] - 0s 979us/step - loss: 0.4266 - accuracy: 0.7972\n",
      "Epoch 25/500\n",
      "80/80 [==============================] - 0s 993us/step - loss: 0.4256 - accuracy: 0.7972\n",
      "Epoch 26/500\n",
      "80/80 [==============================] - 0s 978us/step - loss: 0.4248 - accuracy: 0.7974\n",
      "Epoch 27/500\n",
      "80/80 [==============================] - 0s 956us/step - loss: 0.4238 - accuracy: 0.8015\n",
      "Epoch 28/500\n",
      "80/80 [==============================] - 0s 1ms/step - loss: 0.4228 - accuracy: 0.8087\n",
      "Epoch 29/500\n",
      "80/80 [==============================] - 0s 962us/step - loss: 0.4220 - accuracy: 0.8154\n",
      "Epoch 30/500\n",
      "80/80 [==============================] - 0s 992us/step - loss: 0.4207 - accuracy: 0.8201\n",
      "Epoch 31/500\n",
      "80/80 [==============================] - 0s 979us/step - loss: 0.4195 - accuracy: 0.8211\n",
      "Epoch 32/500\n",
      "80/80 [==============================] - 0s 979us/step - loss: 0.4182 - accuracy: 0.8206\n",
      "Epoch 33/500\n",
      "80/80 [==============================] - 0s 996us/step - loss: 0.4168 - accuracy: 0.8229\n",
      "Epoch 34/500\n",
      "80/80 [==============================] - 0s 959us/step - loss: 0.4154 - accuracy: 0.8240\n",
      "Epoch 35/500\n",
      "80/80 [==============================] - 0s 970us/step - loss: 0.4139 - accuracy: 0.8248\n",
      "Epoch 36/500\n",
      "80/80 [==============================] - 0s 1ms/step - loss: 0.4120 - accuracy: 0.8271\n",
      "Epoch 37/500\n",
      "80/80 [==============================] - 0s 926us/step - loss: 0.4102 - accuracy: 0.8270\n",
      "Epoch 38/500\n",
      "80/80 [==============================] - 0s 896us/step - loss: 0.4081 - accuracy: 0.8288\n",
      "Epoch 39/500\n",
      "80/80 [==============================] - 0s 902us/step - loss: 0.4061 - accuracy: 0.8285\n",
      "Epoch 40/500\n",
      "80/80 [==============================] - 0s 857us/step - loss: 0.4039 - accuracy: 0.8295\n",
      "Epoch 41/500\n",
      "80/80 [==============================] - 0s 881us/step - loss: 0.4019 - accuracy: 0.8286\n",
      "Epoch 42/500\n",
      "80/80 [==============================] - 0s 710us/step - loss: 0.3998 - accuracy: 0.8291\n",
      "Epoch 43/500\n",
      "80/80 [==============================] - 0s 1ms/step - loss: 0.3978 - accuracy: 0.8307\n",
      "Epoch 44/500\n",
      "80/80 [==============================] - 0s 843us/step - loss: 0.3958 - accuracy: 0.8300\n",
      "Epoch 45/500\n",
      "80/80 [==============================] - 0s 868us/step - loss: 0.3939 - accuracy: 0.8324\n",
      "Epoch 46/500\n",
      "80/80 [==============================] - 0s 702us/step - loss: 0.3920 - accuracy: 0.8335\n",
      "Epoch 47/500\n",
      "80/80 [==============================] - 0s 882us/step - loss: 0.3901 - accuracy: 0.8345\n",
      "Epoch 48/500\n",
      "80/80 [==============================] - 0s 858us/step - loss: 0.3883 - accuracy: 0.8369\n",
      "Epoch 49/500\n",
      "80/80 [==============================] - 0s 710us/step - loss: 0.3866 - accuracy: 0.8371\n",
      "Epoch 50/500\n",
      "80/80 [==============================] - 0s 1ms/step - loss: 0.3849 - accuracy: 0.8395\n",
      "Epoch 51/500\n",
      "80/80 [==============================] - 0s 867us/step - loss: 0.3832 - accuracy: 0.8413\n",
      "Epoch 52/500\n",
      "80/80 [==============================] - 0s 883us/step - loss: 0.3816 - accuracy: 0.8415\n",
      "Epoch 53/500\n",
      "80/80 [==============================] - 0s 736us/step - loss: 0.3800 - accuracy: 0.8424\n",
      "Epoch 54/500\n",
      "80/80 [==============================] - 0s 847us/step - loss: 0.3784 - accuracy: 0.8444\n",
      "Epoch 55/500\n",
      "80/80 [==============================] - 0s 843us/step - loss: 0.3771 - accuracy: 0.8453\n",
      "Epoch 56/500\n",
      "80/80 [==============================] - 0s 847us/step - loss: 0.3757 - accuracy: 0.8460\n",
      "Epoch 57/500\n",
      "80/80 [==============================] - 0s 981us/step - loss: 0.3743 - accuracy: 0.8475\n",
      "Epoch 58/500\n",
      "80/80 [==============================] - 0s 856us/step - loss: 0.3734 - accuracy: 0.8476\n",
      "Epoch 59/500\n",
      "80/80 [==============================] - 0s 842us/step - loss: 0.3719 - accuracy: 0.8484\n",
      "Epoch 60/500\n",
      "80/80 [==============================] - 0s 842us/step - loss: 0.3708 - accuracy: 0.8501\n",
      "Epoch 61/500\n",
      "80/80 [==============================] - 0s 844us/step - loss: 0.3695 - accuracy: 0.8499\n",
      "Epoch 62/500\n",
      "80/80 [==============================] - 0s 845us/step - loss: 0.3686 - accuracy: 0.8511\n",
      "Epoch 63/500\n",
      "80/80 [==============================] - 0s 850us/step - loss: 0.3676 - accuracy: 0.8500\n",
      "Epoch 64/500\n",
      "80/80 [==============================] - 0s 848us/step - loss: 0.3667 - accuracy: 0.8529\n",
      "Epoch 65/500\n",
      "80/80 [==============================] - 0s 819us/step - loss: 0.3656 - accuracy: 0.8525\n",
      "Epoch 66/500\n",
      "80/80 [==============================] - 0s 843us/step - loss: 0.3649 - accuracy: 0.8533\n",
      "Epoch 67/500\n",
      "80/80 [==============================] - 0s 847us/step - loss: 0.3640 - accuracy: 0.8531\n",
      "Epoch 68/500\n",
      "80/80 [==============================] - 0s 839us/step - loss: 0.3632 - accuracy: 0.8541\n",
      "Epoch 69/500\n",
      "80/80 [==============================] - 0s 847us/step - loss: 0.3624 - accuracy: 0.8543\n",
      "Epoch 70/500\n",
      "80/80 [==============================] - 0s 842us/step - loss: 0.3617 - accuracy: 0.8560\n",
      "Epoch 71/500\n",
      "80/80 [==============================] - 0s 992us/step - loss: 0.3609 - accuracy: 0.8559\n",
      "Epoch 72/500\n",
      "80/80 [==============================] - 0s 870us/step - loss: 0.3604 - accuracy: 0.8568\n",
      "Epoch 73/500\n",
      "80/80 [==============================] - 0s 846us/step - loss: 0.3597 - accuracy: 0.8579\n",
      "Epoch 74/500\n",
      "80/80 [==============================] - 0s 846us/step - loss: 0.3589 - accuracy: 0.8575\n",
      "Epoch 75/500\n",
      "80/80 [==============================] - 0s 848us/step - loss: 0.3583 - accuracy: 0.8583\n",
      "Epoch 76/500\n",
      "80/80 [==============================] - 0s 983us/step - loss: 0.3576 - accuracy: 0.8586\n",
      "Epoch 77/500\n",
      "80/80 [==============================] - 0s 847us/step - loss: 0.3573 - accuracy: 0.8574\n",
      "Epoch 78/500\n",
      "80/80 [==============================] - 0s 845us/step - loss: 0.3568 - accuracy: 0.8571\n",
      "Epoch 79/500\n",
      "80/80 [==============================] - 0s 845us/step - loss: 0.3559 - accuracy: 0.8585\n",
      "Epoch 80/500\n",
      "80/80 [==============================] - 0s 842us/step - loss: 0.3554 - accuracy: 0.8599\n",
      "Epoch 81/500\n"
     ]
    },
    {
     "name": "stdout",
     "output_type": "stream",
     "text": [
      "80/80 [==============================] - 0s 857us/step - loss: 0.3549 - accuracy: 0.8596\n",
      "Epoch 82/500\n",
      "80/80 [==============================] - 0s 818us/step - loss: 0.3543 - accuracy: 0.8594\n",
      "Epoch 83/500\n",
      "80/80 [==============================] - 0s 842us/step - loss: 0.3540 - accuracy: 0.8585\n",
      "Epoch 84/500\n",
      "80/80 [==============================] - 0s 843us/step - loss: 0.3532 - accuracy: 0.8614\n",
      "Epoch 85/500\n",
      "80/80 [==============================] - 0s 840us/step - loss: 0.3527 - accuracy: 0.8605\n",
      "Epoch 86/500\n",
      "80/80 [==============================] - 0s 844us/step - loss: 0.3523 - accuracy: 0.8608\n",
      "Epoch 87/500\n",
      "80/80 [==============================] - 0s 868us/step - loss: 0.3515 - accuracy: 0.8616\n",
      "Epoch 88/500\n",
      "80/80 [==============================] - 0s 843us/step - loss: 0.3510 - accuracy: 0.8614\n",
      "Epoch 89/500\n",
      "80/80 [==============================] - 0s 845us/step - loss: 0.3508 - accuracy: 0.8618\n",
      "Epoch 90/500\n",
      "80/80 [==============================] - 0s 852us/step - loss: 0.3505 - accuracy: 0.8615\n",
      "Epoch 91/500\n",
      "80/80 [==============================] - 0s 834us/step - loss: 0.3497 - accuracy: 0.8620\n",
      "Epoch 92/500\n",
      "80/80 [==============================] - 0s 845us/step - loss: 0.3493 - accuracy: 0.8612\n",
      "Epoch 93/500\n",
      "80/80 [==============================] - 0s 843us/step - loss: 0.3487 - accuracy: 0.8629\n",
      "Epoch 94/500\n",
      "80/80 [==============================] - 0s 1ms/step - loss: 0.3485 - accuracy: 0.8630\n",
      "Epoch 95/500\n",
      "80/80 [==============================] - 0s 839us/step - loss: 0.3480 - accuracy: 0.8634\n",
      "Epoch 96/500\n",
      "80/80 [==============================] - 0s 856us/step - loss: 0.3479 - accuracy: 0.8612\n",
      "Epoch 97/500\n",
      "80/80 [==============================] - 0s 839us/step - loss: 0.3473 - accuracy: 0.8630\n",
      "Epoch 98/500\n",
      "80/80 [==============================] - 0s 846us/step - loss: 0.3471 - accuracy: 0.8615\n",
      "Epoch 99/500\n",
      "80/80 [==============================] - 0s 836us/step - loss: 0.3464 - accuracy: 0.8626\n",
      "Epoch 100/500\n",
      "80/80 [==============================] - 0s 1ms/step - loss: 0.3461 - accuracy: 0.8630\n",
      "Epoch 101/500\n",
      "80/80 [==============================] - 0s 828us/step - loss: 0.3456 - accuracy: 0.8627\n",
      "Epoch 102/500\n",
      "80/80 [==============================] - 0s 843us/step - loss: 0.3452 - accuracy: 0.8618\n",
      "Epoch 103/500\n",
      "80/80 [==============================] - 0s 847us/step - loss: 0.3451 - accuracy: 0.8622\n",
      "Epoch 104/500\n",
      "80/80 [==============================] - 0s 846us/step - loss: 0.3447 - accuracy: 0.8608\n",
      "Epoch 105/500\n",
      "80/80 [==============================] - 0s 836us/step - loss: 0.3444 - accuracy: 0.8615\n",
      "Epoch 106/500\n",
      "80/80 [==============================] - 0s 847us/step - loss: 0.3441 - accuracy: 0.8615\n",
      "Epoch 107/500\n",
      "80/80 [==============================] - 0s 1ms/step - loss: 0.3439 - accuracy: 0.8616\n",
      "Epoch 108/500\n",
      "80/80 [==============================] - 0s 853us/step - loss: 0.3434 - accuracy: 0.8624\n",
      "Epoch 109/500\n",
      "80/80 [==============================] - 0s 843us/step - loss: 0.3434 - accuracy: 0.8620\n",
      "Epoch 110/500\n",
      "80/80 [==============================] - 0s 847us/step - loss: 0.3429 - accuracy: 0.8604\n",
      "Epoch 111/500\n",
      "80/80 [==============================] - 0s 1ms/step - loss: 0.3428 - accuracy: 0.8622\n",
      "Epoch 112/500\n",
      "80/80 [==============================] - 0s 829us/step - loss: 0.3417 - accuracy: 0.8614\n",
      "Epoch 113/500\n",
      "80/80 [==============================] - 0s 840us/step - loss: 0.3422 - accuracy: 0.8619\n",
      "Epoch 114/500\n",
      "80/80 [==============================] - 0s 846us/step - loss: 0.3417 - accuracy: 0.8621\n",
      "Epoch 115/500\n",
      "80/80 [==============================] - 0s 1ms/step - loss: 0.3414 - accuracy: 0.8627\n",
      "Epoch 116/500\n",
      "80/80 [==============================] - 0s 840us/step - loss: 0.3410 - accuracy: 0.8620\n",
      "Epoch 117/500\n",
      "80/80 [==============================] - 0s 843us/step - loss: 0.3413 - accuracy: 0.8614\n",
      "Epoch 118/500\n",
      "80/80 [==============================] - 0s 844us/step - loss: 0.3406 - accuracy: 0.8633\n",
      "Epoch 119/500\n",
      "80/80 [==============================] - 0s 847us/step - loss: 0.3403 - accuracy: 0.8621\n",
      "Epoch 120/500\n",
      "80/80 [==============================] - 0s 842us/step - loss: 0.3402 - accuracy: 0.8605\n",
      "Epoch 121/500\n",
      "80/80 [==============================] - 0s 999us/step - loss: 0.3398 - accuracy: 0.8629\n",
      "Epoch 122/500\n",
      "80/80 [==============================] - 0s 850us/step - loss: 0.3398 - accuracy: 0.8629\n",
      "Epoch 123/500\n",
      "80/80 [==============================] - 0s 843us/step - loss: 0.3394 - accuracy: 0.8622\n",
      "Epoch 124/500\n",
      "80/80 [==============================] - 0s 845us/step - loss: 0.3390 - accuracy: 0.8615\n",
      "Epoch 125/500\n",
      "80/80 [==============================] - 0s 849us/step - loss: 0.3389 - accuracy: 0.8621\n",
      "Epoch 126/500\n",
      "80/80 [==============================] - 0s 839us/step - loss: 0.3388 - accuracy: 0.8615\n",
      "Epoch 127/500\n",
      "80/80 [==============================] - 0s 845us/step - loss: 0.3387 - accuracy: 0.8637\n",
      "Epoch 128/500\n",
      "80/80 [==============================] - 0s 844us/step - loss: 0.3386 - accuracy: 0.8633\n",
      "Epoch 129/500\n",
      "80/80 [==============================] - 0s 873us/step - loss: 0.3378 - accuracy: 0.8627\n",
      "Epoch 130/500\n",
      "80/80 [==============================] - 0s 990us/step - loss: 0.3384 - accuracy: 0.8631\n",
      "Epoch 131/500\n",
      "80/80 [==============================] - 0s 844us/step - loss: 0.3378 - accuracy: 0.8633\n",
      "Epoch 132/500\n",
      "80/80 [==============================] - 0s 840us/step - loss: 0.3379 - accuracy: 0.8626\n",
      "Epoch 133/500\n",
      "80/80 [==============================] - 0s 846us/step - loss: 0.3374 - accuracy: 0.8625\n",
      "Epoch 134/500\n",
      "80/80 [==============================] - 0s 841us/step - loss: 0.3375 - accuracy: 0.8624\n",
      "Epoch 135/500\n",
      "80/80 [==============================] - 0s 1ms/step - loss: 0.3371 - accuracy: 0.8627\n",
      "Epoch 136/500\n",
      "80/80 [==============================] - 0s 847us/step - loss: 0.3368 - accuracy: 0.8631\n",
      "Epoch 137/500\n",
      "80/80 [==============================] - 0s 807us/step - loss: 0.3367 - accuracy: 0.8626\n",
      "Epoch 138/500\n",
      "80/80 [==============================] - 0s 846us/step - loss: 0.3366 - accuracy: 0.8625\n",
      "Epoch 139/500\n",
      "80/80 [==============================] - 0s 880us/step - loss: 0.3369 - accuracy: 0.8631\n",
      "Epoch 140/500\n",
      "80/80 [==============================] - 0s 804us/step - loss: 0.3364 - accuracy: 0.8630\n",
      "Epoch 141/500\n",
      "80/80 [==============================] - 0s 849us/step - loss: 0.3362 - accuracy: 0.8627\n",
      "Epoch 142/500\n",
      "80/80 [==============================] - 0s 992us/step - loss: 0.3362 - accuracy: 0.8627\n",
      "Epoch 143/500\n",
      "80/80 [==============================] - 0s 840us/step - loss: 0.3358 - accuracy: 0.8633\n",
      "Epoch 144/500\n",
      "80/80 [==============================] - 0s 871us/step - loss: 0.3357 - accuracy: 0.8630\n",
      "Epoch 145/500\n",
      "80/80 [==============================] - 0s 819us/step - loss: 0.3355 - accuracy: 0.8625\n",
      "Epoch 146/500\n",
      "80/80 [==============================] - 0s 842us/step - loss: 0.3355 - accuracy: 0.8627\n",
      "Epoch 147/500\n",
      "80/80 [==============================] - 0s 996us/step - loss: 0.3357 - accuracy: 0.8619\n",
      "Epoch 148/500\n",
      "80/80 [==============================] - 0s 803us/step - loss: 0.3352 - accuracy: 0.8626\n",
      "Epoch 149/500\n",
      "80/80 [==============================] - 0s 832us/step - loss: 0.3348 - accuracy: 0.8633\n",
      "Epoch 150/500\n",
      "80/80 [==============================] - 0s 842us/step - loss: 0.3349 - accuracy: 0.8622\n",
      "Epoch 151/500\n",
      "80/80 [==============================] - 0s 851us/step - loss: 0.3349 - accuracy: 0.8634\n",
      "Epoch 152/500\n",
      "80/80 [==============================] - 0s 875us/step - loss: 0.3347 - accuracy: 0.8629\n",
      "Epoch 153/500\n",
      "80/80 [==============================] - 0s 804us/step - loss: 0.3347 - accuracy: 0.8630\n",
      "Epoch 154/500\n",
      "80/80 [==============================] - 0s 847us/step - loss: 0.3343 - accuracy: 0.8631\n",
      "Epoch 155/500\n",
      "80/80 [==============================] - 0s 999us/step - loss: 0.3342 - accuracy: 0.8633\n",
      "Epoch 156/500\n",
      "80/80 [==============================] - 0s 829us/step - loss: 0.3340 - accuracy: 0.8630\n",
      "Epoch 157/500\n",
      "80/80 [==============================] - 0s 827us/step - loss: 0.3341 - accuracy: 0.8621\n",
      "Epoch 158/500\n",
      "80/80 [==============================] - 0s 848us/step - loss: 0.3340 - accuracy: 0.8625\n",
      "Epoch 159/500\n",
      "80/80 [==============================] - 0s 1ms/step - loss: 0.3338 - accuracy: 0.8621\n",
      "Epoch 160/500\n",
      "80/80 [==============================] - 0s 829us/step - loss: 0.3341 - accuracy: 0.8624\n"
     ]
    },
    {
     "name": "stdout",
     "output_type": "stream",
     "text": [
      "Epoch 161/500\n",
      "80/80 [==============================] - 0s 819us/step - loss: 0.3336 - accuracy: 0.8619\n",
      "Epoch 162/500\n",
      "80/80 [==============================] - 0s 860us/step - loss: 0.3334 - accuracy: 0.8635\n",
      "Epoch 163/500\n",
      "80/80 [==============================] - 0s 839us/step - loss: 0.3336 - accuracy: 0.8620\n",
      "Epoch 164/500\n",
      "80/80 [==============================] - 0s 845us/step - loss: 0.3338 - accuracy: 0.8635\n",
      "Epoch 165/500\n",
      "80/80 [==============================] - 0s 843us/step - loss: 0.3330 - accuracy: 0.8618\n",
      "Epoch 166/500\n",
      "80/80 [==============================] - 0s 847us/step - loss: 0.3335 - accuracy: 0.8626\n",
      "Epoch 167/500\n",
      "80/80 [==============================] - 0s 843us/step - loss: 0.3332 - accuracy: 0.8624\n",
      "Epoch 168/500\n",
      "80/80 [==============================] - 0s 848us/step - loss: 0.3335 - accuracy: 0.8626\n",
      "Epoch 169/500\n",
      "80/80 [==============================] - 0s 840us/step - loss: 0.3329 - accuracy: 0.8627\n",
      "Epoch 170/500\n",
      "80/80 [==============================] - 0s 1ms/step - loss: 0.3329 - accuracy: 0.8635\n",
      "Epoch 171/500\n",
      "80/80 [==============================] - 0s 827us/step - loss: 0.3330 - accuracy: 0.8633\n",
      "Epoch 172/500\n",
      "80/80 [==============================] - 0s 841us/step - loss: 0.3327 - accuracy: 0.8630\n",
      "Epoch 173/500\n",
      "80/80 [==============================] - 0s 846us/step - loss: 0.3328 - accuracy: 0.8625\n",
      "Epoch 174/500\n",
      "80/80 [==============================] - 0s 842us/step - loss: 0.3328 - accuracy: 0.8634\n",
      "Epoch 175/500\n",
      "80/80 [==============================] - 0s 1ms/step - loss: 0.3324 - accuracy: 0.8631\n",
      "Epoch 176/500\n",
      "80/80 [==============================] - 0s 829us/step - loss: 0.3324 - accuracy: 0.8618\n",
      "Epoch 177/500\n",
      "80/80 [==============================] - 0s 844us/step - loss: 0.3326 - accuracy: 0.8631\n",
      "Epoch 178/500\n",
      "80/80 [==============================] - 0s 844us/step - loss: 0.3325 - accuracy: 0.8644\n",
      "Epoch 179/500\n",
      "80/80 [==============================] - 0s 843us/step - loss: 0.3321 - accuracy: 0.8636\n",
      "Epoch 180/500\n",
      "80/80 [==============================] - 0s 844us/step - loss: 0.3322 - accuracy: 0.8627\n",
      "Epoch 181/500\n",
      "80/80 [==============================] - 0s 845us/step - loss: 0.3321 - accuracy: 0.8624\n",
      "Epoch 182/500\n",
      "80/80 [==============================] - 0s 845us/step - loss: 0.3321 - accuracy: 0.8612\n",
      "Epoch 183/500\n",
      "80/80 [==============================] - 0s 824us/step - loss: 0.3317 - accuracy: 0.8630\n",
      "Epoch 184/500\n",
      "80/80 [==============================] - 0s 841us/step - loss: 0.3320 - accuracy: 0.8627\n",
      "Epoch 185/500\n",
      "80/80 [==============================] - 0s 849us/step - loss: 0.3318 - accuracy: 0.8625\n",
      "Epoch 186/500\n",
      "80/80 [==============================] - 0s 839us/step - loss: 0.3318 - accuracy: 0.8621\n",
      "Epoch 187/500\n",
      "80/80 [==============================] - 0s 849us/step - loss: 0.3322 - accuracy: 0.8616\n",
      "Epoch 188/500\n",
      "80/80 [==============================] - 0s 974us/step - loss: 0.3320 - accuracy: 0.8621\n",
      "Epoch 189/500\n",
      "80/80 [==============================] - 0s 854us/step - loss: 0.3319 - accuracy: 0.8637\n",
      "Epoch 190/500\n",
      "80/80 [==============================] - 0s 840us/step - loss: 0.3314 - accuracy: 0.8626\n",
      "Epoch 191/500\n",
      "80/80 [==============================] - 0s 847us/step - loss: 0.3317 - accuracy: 0.8627\n",
      "Epoch 192/500\n",
      "80/80 [==============================] - 0s 864us/step - loss: 0.3314 - accuracy: 0.8624\n",
      "Epoch 193/500\n",
      "80/80 [==============================] - 0s 822us/step - loss: 0.3316 - accuracy: 0.8631\n",
      "Epoch 194/500\n",
      "80/80 [==============================] - 0s 848us/step - loss: 0.3317 - accuracy: 0.8626\n",
      "Epoch 195/500\n",
      "80/80 [==============================] - 0s 1ms/step - loss: 0.3311 - accuracy: 0.8627\n",
      "Epoch 196/500\n",
      "80/80 [==============================] - 0s 1ms/step - loss: 0.3316 - accuracy: 0.8630\n",
      "Epoch 197/500\n",
      "80/80 [==============================] - 0s 787us/step - loss: 0.3314 - accuracy: 0.8630\n",
      "Epoch 198/500\n",
      "80/80 [==============================] - 0s 866us/step - loss: 0.3314 - accuracy: 0.8620\n",
      "Epoch 199/500\n",
      "80/80 [==============================] - 0s 1ms/step - loss: 0.3314 - accuracy: 0.8620\n",
      "Epoch 200/500\n",
      "80/80 [==============================] - 0s 979us/step - loss: 0.3312 - accuracy: 0.8621\n",
      "Epoch 201/500\n",
      "80/80 [==============================] - 0s 966us/step - loss: 0.3312 - accuracy: 0.8643\n",
      "Epoch 202/500\n",
      "80/80 [==============================] - 0s 823us/step - loss: 0.3311 - accuracy: 0.8633\n",
      "Epoch 203/500\n",
      "80/80 [==============================] - 0s 1ms/step - loss: 0.3312 - accuracy: 0.8620\n",
      "Epoch 204/500\n",
      "80/80 [==============================] - 0s 767us/step - loss: 0.3309 - accuracy: 0.8633\n",
      "Epoch 205/500\n",
      "80/80 [==============================] - 0s 841us/step - loss: 0.3308 - accuracy: 0.8614\n",
      "Epoch 206/500\n",
      "80/80 [==============================] - 0s 900us/step - loss: 0.3308 - accuracy: 0.8631\n",
      "Epoch 207/500\n",
      "80/80 [==============================] - 0s 844us/step - loss: 0.3308 - accuracy: 0.8616\n",
      "Epoch 208/500\n",
      "80/80 [==============================] - 0s 848us/step - loss: 0.3308 - accuracy: 0.8614\n",
      "Epoch 209/500\n",
      "80/80 [==============================] - 0s 1ms/step - loss: 0.3307 - accuracy: 0.8624\n",
      "Epoch 210/500\n",
      "80/80 [==============================] - 0s 883us/step - loss: 0.3304 - accuracy: 0.8637\n",
      "Epoch 211/500\n",
      "80/80 [==============================] - 0s 871us/step - loss: 0.3305 - accuracy: 0.8622\n",
      "Epoch 212/500\n",
      "80/80 [==============================] - 0s 1ms/step - loss: 0.3308 - accuracy: 0.8618\n",
      "Epoch 213/500\n",
      "80/80 [==============================] - 0s 980us/step - loss: 0.3309 - accuracy: 0.8629\n",
      "Epoch 214/500\n",
      "80/80 [==============================] - 0s 978us/step - loss: 0.3306 - accuracy: 0.8615\n",
      "Epoch 215/500\n",
      "80/80 [==============================] - 0s 825us/step - loss: 0.3305 - accuracy: 0.8630\n",
      "Epoch 216/500\n",
      "80/80 [==============================] - 0s 875us/step - loss: 0.3305 - accuracy: 0.8619\n",
      "Epoch 217/500\n",
      "80/80 [==============================] - 0s 1ms/step - loss: 0.3305 - accuracy: 0.8620\n",
      "Epoch 218/500\n",
      "80/80 [==============================] - 0s 1ms/step - loss: 0.3304 - accuracy: 0.8634\n",
      "Epoch 219/500\n",
      "80/80 [==============================] - 0s 1ms/step - loss: 0.3308 - accuracy: 0.8616\n",
      "Epoch 220/500\n",
      "80/80 [==============================] - 0s 953us/step - loss: 0.3308 - accuracy: 0.8618\n",
      "Epoch 221/500\n",
      "80/80 [==============================] - 0s 1ms/step - loss: 0.3302 - accuracy: 0.8620\n",
      "Epoch 222/500\n",
      "80/80 [==============================] - 0s 989us/step - loss: 0.3303 - accuracy: 0.8621\n",
      "Epoch 223/500\n",
      "80/80 [==============================] - 0s 840us/step - loss: 0.3304 - accuracy: 0.8622\n",
      "Epoch 224/500\n",
      "80/80 [==============================] - 0s 852us/step - loss: 0.3301 - accuracy: 0.8612\n",
      "Epoch 225/500\n",
      "80/80 [==============================] - 0s 1ms/step - loss: 0.3304 - accuracy: 0.8619\n",
      "Epoch 226/500\n",
      "80/80 [==============================] - 0s 955us/step - loss: 0.3307 - accuracy: 0.8619\n",
      "Epoch 227/500\n",
      "80/80 [==============================] - 0s 811us/step - loss: 0.3300 - accuracy: 0.8633\n",
      "Epoch 228/500\n",
      "80/80 [==============================] - 0s 880us/step - loss: 0.3304 - accuracy: 0.8614\n",
      "Epoch 229/500\n",
      "80/80 [==============================] - 0s 880us/step - loss: 0.3304 - accuracy: 0.8611\n",
      "Epoch 230/500\n",
      "80/80 [==============================] - 0s 1ms/step - loss: 0.3300 - accuracy: 0.8608\n",
      "Epoch 231/500\n",
      "80/80 [==============================] - 0s 840us/step - loss: 0.3301 - accuracy: 0.8608\n",
      "Epoch 232/500\n",
      "80/80 [==============================] - 0s 1ms/step - loss: 0.3301 - accuracy: 0.8619\n",
      "Epoch 233/500\n",
      "80/80 [==============================] - 0s 795us/step - loss: 0.3304 - accuracy: 0.8629\n",
      "Epoch 234/500\n",
      "80/80 [==============================] - 0s 838us/step - loss: 0.3306 - accuracy: 0.8625\n",
      "Epoch 235/500\n",
      "80/80 [==============================] - 0s 866us/step - loss: 0.3304 - accuracy: 0.8634\n",
      "Epoch 236/500\n",
      "80/80 [==============================] - 0s 844us/step - loss: 0.3297 - accuracy: 0.8621\n",
      "Epoch 237/500\n",
      "80/80 [==============================] - 0s 1ms/step - loss: 0.3303 - accuracy: 0.8630\n",
      "Epoch 238/500\n",
      "80/80 [==============================] - 0s 842us/step - loss: 0.3300 - accuracy: 0.8641\n",
      "Epoch 239/500\n",
      "80/80 [==============================] - 0s 1ms/step - loss: 0.3300 - accuracy: 0.8624\n",
      "Epoch 240/500\n"
     ]
    },
    {
     "name": "stdout",
     "output_type": "stream",
     "text": [
      "80/80 [==============================] - 0s 954us/step - loss: 0.3300 - accuracy: 0.8629\n",
      "Epoch 241/500\n",
      "80/80 [==============================] - 0s 814us/step - loss: 0.3298 - accuracy: 0.8620\n",
      "Epoch 242/500\n",
      "80/80 [==============================] - 0s 836us/step - loss: 0.3299 - accuracy: 0.8616\n",
      "Epoch 243/500\n",
      "80/80 [==============================] - 0s 1ms/step - loss: 0.3300 - accuracy: 0.8626\n",
      "Epoch 244/500\n",
      "80/80 [==============================] - 0s 899us/step - loss: 0.3298 - accuracy: 0.8625\n",
      "Epoch 245/500\n",
      "80/80 [==============================] - 0s 1ms/step - loss: 0.3298 - accuracy: 0.8626\n",
      "Epoch 246/500\n",
      "80/80 [==============================] - 0s 798us/step - loss: 0.3300 - accuracy: 0.8626\n",
      "Epoch 247/500\n",
      "80/80 [==============================] - 0s 849us/step - loss: 0.3296 - accuracy: 0.8627\n",
      "Epoch 248/500\n",
      "80/80 [==============================] - 0s 1ms/step - loss: 0.3301 - accuracy: 0.8625\n",
      "Epoch 249/500\n",
      "80/80 [==============================] - 0s 956us/step - loss: 0.3298 - accuracy: 0.8614\n",
      "Epoch 250/500\n",
      "80/80 [==============================] - 0s 968us/step - loss: 0.3299 - accuracy: 0.8619\n",
      "Epoch 251/500\n",
      "80/80 [==============================] - 0s 1ms/step - loss: 0.3298 - accuracy: 0.8629\n",
      "Epoch 252/500\n",
      "80/80 [==============================] - 0s 825us/step - loss: 0.3300 - accuracy: 0.8606\n",
      "Epoch 253/500\n",
      "80/80 [==============================] - 0s 1ms/step - loss: 0.3296 - accuracy: 0.8616\n",
      "Epoch 254/500\n",
      "80/80 [==============================] - 0s 948us/step - loss: 0.3297 - accuracy: 0.8622\n",
      "Epoch 255/500\n",
      "80/80 [==============================] - 0s 801us/step - loss: 0.3293 - accuracy: 0.8625\n",
      "Epoch 256/500\n",
      "80/80 [==============================] - 0s 846us/step - loss: 0.3294 - accuracy: 0.8636\n",
      "Epoch 257/500\n",
      "80/80 [==============================] - 0s 1ms/step - loss: 0.3296 - accuracy: 0.8627\n",
      "Epoch 258/500\n",
      "80/80 [==============================] - 0s 819us/step - loss: 0.3296 - accuracy: 0.8626\n",
      "Epoch 259/500\n",
      "80/80 [==============================] - 0s 849us/step - loss: 0.3294 - accuracy: 0.8625\n",
      "Epoch 260/500\n",
      "80/80 [==============================] - 0s 840us/step - loss: 0.3296 - accuracy: 0.8625\n",
      "Epoch 261/500\n",
      "80/80 [==============================] - 0s 843us/step - loss: 0.3293 - accuracy: 0.8635\n",
      "Epoch 262/500\n",
      "80/80 [==============================] - 0s 1ms/step - loss: 0.3293 - accuracy: 0.8625\n",
      "Epoch 263/500\n",
      "80/80 [==============================] - 0s 817us/step - loss: 0.3296 - accuracy: 0.8630\n",
      "Epoch 264/500\n",
      "80/80 [==============================] - 0s 842us/step - loss: 0.3295 - accuracy: 0.8640\n",
      "Epoch 265/500\n",
      "80/80 [==============================] - 0s 847us/step - loss: 0.3298 - accuracy: 0.8626\n",
      "Epoch 266/500\n",
      "80/80 [==============================] - 0s 845us/step - loss: 0.3294 - accuracy: 0.8618\n",
      "Epoch 267/500\n",
      "80/80 [==============================] - 0s 887us/step - loss: 0.3293 - accuracy: 0.8631\n",
      "Epoch 268/500\n",
      "80/80 [==============================] - 0s 821us/step - loss: 0.3294 - accuracy: 0.8622\n",
      "Epoch 269/500\n",
      "80/80 [==============================] - 0s 828us/step - loss: 0.3293 - accuracy: 0.8622\n",
      "Epoch 270/500\n",
      "80/80 [==============================] - 0s 864us/step - loss: 0.3294 - accuracy: 0.8624\n",
      "Epoch 271/500\n",
      "80/80 [==============================] - 0s 1ms/step - loss: 0.3294 - accuracy: 0.8626\n",
      "Epoch 272/500\n",
      "80/80 [==============================] - 0s 811us/step - loss: 0.3292 - accuracy: 0.8622\n",
      "Epoch 273/500\n",
      "80/80 [==============================] - 0s 843us/step - loss: 0.3298 - accuracy: 0.8630\n",
      "Epoch 274/500\n",
      "80/80 [==============================] - 0s 849us/step - loss: 0.3293 - accuracy: 0.8629\n",
      "Epoch 275/500\n",
      "80/80 [==============================] - 0s 790us/step - loss: 0.3292 - accuracy: 0.8640\n",
      "Epoch 276/500\n",
      "80/80 [==============================] - 0s 842us/step - loss: 0.3294 - accuracy: 0.8614\n",
      "Epoch 277/500\n",
      "80/80 [==============================] - 0s 901us/step - loss: 0.3291 - accuracy: 0.8637\n",
      "Epoch 278/500\n",
      "80/80 [==============================] - 0s 787us/step - loss: 0.3297 - accuracy: 0.8626\n",
      "Epoch 279/500\n",
      "80/80 [==============================] - 0s 852us/step - loss: 0.3291 - accuracy: 0.8631\n",
      "Epoch 280/500\n",
      "80/80 [==============================] - 0s 844us/step - loss: 0.3293 - accuracy: 0.8625\n",
      "Epoch 281/500\n",
      "80/80 [==============================] - 0s 845us/step - loss: 0.3296 - accuracy: 0.8624\n",
      "Epoch 282/500\n",
      "80/80 [==============================] - 0s 841us/step - loss: 0.3293 - accuracy: 0.8631\n",
      "Epoch 283/500\n",
      "80/80 [==============================] - 0s 846us/step - loss: 0.3289 - accuracy: 0.8633\n",
      "Epoch 284/500\n",
      "80/80 [==============================] - 0s 844us/step - loss: 0.3296 - accuracy: 0.8625\n",
      "Epoch 285/500\n",
      "80/80 [==============================] - 0s 844us/step - loss: 0.3291 - accuracy: 0.8624\n",
      "Epoch 286/500\n",
      "80/80 [==============================] - 0s 844us/step - loss: 0.3292 - accuracy: 0.8627\n",
      "Epoch 287/500\n",
      "80/80 [==============================] - 0s 847us/step - loss: 0.3287 - accuracy: 0.8636\n",
      "Epoch 288/500\n",
      "80/80 [==============================] - 0s 842us/step - loss: 0.3290 - accuracy: 0.8629\n",
      "Epoch 289/500\n",
      "80/80 [==============================] - 0s 844us/step - loss: 0.3289 - accuracy: 0.8633\n",
      "Epoch 290/500\n",
      "80/80 [==============================] - 0s 1ms/step - loss: 0.3292 - accuracy: 0.8626\n",
      "Epoch 291/500\n",
      "80/80 [==============================] - 0s 822us/step - loss: 0.3290 - accuracy: 0.8624\n",
      "Epoch 292/500\n",
      "80/80 [==============================] - 0s 847us/step - loss: 0.3290 - accuracy: 0.8630\n",
      "Epoch 293/500\n",
      "80/80 [==============================] - 0s 841us/step - loss: 0.3290 - accuracy: 0.8629\n",
      "Epoch 294/500\n",
      "80/80 [==============================] - 0s 758us/step - loss: 0.3291 - accuracy: 0.8627\n",
      "Epoch 295/500\n",
      "80/80 [==============================] - 0s 840us/step - loss: 0.3291 - accuracy: 0.8640\n",
      "Epoch 296/500\n",
      "80/80 [==============================] - 0s 932us/step - loss: 0.3292 - accuracy: 0.8631\n",
      "Epoch 297/500\n",
      "80/80 [==============================] - 0s 869us/step - loss: 0.3293 - accuracy: 0.8641\n",
      "Epoch 298/500\n",
      "80/80 [==============================] - 0s 871us/step - loss: 0.3290 - accuracy: 0.8635\n",
      "Epoch 299/500\n",
      "80/80 [==============================] - 0s 891us/step - loss: 0.3288 - accuracy: 0.8626\n",
      "Epoch 300/500\n",
      "80/80 [==============================] - 0s 839us/step - loss: 0.3292 - accuracy: 0.8626\n",
      "Epoch 301/500\n",
      "80/80 [==============================] - 0s 855us/step - loss: 0.3289 - accuracy: 0.8641\n",
      "Epoch 302/500\n",
      "80/80 [==============================] - 0s 1ms/step - loss: 0.3293 - accuracy: 0.8625\n",
      "Epoch 303/500\n",
      "80/80 [==============================] - 0s 845us/step - loss: 0.3289 - accuracy: 0.8622\n",
      "Epoch 304/500\n",
      "80/80 [==============================] - 0s 848us/step - loss: 0.3289 - accuracy: 0.8630\n",
      "Epoch 305/500\n",
      "80/80 [==============================] - 0s 747us/step - loss: 0.3290 - accuracy: 0.8627\n",
      "Epoch 306/500\n",
      "80/80 [==============================] - 0s 890us/step - loss: 0.3286 - accuracy: 0.8635\n",
      "Epoch 307/500\n",
      "80/80 [==============================] - 0s 838us/step - loss: 0.3288 - accuracy: 0.8637\n",
      "Epoch 308/500\n",
      "80/80 [==============================] - 0s 841us/step - loss: 0.3289 - accuracy: 0.8625\n",
      "Epoch 309/500\n",
      "80/80 [==============================] - 0s 1ms/step - loss: 0.3289 - accuracy: 0.8635\n",
      "Epoch 310/500\n",
      "80/80 [==============================] - 0s 828us/step - loss: 0.3286 - accuracy: 0.8626\n",
      "Epoch 311/500\n",
      "80/80 [==============================] - 0s 828us/step - loss: 0.3289 - accuracy: 0.8626\n",
      "Epoch 312/500\n",
      "80/80 [==============================] - 0s 850us/step - loss: 0.3289 - accuracy: 0.8619\n",
      "Epoch 313/500\n",
      "80/80 [==============================] - 0s 843us/step - loss: 0.3286 - accuracy: 0.8635\n",
      "Epoch 314/500\n",
      "80/80 [==============================] - 0s 841us/step - loss: 0.3288 - accuracy: 0.8633\n",
      "Epoch 315/500\n",
      "80/80 [==============================] - 0s 729us/step - loss: 0.3286 - accuracy: 0.8633\n",
      "Epoch 316/500\n",
      "80/80 [==============================] - 0s 855us/step - loss: 0.3291 - accuracy: 0.8631\n",
      "Epoch 317/500\n",
      "80/80 [==============================] - 0s 854us/step - loss: 0.3287 - accuracy: 0.8633\n",
      "Epoch 318/500\n",
      "80/80 [==============================] - 0s 1ms/step - loss: 0.3287 - accuracy: 0.8648\n",
      "Epoch 319/500\n"
     ]
    },
    {
     "name": "stdout",
     "output_type": "stream",
     "text": [
      "80/80 [==============================] - 0s 842us/step - loss: 0.3287 - accuracy: 0.8637\n",
      "Epoch 320/500\n",
      "80/80 [==============================] - 0s 823us/step - loss: 0.3287 - accuracy: 0.8639\n",
      "Epoch 321/500\n",
      "80/80 [==============================] - 0s 840us/step - loss: 0.3286 - accuracy: 0.8633\n",
      "Epoch 322/500\n",
      "80/80 [==============================] - 0s 913us/step - loss: 0.3287 - accuracy: 0.8636\n",
      "Epoch 323/500\n",
      "80/80 [==============================] - 0s 841us/step - loss: 0.3286 - accuracy: 0.8639\n",
      "Epoch 324/500\n",
      "80/80 [==============================] - 0s 850us/step - loss: 0.3286 - accuracy: 0.8639\n",
      "Epoch 325/500\n",
      "80/80 [==============================] - 0s 841us/step - loss: 0.3286 - accuracy: 0.8629\n",
      "Epoch 326/500\n",
      "80/80 [==============================] - 0s 844us/step - loss: 0.3284 - accuracy: 0.8643\n",
      "Epoch 327/500\n",
      "80/80 [==============================] - 0s 841us/step - loss: 0.3286 - accuracy: 0.8644\n",
      "Epoch 328/500\n",
      "80/80 [==============================] - 0s 846us/step - loss: 0.3287 - accuracy: 0.8631\n",
      "Epoch 329/500\n",
      "80/80 [==============================] - 0s 847us/step - loss: 0.3286 - accuracy: 0.8639\n",
      "Epoch 330/500\n",
      "80/80 [==============================] - 0s 844us/step - loss: 0.3286 - accuracy: 0.8633\n",
      "Epoch 331/500\n",
      "80/80 [==============================] - 0s 843us/step - loss: 0.3286 - accuracy: 0.8630\n",
      "Epoch 332/500\n",
      "80/80 [==============================] - 0s 844us/step - loss: 0.3285 - accuracy: 0.8627\n",
      "Epoch 333/500\n",
      "80/80 [==============================] - 0s 847us/step - loss: 0.3287 - accuracy: 0.8658\n",
      "Epoch 334/500\n",
      "80/80 [==============================] - 0s 845us/step - loss: 0.3285 - accuracy: 0.8634\n",
      "Epoch 335/500\n",
      "80/80 [==============================] - 0s 701us/step - loss: 0.3286 - accuracy: 0.8631\n",
      "Epoch 336/500\n",
      "80/80 [==============================] - 0s 854us/step - loss: 0.3285 - accuracy: 0.8634\n",
      "Epoch 337/500\n",
      "80/80 [==============================] - 0s 804us/step - loss: 0.3284 - accuracy: 0.8634\n",
      "Epoch 338/500\n",
      "80/80 [==============================] - 0s 852us/step - loss: 0.3285 - accuracy: 0.8636\n",
      "Epoch 339/500\n",
      "80/80 [==============================] - 0s 838us/step - loss: 0.3283 - accuracy: 0.8634\n",
      "Epoch 340/500\n",
      "80/80 [==============================] - 0s 845us/step - loss: 0.3285 - accuracy: 0.8654\n",
      "Epoch 341/500\n",
      "80/80 [==============================] - 0s 842us/step - loss: 0.3287 - accuracy: 0.8636\n",
      "Epoch 342/500\n",
      "80/80 [==============================] - 0s 845us/step - loss: 0.3292 - accuracy: 0.8649\n",
      "Epoch 343/500\n",
      "80/80 [==============================] - 0s 1ms/step - loss: 0.3285 - accuracy: 0.8640\n",
      "Epoch 344/500\n",
      "80/80 [==============================] - 0s 822us/step - loss: 0.3288 - accuracy: 0.8636\n",
      "Epoch 345/500\n",
      "80/80 [==============================] - 0s 845us/step - loss: 0.3284 - accuracy: 0.8627\n",
      "Epoch 346/500\n",
      "80/80 [==============================] - 0s 841us/step - loss: 0.3287 - accuracy: 0.8622\n",
      "Epoch 347/500\n",
      "80/80 [==============================] - 0s 858us/step - loss: 0.3287 - accuracy: 0.8622\n",
      "Epoch 348/500\n",
      "80/80 [==============================] - 0s 834us/step - loss: 0.3283 - accuracy: 0.8639\n",
      "Epoch 349/500\n",
      "80/80 [==============================] - 0s 1ms/step - loss: 0.3282 - accuracy: 0.8635\n",
      "Epoch 350/500\n",
      "80/80 [==============================] - 0s 787us/step - loss: 0.3283 - accuracy: 0.8636\n",
      "Epoch 351/500\n",
      "80/80 [==============================] - 0s 855us/step - loss: 0.3282 - accuracy: 0.8639\n",
      "Epoch 352/500\n",
      "80/80 [==============================] - 0s 833us/step - loss: 0.3283 - accuracy: 0.8649\n",
      "Epoch 353/500\n",
      "80/80 [==============================] - 0s 1ms/step - loss: 0.3282 - accuracy: 0.8637\n",
      "Epoch 354/500\n",
      "80/80 [==============================] - 0s 846us/step - loss: 0.3282 - accuracy: 0.8645\n",
      "Epoch 355/500\n",
      "80/80 [==============================] - 0s 851us/step - loss: 0.3283 - accuracy: 0.8650\n",
      "Epoch 356/500\n",
      "80/80 [==============================] - 0s 842us/step - loss: 0.3284 - accuracy: 0.8637\n",
      "Epoch 357/500\n",
      "80/80 [==============================] - 0s 846us/step - loss: 0.3285 - accuracy: 0.8654\n",
      "Epoch 358/500\n",
      "80/80 [==============================] - 0s 837us/step - loss: 0.3281 - accuracy: 0.8639\n",
      "Epoch 359/500\n",
      "80/80 [==============================] - 0s 851us/step - loss: 0.3285 - accuracy: 0.8625\n",
      "Epoch 360/500\n",
      "80/80 [==============================] - 0s 840us/step - loss: 0.3284 - accuracy: 0.8633\n",
      "Epoch 361/500\n",
      "80/80 [==============================] - 0s 843us/step - loss: 0.3283 - accuracy: 0.8636\n",
      "Epoch 362/500\n",
      "80/80 [==============================] - 0s 850us/step - loss: 0.3284 - accuracy: 0.8631\n",
      "Epoch 363/500\n",
      "80/80 [==============================] - 0s 838us/step - loss: 0.3281 - accuracy: 0.8641\n",
      "Epoch 364/500\n",
      "80/80 [==============================] - 0s 825us/step - loss: 0.3281 - accuracy: 0.8634\n",
      "Epoch 365/500\n",
      "80/80 [==============================] - 0s 832us/step - loss: 0.3283 - accuracy: 0.8636\n",
      "Epoch 366/500\n",
      "80/80 [==============================] - 0s 844us/step - loss: 0.3286 - accuracy: 0.8637\n",
      "Epoch 367/500\n",
      "80/80 [==============================] - 0s 843us/step - loss: 0.3283 - accuracy: 0.8631\n",
      "Epoch 368/500\n",
      "80/80 [==============================] - 0s 845us/step - loss: 0.3282 - accuracy: 0.8639\n",
      "Epoch 369/500\n",
      "80/80 [==============================] - 0s 849us/step - loss: 0.3286 - accuracy: 0.8639\n",
      "Epoch 370/500\n",
      "80/80 [==============================] - 0s 842us/step - loss: 0.3283 - accuracy: 0.8636\n",
      "Epoch 371/500\n",
      "80/80 [==============================] - 0s 1ms/step - loss: 0.3282 - accuracy: 0.8637\n",
      "Epoch 372/500\n",
      "80/80 [==============================] - 0s 817us/step - loss: 0.3279 - accuracy: 0.8664\n",
      "Epoch 373/500\n",
      "80/80 [==============================] - 0s 843us/step - loss: 0.3281 - accuracy: 0.8637\n",
      "Epoch 374/500\n",
      "80/80 [==============================] - 0s 846us/step - loss: 0.3281 - accuracy: 0.8643\n",
      "Epoch 375/500\n",
      "80/80 [==============================] - 0s 849us/step - loss: 0.3280 - accuracy: 0.8654\n",
      "Epoch 376/500\n",
      "80/80 [==============================] - 0s 864us/step - loss: 0.3281 - accuracy: 0.8650\n",
      "Epoch 377/500\n",
      "80/80 [==============================] - 0s 845us/step - loss: 0.3283 - accuracy: 0.8633\n",
      "Epoch 378/500\n",
      "80/80 [==============================] - 0s 991us/step - loss: 0.3282 - accuracy: 0.8634\n",
      "Epoch 379/500\n",
      "80/80 [==============================] - 0s 845us/step - loss: 0.3281 - accuracy: 0.8640\n",
      "Epoch 380/500\n",
      "80/80 [==============================] - 0s 848us/step - loss: 0.3281 - accuracy: 0.8645\n",
      "Epoch 381/500\n",
      "80/80 [==============================] - 0s 842us/step - loss: 0.3286 - accuracy: 0.8627\n",
      "Epoch 382/500\n",
      "80/80 [==============================] - 0s 844us/step - loss: 0.3284 - accuracy: 0.8631\n",
      "Epoch 383/500\n",
      "80/80 [==============================] - 0s 1ms/step - loss: 0.3280 - accuracy: 0.8633\n",
      "Epoch 384/500\n",
      "80/80 [==============================] - 0s 770us/step - loss: 0.3285 - accuracy: 0.8648\n",
      "Epoch 385/500\n",
      "80/80 [==============================] - 0s 848us/step - loss: 0.3278 - accuracy: 0.8640\n",
      "Epoch 386/500\n",
      "80/80 [==============================] - 0s 874us/step - loss: 0.3282 - accuracy: 0.8639\n",
      "Epoch 387/500\n",
      "80/80 [==============================] - 0s 846us/step - loss: 0.3281 - accuracy: 0.8635\n",
      "Epoch 388/500\n",
      "80/80 [==============================] - 0s 839us/step - loss: 0.3283 - accuracy: 0.8627\n",
      "Epoch 389/500\n",
      "80/80 [==============================] - 0s 844us/step - loss: 0.3279 - accuracy: 0.8620\n",
      "Epoch 390/500\n",
      "80/80 [==============================] - 0s 847us/step - loss: 0.3279 - accuracy: 0.8637\n",
      "Epoch 391/500\n",
      "80/80 [==============================] - 0s 844us/step - loss: 0.3278 - accuracy: 0.8636\n",
      "Epoch 392/500\n",
      "80/80 [==============================] - 0s 855us/step - loss: 0.3281 - accuracy: 0.8637\n",
      "Epoch 393/500\n",
      "80/80 [==============================] - 0s 861us/step - loss: 0.3287 - accuracy: 0.8633\n",
      "Epoch 394/500\n",
      "80/80 [==============================] - 0s 871us/step - loss: 0.3276 - accuracy: 0.8646\n",
      "Epoch 395/500\n",
      "80/80 [==============================] - 0s 819us/step - loss: 0.3280 - accuracy: 0.8637\n",
      "Epoch 396/500\n",
      "80/80 [==============================] - 0s 1ms/step - loss: 0.3281 - accuracy: 0.8641\n",
      "Epoch 397/500\n",
      "80/80 [==============================] - 0s 820us/step - loss: 0.3280 - accuracy: 0.8646\n",
      "Epoch 398/500\n"
     ]
    },
    {
     "name": "stdout",
     "output_type": "stream",
     "text": [
      "80/80 [==============================] - 0s 853us/step - loss: 0.3279 - accuracy: 0.8641\n",
      "Epoch 399/500\n",
      "80/80 [==============================] - 0s 822us/step - loss: 0.3285 - accuracy: 0.8631\n",
      "Epoch 400/500\n",
      "80/80 [==============================] - 0s 844us/step - loss: 0.3278 - accuracy: 0.8634\n",
      "Epoch 401/500\n",
      "80/80 [==============================] - 0s 852us/step - loss: 0.3279 - accuracy: 0.8639\n",
      "Epoch 402/500\n",
      "80/80 [==============================] - 0s 846us/step - loss: 0.3284 - accuracy: 0.8630\n",
      "Epoch 403/500\n",
      "80/80 [==============================] - 0s 840us/step - loss: 0.3283 - accuracy: 0.8630\n",
      "Epoch 404/500\n",
      "80/80 [==============================] - 0s 874us/step - loss: 0.3279 - accuracy: 0.8633\n",
      "Epoch 405/500\n",
      "80/80 [==============================] - 0s 814us/step - loss: 0.3280 - accuracy: 0.8637\n",
      "Epoch 406/500\n",
      "80/80 [==============================] - 0s 1ms/step - loss: 0.3279 - accuracy: 0.8637\n",
      "Epoch 407/500\n",
      "80/80 [==============================] - 0s 841us/step - loss: 0.3279 - accuracy: 0.8646\n",
      "Epoch 408/500\n",
      "80/80 [==============================] - 0s 1ms/step - loss: 0.3277 - accuracy: 0.8640\n",
      "Epoch 409/500\n",
      "80/80 [==============================] - 0s 819us/step - loss: 0.3278 - accuracy: 0.8643\n",
      "Epoch 410/500\n",
      "80/80 [==============================] - 0s 844us/step - loss: 0.3283 - accuracy: 0.8631\n",
      "Epoch 411/500\n",
      "80/80 [==============================] - 0s 883us/step - loss: 0.3283 - accuracy: 0.8630\n",
      "Epoch 412/500\n",
      "80/80 [==============================] - 0s 808us/step - loss: 0.3278 - accuracy: 0.8641\n",
      "Epoch 413/500\n",
      "80/80 [==============================] - 0s 1ms/step - loss: 0.3282 - accuracy: 0.8646\n",
      "Epoch 414/500\n",
      "80/80 [==============================] - 0s 1ms/step - loss: 0.3281 - accuracy: 0.8633\n",
      "Epoch 415/500\n",
      "80/80 [==============================] - 0s 1ms/step - loss: 0.3278 - accuracy: 0.8639\n",
      "Epoch 416/500\n",
      "80/80 [==============================] - 0s 1ms/step - loss: 0.3281 - accuracy: 0.8640\n",
      "Epoch 417/500\n",
      "80/80 [==============================] - 0s 903us/step - loss: 0.3281 - accuracy: 0.8631\n",
      "Epoch 418/500\n",
      "80/80 [==============================] - 0s 1ms/step - loss: 0.3276 - accuracy: 0.8636\n",
      "Epoch 419/500\n",
      "80/80 [==============================] - 0s 912us/step - loss: 0.3278 - accuracy: 0.8624\n",
      "Epoch 420/500\n",
      "80/80 [==============================] - 0s 1ms/step - loss: 0.3277 - accuracy: 0.8648\n",
      "Epoch 421/500\n",
      "80/80 [==============================] - 0s 1ms/step - loss: 0.3279 - accuracy: 0.8637\n",
      "Epoch 422/500\n",
      "80/80 [==============================] - 0s 916us/step - loss: 0.3277 - accuracy: 0.8636\n",
      "Epoch 423/500\n",
      "80/80 [==============================] - 0s 841us/step - loss: 0.3276 - accuracy: 0.8646\n",
      "Epoch 424/500\n",
      "80/80 [==============================] - 0s 1ms/step - loss: 0.3277 - accuracy: 0.8640\n",
      "Epoch 425/500\n",
      "80/80 [==============================] - 0s 988us/step - loss: 0.3276 - accuracy: 0.8648\n",
      "Epoch 426/500\n",
      "80/80 [==============================] - 0s 1ms/step - loss: 0.3278 - accuracy: 0.8635\n",
      "Epoch 427/500\n",
      "80/80 [==============================] - 0s 886us/step - loss: 0.3283 - accuracy: 0.8643\n",
      "Epoch 428/500\n",
      "80/80 [==============================] - 0s 1ms/step - loss: 0.3283 - accuracy: 0.8633\n",
      "Epoch 429/500\n",
      "80/80 [==============================] - 0s 1ms/step - loss: 0.3277 - accuracy: 0.8640\n",
      "Epoch 430/500\n",
      "80/80 [==============================] - 0s 1ms/step - loss: 0.3274 - accuracy: 0.8631\n",
      "Epoch 431/500\n",
      "80/80 [==============================] - 0s 1ms/step - loss: 0.3275 - accuracy: 0.8644\n",
      "Epoch 432/500\n",
      "80/80 [==============================] - 0s 1ms/step - loss: 0.3276 - accuracy: 0.8630\n",
      "Epoch 433/500\n",
      "80/80 [==============================] - 0s 1ms/step - loss: 0.3280 - accuracy: 0.8633\n",
      "Epoch 434/500\n",
      "80/80 [==============================] - 0s 1ms/step - loss: 0.3275 - accuracy: 0.8640\n",
      "Epoch 435/500\n",
      "80/80 [==============================] - 0s 1ms/step - loss: 0.3274 - accuracy: 0.8637\n",
      "Epoch 436/500\n",
      "80/80 [==============================] - 0s 1ms/step - loss: 0.3279 - accuracy: 0.8630\n",
      "Epoch 437/500\n",
      "80/80 [==============================] - 0s 1ms/step - loss: 0.3276 - accuracy: 0.8639\n",
      "Epoch 438/500\n",
      "80/80 [==============================] - 0s 1ms/step - loss: 0.3277 - accuracy: 0.8649\n",
      "Epoch 439/500\n",
      "80/80 [==============================] - 0s 915us/step - loss: 0.3279 - accuracy: 0.8649\n",
      "Epoch 440/500\n",
      "80/80 [==============================] - 0s 1ms/step - loss: 0.3278 - accuracy: 0.8631\n",
      "Epoch 441/500\n",
      "80/80 [==============================] - 0s 1ms/step - loss: 0.3277 - accuracy: 0.8633\n",
      "Epoch 442/500\n",
      "80/80 [==============================] - 0s 1ms/step - loss: 0.3280 - accuracy: 0.8633\n",
      "Epoch 443/500\n",
      "80/80 [==============================] - 0s 1ms/step - loss: 0.3277 - accuracy: 0.8645\n",
      "Epoch 444/500\n",
      "80/80 [==============================] - 0s 1ms/step - loss: 0.3280 - accuracy: 0.8643\n",
      "Epoch 445/500\n",
      "80/80 [==============================] - 0s 1ms/step - loss: 0.3277 - accuracy: 0.8626\n",
      "Epoch 446/500\n",
      "80/80 [==============================] - 0s 975us/step - loss: 0.3275 - accuracy: 0.8640\n",
      "Epoch 447/500\n",
      "80/80 [==============================] - 0s 983us/step - loss: 0.3276 - accuracy: 0.8645\n",
      "Epoch 448/500\n",
      "80/80 [==============================] - 0s 1ms/step - loss: 0.3277 - accuracy: 0.8643\n",
      "Epoch 449/500\n",
      "80/80 [==============================] - 0s 967us/step - loss: 0.3279 - accuracy: 0.8644\n",
      "Epoch 450/500\n",
      "80/80 [==============================] - 0s 825us/step - loss: 0.3275 - accuracy: 0.8640\n",
      "Epoch 451/500\n",
      "80/80 [==============================] - 0s 933us/step - loss: 0.3272 - accuracy: 0.8635\n",
      "Epoch 452/500\n",
      "80/80 [==============================] - 0s 892us/step - loss: 0.3278 - accuracy: 0.8637\n",
      "Epoch 453/500\n",
      "80/80 [==============================] - 0s 1ms/step - loss: 0.3276 - accuracy: 0.8630\n",
      "Epoch 454/500\n",
      "80/80 [==============================] - 0s 1ms/step - loss: 0.3277 - accuracy: 0.8641\n",
      "Epoch 455/500\n",
      "80/80 [==============================] - 0s 796us/step - loss: 0.3275 - accuracy: 0.8634\n",
      "Epoch 456/500\n",
      "80/80 [==============================] - 0s 935us/step - loss: 0.3277 - accuracy: 0.8629\n",
      "Epoch 457/500\n",
      "80/80 [==============================] - 0s 1ms/step - loss: 0.3280 - accuracy: 0.8637\n",
      "Epoch 458/500\n",
      "80/80 [==============================] - 0s 993us/step - loss: 0.3276 - accuracy: 0.8637\n",
      "Epoch 459/500\n",
      "80/80 [==============================] - 0s 1ms/step - loss: 0.3277 - accuracy: 0.8631\n",
      "Epoch 460/500\n",
      "80/80 [==============================] - 0s 1ms/step - loss: 0.3277 - accuracy: 0.8639\n",
      "Epoch 461/500\n",
      "80/80 [==============================] - 0s 1ms/step - loss: 0.3276 - accuracy: 0.8640\n",
      "Epoch 462/500\n",
      "80/80 [==============================] - 0s 1ms/step - loss: 0.3276 - accuracy: 0.8633\n",
      "Epoch 463/500\n",
      "80/80 [==============================] - 0s 1ms/step - loss: 0.3275 - accuracy: 0.8635\n",
      "Epoch 464/500\n",
      "80/80 [==============================] - 0s 1ms/step - loss: 0.3277 - accuracy: 0.8651\n",
      "Epoch 465/500\n",
      "80/80 [==============================] - 0s 1ms/step - loss: 0.3276 - accuracy: 0.8630\n",
      "Epoch 466/500\n",
      "80/80 [==============================] - 0s 1ms/step - loss: 0.3277 - accuracy: 0.8649\n",
      "Epoch 467/500\n",
      "80/80 [==============================] - 0s 1ms/step - loss: 0.3274 - accuracy: 0.8633\n",
      "Epoch 468/500\n",
      "80/80 [==============================] - 0s 1ms/step - loss: 0.3276 - accuracy: 0.8634\n",
      "Epoch 469/500\n",
      "80/80 [==============================] - 0s 1ms/step - loss: 0.3277 - accuracy: 0.8649\n",
      "Epoch 470/500\n",
      "80/80 [==============================] - 0s 1ms/step - loss: 0.3271 - accuracy: 0.8640\n",
      "Epoch 471/500\n",
      "80/80 [==============================] - 0s 1ms/step - loss: 0.3274 - accuracy: 0.8631\n",
      "Epoch 472/500\n",
      "80/80 [==============================] - 0s 1ms/step - loss: 0.3276 - accuracy: 0.8644\n",
      "Epoch 473/500\n",
      "80/80 [==============================] - 0s 1ms/step - loss: 0.3274 - accuracy: 0.8637\n",
      "Epoch 474/500\n",
      "80/80 [==============================] - 0s 1ms/step - loss: 0.3273 - accuracy: 0.8636\n",
      "Epoch 475/500\n",
      "80/80 [==============================] - 0s 762us/step - loss: 0.3284 - accuracy: 0.8637\n",
      "Epoch 476/500\n",
      "80/80 [==============================] - 0s 1ms/step - loss: 0.3274 - accuracy: 0.8634\n",
      "Epoch 477/500\n",
      "80/80 [==============================] - 0s 778us/step - loss: 0.3277 - accuracy: 0.8629\n",
      "Epoch 478/500\n"
     ]
    },
    {
     "name": "stdout",
     "output_type": "stream",
     "text": [
      "80/80 [==============================] - 0s 873us/step - loss: 0.3272 - accuracy: 0.8645\n",
      "Epoch 479/500\n",
      "80/80 [==============================] - 0s 1ms/step - loss: 0.3273 - accuracy: 0.8627\n",
      "Epoch 480/500\n",
      "80/80 [==============================] - 0s 797us/step - loss: 0.3273 - accuracy: 0.8640\n",
      "Epoch 481/500\n",
      "80/80 [==============================] - 0s 1ms/step - loss: 0.3279 - accuracy: 0.8633\n",
      "Epoch 482/500\n",
      "80/80 [==============================] - 0s 1ms/step - loss: 0.3273 - accuracy: 0.8637\n",
      "Epoch 483/500\n",
      "80/80 [==============================] - 0s 929us/step - loss: 0.3274 - accuracy: 0.8635\n",
      "Epoch 484/500\n",
      "80/80 [==============================] - 0s 879us/step - loss: 0.3276 - accuracy: 0.8634\n",
      "Epoch 485/500\n",
      "80/80 [==============================] - 0s 1ms/step - loss: 0.3275 - accuracy: 0.8636\n",
      "Epoch 486/500\n",
      "80/80 [==============================] - 0s 1ms/step - loss: 0.3274 - accuracy: 0.8645\n",
      "Epoch 487/500\n",
      "80/80 [==============================] - 0s 1ms/step - loss: 0.3273 - accuracy: 0.8654\n",
      "Epoch 488/500\n",
      "80/80 [==============================] - 0s 1ms/step - loss: 0.3276 - accuracy: 0.8641\n",
      "Epoch 489/500\n",
      "80/80 [==============================] - 0s 1ms/step - loss: 0.3277 - accuracy: 0.8641\n",
      "Epoch 490/500\n",
      "80/80 [==============================] - 0s 790us/step - loss: 0.3273 - accuracy: 0.8625\n",
      "Epoch 491/500\n",
      "80/80 [==============================] - 0s 1ms/step - loss: 0.3278 - accuracy: 0.8634\n",
      "Epoch 492/500\n",
      "80/80 [==============================] - 0s 849us/step - loss: 0.3275 - accuracy: 0.8643\n",
      "Epoch 493/500\n",
      "80/80 [==============================] - 0s 890us/step - loss: 0.3276 - accuracy: 0.8639\n",
      "Epoch 494/500\n",
      "80/80 [==============================] - 0s 1ms/step - loss: 0.3275 - accuracy: 0.8655\n",
      "Epoch 495/500\n",
      "80/80 [==============================] - 0s 949us/step - loss: 0.3273 - accuracy: 0.8645\n",
      "Epoch 496/500\n",
      "80/80 [==============================] - 0s 883us/step - loss: 0.3276 - accuracy: 0.8631\n",
      "Epoch 497/500\n",
      "80/80 [==============================] - 0s 930us/step - loss: 0.3278 - accuracy: 0.8643\n",
      "Epoch 498/500\n",
      "80/80 [==============================] - 0s 1ms/step - loss: 0.3276 - accuracy: 0.8635\n",
      "Epoch 499/500\n",
      "80/80 [==============================] - 0s 847us/step - loss: 0.3274 - accuracy: 0.8641\n",
      "Epoch 500/500\n",
      "80/80 [==============================] - 0s 1ms/step - loss: 0.3272 - accuracy: 0.8640\n"
     ]
    }
   ],
   "source": [
    "#### Last step in creation of NNmodel. NNmodel is trained on the training set here with Tensor-Keras .fit based on Compiler\n",
    "#Fitting NNmodel\n",
    "history=NNmodel.fit(X_train,Y_train,batch_size=100,epochs = 500)\n",
    "### Note that tf.keras.models.Sequential() by default uses glorot initializer -- drawing intial weights from a uniform \n",
    "### distribution -- see other possibilities in https://keras.io/api/layers/initializers/\n",
    "### Or you could try own customized wts inputs using\n",
    "### for layer in model.layers:\n",
    "###    init_layer_weight = [] # the weights yourself in this layer\n",
    "###    layer.set_weights(init_layer_weight)"
   ]
  },
  {
   "cell_type": "code",
   "execution_count": 23,
   "id": "73398e8b",
   "metadata": {},
   "outputs": [
    {
     "name": "stdout",
     "output_type": "stream",
     "text": [
      "Model: \"sequential\"\n",
      "_________________________________________________________________\n",
      " Layer (type)                Output Shape              Param #   \n",
      "=================================================================\n",
      " dense (Dense)               (100, 6)                  78        \n",
      "                                                                 \n",
      " dense_1 (Dense)             (100, 6)                  42        \n",
      "                                                                 \n",
      " dense_2 (Dense)             (100, 6)                  42        \n",
      "                                                                 \n",
      " dense_3 (Dense)             (100, 1)                  7         \n",
      "                                                                 \n",
      "=================================================================\n",
      "Total params: 169 (676.00 Byte)\n",
      "Trainable params: 169 (676.00 Byte)\n",
      "Non-trainable params: 0 (0.00 Byte)\n",
      "_________________________________________________________________\n"
     ]
    }
   ],
   "source": [
    "NNmodel.summary()"
   ]
  },
  {
   "cell_type": "code",
   "execution_count": 24,
   "id": "3afe099c",
   "metadata": {},
   "outputs": [
    {
     "name": "stdout",
     "output_type": "stream",
     "text": [
      "[0.797249972820282, 0.797249972820282, 0.797249972820282, 0.797249972820282, 0.797249972820282, 0.797249972820282, 0.797249972820282, 0.797249972820282, 0.797249972820282, 0.797249972820282, 0.797249972820282, 0.797249972820282, 0.797249972820282, 0.797249972820282, 0.797249972820282, 0.797249972820282, 0.797249972820282, 0.797249972820282, 0.797249972820282, 0.797249972820282, 0.797249972820282, 0.797249972820282, 0.797249972820282, 0.797249972820282, 0.797249972820282, 0.7973750233650208, 0.8015000224113464, 0.8087499737739563, 0.8153749704360962, 0.8201249837875366, 0.8211249709129333, 0.8206250071525574, 0.8228750228881836, 0.8240000009536743, 0.8247500061988831, 0.8271250128746033, 0.8270000219345093, 0.8287500143051147, 0.828499972820282, 0.8295000195503235, 0.8286250233650208, 0.8291249871253967, 0.8307499885559082, 0.8299999833106995, 0.8323749899864197, 0.8335000276565552, 0.8345000147819519, 0.8368750214576721, 0.8371250033378601, 0.8395000100135803, 0.8412500023841858, 0.8414999842643738, 0.8423749804496765, 0.8443750143051147, 0.8452500104904175, 0.8460000157356262, 0.8475000262260437, 0.8476250171661377, 0.8483750224113464, 0.8501250147819519, 0.8498749732971191, 0.8511250019073486, 0.8500000238418579, 0.8528749942779541, 0.8525000214576721, 0.8532500267028809, 0.8531249761581421, 0.8541250228881836, 0.8542500138282776, 0.8560000061988831, 0.8558750152587891, 0.8567500114440918, 0.8578749895095825, 0.8575000166893005, 0.8582500219345093, 0.8586249947547913, 0.8573750257492065, 0.8571249842643738, 0.8585000038146973, 0.8598750233650208, 0.859624981880188, 0.859375, 0.8585000038146973, 0.8613749742507935, 0.8604999780654907, 0.8607500195503235, 0.8616250157356262, 0.8613749742507935, 0.8617500066757202, 0.8615000247955322, 0.8619999885559082, 0.8612499833106995, 0.8628749847412109, 0.8629999756813049, 0.8633750081062317, 0.8612499833106995, 0.8629999756813049, 0.8615000247955322, 0.862625002861023, 0.8629999756813049, 0.8627499938011169, 0.8617500066757202, 0.8622499704360962, 0.8607500195503235, 0.8615000247955322, 0.8615000247955322, 0.8616250157356262, 0.862375020980835, 0.8619999885559082, 0.8603749871253967, 0.8622499704360962, 0.8613749742507935, 0.8618749976158142, 0.8621249794960022, 0.8627499938011169, 0.8619999885559082, 0.8613749742507935, 0.8632500171661377, 0.8621249794960022, 0.8604999780654907, 0.8628749847412109, 0.8628749847412109, 0.8622499704360962, 0.8615000247955322, 0.8621249794960022, 0.8615000247955322, 0.8637499809265137, 0.8632500171661377, 0.8627499938011169, 0.8631250262260437, 0.8632500171661377, 0.862625002861023, 0.862500011920929, 0.862375020980835, 0.8627499938011169, 0.8631250262260437, 0.862625002861023, 0.862500011920929, 0.8631250262260437, 0.8629999756813049, 0.8627499938011169, 0.8627499938011169, 0.8632500171661377, 0.8629999756813049, 0.862500011920929, 0.8627499938011169, 0.8618749976158142, 0.862625002861023, 0.8632500171661377, 0.8622499704360962, 0.8633750081062317, 0.8628749847412109, 0.8629999756813049, 0.8631250262260437, 0.8632500171661377, 0.8629999756813049, 0.8621249794960022, 0.862500011920929, 0.8621249794960022, 0.862375020980835, 0.8618749976158142, 0.8634999990463257, 0.8619999885559082, 0.8634999990463257, 0.8617500066757202, 0.862625002861023, 0.862375020980835, 0.862625002861023, 0.8627499938011169, 0.8634999990463257, 0.8632500171661377, 0.8629999756813049, 0.862500011920929, 0.8633750081062317, 0.8631250262260437, 0.8617500066757202, 0.8631250262260437, 0.8643749952316284, 0.8636249899864197, 0.8627499938011169, 0.862375020980835, 0.8612499833106995, 0.8629999756813049, 0.8627499938011169, 0.862500011920929, 0.8621249794960022, 0.8616250157356262, 0.8621249794960022, 0.8637499809265137, 0.862625002861023, 0.8627499938011169, 0.862375020980835, 0.8631250262260437, 0.862625002861023, 0.8627499938011169, 0.8629999756813049, 0.8629999756813049, 0.8619999885559082, 0.8619999885559082, 0.8621249794960022, 0.8642500042915344, 0.8632500171661377, 0.8619999885559082, 0.8632500171661377, 0.8613749742507935, 0.8631250262260437, 0.8616250157356262, 0.8613749742507935, 0.862375020980835, 0.8637499809265137, 0.8622499704360962, 0.8617500066757202, 0.8628749847412109, 0.8615000247955322, 0.8629999756813049, 0.8618749976158142, 0.8619999885559082, 0.8633750081062317, 0.8616250157356262, 0.8617500066757202, 0.8619999885559082, 0.8621249794960022, 0.8622499704360962, 0.8612499833106995, 0.8618749976158142, 0.8618749976158142, 0.8632500171661377, 0.8613749742507935, 0.8611249923706055, 0.8607500195503235, 0.8607500195503235, 0.8618749976158142, 0.8628749847412109, 0.862500011920929, 0.8633750081062317, 0.8621249794960022, 0.8629999756813049, 0.8641250133514404, 0.862375020980835, 0.8628749847412109, 0.8619999885559082, 0.8616250157356262, 0.862625002861023, 0.862500011920929, 0.862625002861023, 0.862625002861023, 0.8627499938011169, 0.862500011920929, 0.8613749742507935, 0.8618749976158142, 0.8628749847412109, 0.8606250286102295, 0.8616250157356262, 0.8622499704360962, 0.862500011920929, 0.8636249899864197, 0.8627499938011169, 0.862625002861023, 0.862500011920929, 0.862500011920929, 0.8634999990463257, 0.862500011920929, 0.8629999756813049, 0.8640000224113464, 0.862625002861023, 0.8617500066757202, 0.8631250262260437, 0.8622499704360962, 0.8622499704360962, 0.862375020980835, 0.862625002861023, 0.8622499704360962, 0.8629999756813049, 0.8628749847412109, 0.8640000224113464, 0.8613749742507935, 0.8637499809265137, 0.862625002861023, 0.8631250262260437, 0.862500011920929, 0.862375020980835, 0.8631250262260437, 0.8632500171661377, 0.862500011920929, 0.862375020980835, 0.8627499938011169, 0.8636249899864197, 0.8628749847412109, 0.8632500171661377, 0.862625002861023, 0.862375020980835, 0.8629999756813049, 0.8628749847412109, 0.8627499938011169, 0.8640000224113464, 0.8631250262260437, 0.8641250133514404, 0.8634999990463257, 0.862625002861023, 0.862625002861023, 0.8641250133514404, 0.862500011920929, 0.8622499704360962, 0.8629999756813049, 0.8627499938011169, 0.8634999990463257, 0.8637499809265137, 0.862500011920929, 0.8634999990463257, 0.862625002861023, 0.862625002861023, 0.8618749976158142, 0.8634999990463257, 0.8632500171661377, 0.8632500171661377, 0.8631250262260437, 0.8632500171661377, 0.8647500276565552, 0.8637499809265137, 0.8638749718666077, 0.8632500171661377, 0.8636249899864197, 0.8638749718666077, 0.8638749718666077, 0.8628749847412109, 0.8642500042915344, 0.8643749952316284, 0.8631250262260437, 0.8638749718666077, 0.8632500171661377, 0.8629999756813049, 0.8627499938011169, 0.8657500147819519, 0.8633750081062317, 0.8631250262260437, 0.8633750081062317, 0.8633750081062317, 0.8636249899864197, 0.8633750081062317, 0.8653749823570251, 0.8636249899864197, 0.8648750185966492, 0.8640000224113464, 0.8636249899864197, 0.8627499938011169, 0.8622499704360962, 0.8622499704360962, 0.8638749718666077, 0.8634999990463257, 0.8636249899864197, 0.8638749718666077, 0.8648750185966492, 0.8637499809265137, 0.8644999861717224, 0.8650000095367432, 0.8637499809265137, 0.8653749823570251, 0.8638749718666077, 0.862500011920929, 0.8632500171661377, 0.8636249899864197, 0.8631250262260437, 0.8641250133514404, 0.8633750081062317, 0.8636249899864197, 0.8637499809265137, 0.8631250262260437, 0.8638749718666077, 0.8638749718666077, 0.8636249899864197, 0.8637499809265137, 0.8663750290870667, 0.8637499809265137, 0.8642500042915344, 0.8653749823570251, 0.8650000095367432, 0.8632500171661377, 0.8633750081062317, 0.8640000224113464, 0.8644999861717224, 0.8627499938011169, 0.8631250262260437, 0.8632500171661377, 0.8647500276565552, 0.8640000224113464, 0.8638749718666077, 0.8634999990463257, 0.8627499938011169, 0.8619999885559082, 0.8637499809265137, 0.8636249899864197, 0.8637499809265137, 0.8632500171661377, 0.8646249771118164, 0.8637499809265137, 0.8641250133514404, 0.8646249771118164, 0.8641250133514404, 0.8631250262260437, 0.8633750081062317, 0.8638749718666077, 0.8629999756813049, 0.8629999756813049, 0.8632500171661377, 0.8637499809265137, 0.8637499809265137, 0.8646249771118164, 0.8640000224113464, 0.8642500042915344, 0.8631250262260437, 0.8629999756813049, 0.8641250133514404, 0.8646249771118164, 0.8632500171661377, 0.8638749718666077, 0.8640000224113464, 0.8631250262260437, 0.8636249899864197, 0.862375020980835, 0.8647500276565552, 0.8637499809265137, 0.8636249899864197, 0.8646249771118164, 0.8640000224113464, 0.8647500276565552, 0.8634999990463257, 0.8642500042915344, 0.8632500171661377, 0.8640000224113464, 0.8631250262260437, 0.8643749952316284, 0.8629999756813049, 0.8632500171661377, 0.8640000224113464, 0.8637499809265137, 0.8629999756813049, 0.8638749718666077, 0.8648750185966492, 0.8648750185966492, 0.8631250262260437, 0.8632500171661377, 0.8632500171661377, 0.8644999861717224, 0.8642500042915344, 0.862625002861023, 0.8640000224113464, 0.8644999861717224, 0.8642500042915344, 0.8643749952316284, 0.8640000224113464, 0.8634999990463257, 0.8637499809265137, 0.8629999756813049, 0.8641250133514404, 0.8633750081062317, 0.8628749847412109, 0.8637499809265137, 0.8637499809265137, 0.8631250262260437, 0.8638749718666077, 0.8640000224113464, 0.8632500171661377, 0.8634999990463257, 0.8651250004768372, 0.8629999756813049, 0.8648750185966492, 0.8632500171661377, 0.8633750081062317, 0.8648750185966492, 0.8640000224113464, 0.8631250262260437, 0.8643749952316284, 0.8637499809265137, 0.8636249899864197, 0.8637499809265137, 0.8633750081062317, 0.8628749847412109, 0.8644999861717224, 0.8627499938011169, 0.8640000224113464, 0.8632500171661377, 0.8637499809265137, 0.8634999990463257, 0.8633750081062317, 0.8636249899864197, 0.8644999861717224, 0.8653749823570251, 0.8641250133514404, 0.8641250133514404, 0.862500011920929, 0.8633750081062317, 0.8642500042915344, 0.8638749718666077, 0.8654999732971191, 0.8644999861717224, 0.8631250262260437, 0.8642500042915344, 0.8634999990463257, 0.8641250133514404, 0.8640000224113464]\n",
      "[0.5893016457557678, 0.5326760411262512, 0.5103490352630615, 0.503338098526001, 0.5006687641143799, 0.4986584484577179, 0.4964179992675781, 0.4936690926551819, 0.4901726245880127, 0.48568347096443176, 0.48010972142219543, 0.4735148549079895, 0.4662652313709259, 0.45885521173477173, 0.4521009624004364, 0.4459957480430603, 0.4408891499042511, 0.4369219243526459, 0.43379640579223633, 0.43146440386772156, 0.429727703332901, 0.4284154772758484, 0.42740383744239807, 0.4265585243701935, 0.4256289005279541, 0.4247536063194275, 0.4238203763961792, 0.4228481650352478, 0.42195960879325867, 0.4207391142845154, 0.4195077121257782, 0.41824427247047424, 0.41679707169532776, 0.4153968393802643, 0.4138506054878235, 0.4120217263698578, 0.4102395176887512, 0.4081365168094635, 0.40610170364379883, 0.4039492607116699, 0.40191763639450073, 0.3998189866542816, 0.39781054854393005, 0.3958270251750946, 0.39393892884254456, 0.3920172154903412, 0.3901055157184601, 0.38828614354133606, 0.38661280274391174, 0.3848974406719208, 0.3831782937049866, 0.38159456849098206, 0.3800228238105774, 0.37843382358551025, 0.3770548105239868, 0.3756897449493408, 0.37427303194999695, 0.37344470620155334, 0.3719380795955658, 0.37075889110565186, 0.3695344924926758, 0.3685770630836487, 0.36755651235580444, 0.3667295575141907, 0.3655540645122528, 0.3649452328681946, 0.3639896810054779, 0.3632229268550873, 0.3624051511287689, 0.36168432235717773, 0.3609168827533722, 0.3603725731372833, 0.35973215103149414, 0.35887008905410767, 0.35828647017478943, 0.3575718104839325, 0.3573157489299774, 0.35677289962768555, 0.35586774349212646, 0.3553571403026581, 0.35489416122436523, 0.35425469279289246, 0.35404521226882935, 0.353183776140213, 0.3527449369430542, 0.3522794842720032, 0.35148531198501587, 0.35104671120643616, 0.3507833182811737, 0.35046878457069397, 0.34970584511756897, 0.34931182861328125, 0.3487468361854553, 0.3485272228717804, 0.348002552986145, 0.347942590713501, 0.34734803438186646, 0.3470546007156372, 0.3463990092277527, 0.3460822105407715, 0.34562116861343384, 0.34523266553878784, 0.3450617492198944, 0.3447292149066925, 0.34436342120170593, 0.3441086709499359, 0.34388455748558044, 0.3434160053730011, 0.34339988231658936, 0.34292861819267273, 0.3428128957748413, 0.34165331721305847, 0.3421768546104431, 0.3417413830757141, 0.34136122465133667, 0.3410200774669647, 0.3412899971008301, 0.34059634804725647, 0.3403303921222687, 0.34018123149871826, 0.3397934138774872, 0.33977818489074707, 0.3393953740596771, 0.339042067527771, 0.3389439880847931, 0.33881163597106934, 0.33869093656539917, 0.3385627269744873, 0.3378196060657501, 0.33842289447784424, 0.3378240168094635, 0.3378659784793854, 0.3373605012893677, 0.3375045657157898, 0.3370955288410187, 0.3368073105812073, 0.33672043681144714, 0.33656153082847595, 0.3369047939777374, 0.3364008069038391, 0.33624106645584106, 0.3361591696739197, 0.33582597970962524, 0.3357302248477936, 0.3354988992214203, 0.3354959785938263, 0.3356790244579315, 0.33522796630859375, 0.33482107520103455, 0.33492612838745117, 0.3348923623561859, 0.33473101258277893, 0.33467018604278564, 0.33434292674064636, 0.3341612219810486, 0.33404502272605896, 0.3341163992881775, 0.3339810371398926, 0.3338016867637634, 0.3340528905391693, 0.33359986543655396, 0.333418071269989, 0.3336278200149536, 0.33378756046295166, 0.3329910337924957, 0.3335469365119934, 0.3331772983074188, 0.3335282504558563, 0.33291345834732056, 0.33293095231056213, 0.3329809308052063, 0.33270561695098877, 0.3328336179256439, 0.33277031779289246, 0.3324439227581024, 0.33239513635635376, 0.3325516879558563, 0.33254897594451904, 0.33209267258644104, 0.33217233419418335, 0.3320610225200653, 0.3321188986301422, 0.33172523975372314, 0.3319866955280304, 0.3317538797855377, 0.33181679248809814, 0.3321667015552521, 0.331963449716568, 0.33188706636428833, 0.33142390847206116, 0.33169934153556824, 0.3313586115837097, 0.3316454589366913, 0.33168303966522217, 0.3310859799385071, 0.3315502405166626, 0.33140841126441956, 0.33144620060920715, 0.33143216371536255, 0.3311767876148224, 0.3311811685562134, 0.33109724521636963, 0.3312057852745056, 0.330911785364151, 0.33081120252609253, 0.3307912349700928, 0.33080145716667175, 0.3308365046977997, 0.3306802809238434, 0.3304101824760437, 0.3304634988307953, 0.33084794878959656, 0.3309191167354584, 0.33055758476257324, 0.3305271863937378, 0.33049502968788147, 0.3304835557937622, 0.33038219809532166, 0.3307885527610779, 0.3308214545249939, 0.3301893472671509, 0.33034390211105347, 0.3303581476211548, 0.33006787300109863, 0.33035364747047424, 0.3307023048400879, 0.3299866020679474, 0.3304193615913391, 0.33044910430908203, 0.33003801107406616, 0.3301408290863037, 0.3301490843296051, 0.33039233088493347, 0.33062267303466797, 0.3304263949394226, 0.32968294620513916, 0.33027368783950806, 0.3299613893032074, 0.3300054371356964, 0.32998374104499817, 0.3298417627811432, 0.3299303352832794, 0.3300469219684601, 0.3297904431819916, 0.3297695219516754, 0.3300258219242096, 0.32960593700408936, 0.3300984501838684, 0.3297945261001587, 0.32985037565231323, 0.32977771759033203, 0.32995185256004333, 0.3295666575431824, 0.32972490787506104, 0.32925528287887573, 0.32937517762184143, 0.3295503854751587, 0.32957497239112854, 0.3294038474559784, 0.3296287953853607, 0.329343318939209, 0.32929959893226624, 0.3295656144618988, 0.32952895760536194, 0.32979345321655273, 0.3294098377227783, 0.32926538586616516, 0.32943615317344666, 0.32929936051368713, 0.32944706082344055, 0.3293522298336029, 0.32917264103889465, 0.3297501504421234, 0.3293074369430542, 0.32923775911331177, 0.3293907046318054, 0.32909876108169556, 0.3296632766723633, 0.3290734887123108, 0.32932716608047485, 0.3295953869819641, 0.3293035924434662, 0.32889246940612793, 0.329559862613678, 0.32909703254699707, 0.32924407720565796, 0.3287114202976227, 0.32902613282203674, 0.32889389991760254, 0.32915908098220825, 0.32897141575813293, 0.3289950489997864, 0.3290305435657501, 0.32913878560066223, 0.32906460762023926, 0.3291974663734436, 0.32930248975753784, 0.32901543378829956, 0.3288268744945526, 0.3292127251625061, 0.3289237320423126, 0.32932746410369873, 0.3288581073284149, 0.3288768529891968, 0.32903873920440674, 0.3286122679710388, 0.3288057744503021, 0.32894816994667053, 0.32894885540008545, 0.3286445140838623, 0.3288867473602295, 0.32890796661376953, 0.32860541343688965, 0.32876962423324585, 0.32861432433128357, 0.3291146755218506, 0.3286789655685425, 0.32868388295173645, 0.3287124037742615, 0.328671932220459, 0.3286444842815399, 0.3286820352077484, 0.3285931348800659, 0.3286491632461548, 0.3286229372024536, 0.32838305830955505, 0.32859382033348083, 0.3287106156349182, 0.3285985291004181, 0.32860425114631653, 0.32856979966163635, 0.3284860849380493, 0.32865458726882935, 0.3284913897514343, 0.32864758372306824, 0.3285087049007416, 0.32835111021995544, 0.3285224735736847, 0.32825273275375366, 0.3285035490989685, 0.3286837637424469, 0.32924675941467285, 0.3284817636013031, 0.32880374789237976, 0.3283960819244385, 0.32870569825172424, 0.32873108983039856, 0.3283260464668274, 0.328208863735199, 0.3283059298992157, 0.32824909687042236, 0.3283251225948334, 0.3282422423362732, 0.3282058537006378, 0.32827484607696533, 0.32839271426200867, 0.32851508259773254, 0.328063040971756, 0.32851293683052063, 0.32837381958961487, 0.3283122479915619, 0.32840242981910706, 0.32809513807296753, 0.3281013071537018, 0.3282659351825714, 0.3286396563053131, 0.3283092677593231, 0.3282173275947571, 0.3286442756652832, 0.3282546103000641, 0.32820090651512146, 0.3279319703578949, 0.3281398415565491, 0.32813167572021484, 0.32804128527641296, 0.3280680477619171, 0.3282632529735565, 0.328159898519516, 0.3280605375766754, 0.3281145691871643, 0.3285534679889679, 0.3284275531768799, 0.32796597480773926, 0.32846805453300476, 0.3278278112411499, 0.3282032907009125, 0.32813507318496704, 0.32834291458129883, 0.32794296741485596, 0.3279390335083008, 0.32778942584991455, 0.3280739486217499, 0.32869207859039307, 0.32756802439689636, 0.32803112268447876, 0.3280968964099884, 0.3280102610588074, 0.32787755131721497, 0.3284718096256256, 0.3277975022792816, 0.3279268443584442, 0.32843759655952454, 0.3282805383205414, 0.3278687298297882, 0.32799142599105835, 0.32793405652046204, 0.3279482424259186, 0.32774117588996887, 0.3277896046638489, 0.32825326919555664, 0.3283114433288574, 0.3278246223926544, 0.3281918168067932, 0.3280635178089142, 0.32777637243270874, 0.3280503451824188, 0.32806313037872314, 0.3276181221008301, 0.3278172016143799, 0.3276766240596771, 0.3279102146625519, 0.32765862345695496, 0.32756665349006653, 0.3277151584625244, 0.327619731426239, 0.3278488218784332, 0.32832565903663635, 0.32828909158706665, 0.32774919271469116, 0.3273782730102539, 0.3275235593318939, 0.3276342749595642, 0.32798221707344055, 0.3274751603603363, 0.3273589015007019, 0.32792285084724426, 0.3276039659976959, 0.32771846652030945, 0.3278648853302002, 0.3277891278266907, 0.3277023732662201, 0.32796406745910645, 0.3277052044868469, 0.32798606157302856, 0.3277135193347931, 0.3275153636932373, 0.3275858461856842, 0.3276689052581787, 0.3278818428516388, 0.32746973633766174, 0.3271884620189667, 0.32779014110565186, 0.327566921710968, 0.3277299106121063, 0.32754355669021606, 0.32771191000938416, 0.32797420024871826, 0.32764241099357605, 0.3277255594730377, 0.32770833373069763, 0.32760584354400635, 0.32757461071014404, 0.32751360535621643, 0.3276951313018799, 0.32758575677871704, 0.32771193981170654, 0.327419638633728, 0.3275620937347412, 0.327743798494339, 0.32708320021629333, 0.327405720949173, 0.3275656998157501, 0.32744452357292175, 0.3273259699344635, 0.3283930718898773, 0.32743024826049805, 0.32767510414123535, 0.3271813988685608, 0.3273002803325653, 0.32731714844703674, 0.32788699865341187, 0.3272692561149597, 0.32740235328674316, 0.3275509774684906, 0.3274751603603363, 0.3274230360984802, 0.3273482918739319, 0.3275695741176605, 0.32771652936935425, 0.32729434967041016, 0.32783758640289307, 0.32747259736061096, 0.3276413083076477, 0.3274913728237152, 0.32725775241851807, 0.3275904059410095, 0.3278225064277649, 0.3275874853134155, 0.32744696736335754, 0.3271850049495697]\n"
     ]
    },
    {
     "data": {
      "image/png": "[encoded data removed]",
      "text/plain": [
       "<Figure size 640x480 with 1 Axes>"
      ]
     },
     "metadata": {},
     "output_type": "display_data"
    }
   ],
   "source": [
    "import matplotlib.pyplot as plt\n",
    "print(history.history['accuracy'])\n",
    "print(history.history['loss'])\n",
    "plt.plot(history.history['accuracy'])\n",
    "plt.plot(history.history['loss'])\n",
    "plt.title('model accuracy')\n",
    "plt.ylabel('accuracy and loss')\n",
    "plt.xlabel('epoch')\n",
    "plt.legend(['accuracy', 'loss'], loc='best')\n",
    "plt.show()"
   ]
  },
  {
   "cell_type": "code",
   "execution_count": 25,
   "id": "0be7271f",
   "metadata": {},
   "outputs": [
    {
     "name": "stdout",
     "output_type": "stream",
     "text": [
      "250/250 [==============================] - 0s 698us/step - loss: 0.3269 - accuracy: 0.8645\n"
     ]
    },
    {
     "data": {
      "text/plain": [
       "[0.32685568928718567, 0.8644999861717224]"
      ]
     },
     "execution_count": 25,
     "metadata": {},
     "output_type": "execute_result"
    }
   ],
   "source": [
    "### Now we use the trained NNmodel to predict output in X_train sample\n",
    "NNmodel.evaluate(X_train,Y_train)  ### evaluates the loss and accuracy as specified in the Compiler"
   ]
  },
  {
   "cell_type": "code",
   "execution_count": 26,
   "id": "5ba646c9",
   "metadata": {},
   "outputs": [
    {
     "name": "stdout",
     "output_type": "stream",
     "text": [
      "250/250 [==============================] - 0s 647us/step\n"
     ]
    }
   ],
   "source": [
    "### Now we use the trained NNmodel to predict output in X_train sample -- computing manually via .predict\n",
    "TE=NNmodel.predict(X_train)  ### note X_train has 8000 data points"
   ]
  },
  {
   "cell_type": "code",
   "execution_count": 27,
   "id": "82ce3372",
   "metadata": {},
   "outputs": [
    {
     "data": {
      "text/plain": [
       "(8000, 1)"
      ]
     },
     "execution_count": 27,
     "metadata": {},
     "output_type": "execute_result"
    }
   ],
   "source": [
    "TE.shape"
   ]
  },
  {
   "cell_type": "code",
   "execution_count": 28,
   "id": "b21a584d",
   "metadata": {},
   "outputs": [],
   "source": [
    "h=(TE > 0.5).astype(int) ### Convert TE>0.5 == true ==> 1, False to 0"
   ]
  },
  {
   "cell_type": "code",
   "execution_count": 29,
   "id": "bb651f4c",
   "metadata": {},
   "outputs": [
    {
     "name": "stdout",
     "output_type": "stream",
     "text": [
      "[[0]\n",
      " [0]\n",
      " [1]\n",
      " ...\n",
      " [0]\n",
      " [0]\n",
      " [0]]\n"
     ]
    },
    {
     "data": {
      "text/plain": [
       "(8000, 1)"
      ]
     },
     "execution_count": 29,
     "metadata": {},
     "output_type": "execute_result"
    }
   ],
   "source": [
    "print(h)\n",
    "h.shape"
   ]
  },
  {
   "cell_type": "code",
   "execution_count": 30,
   "id": "4a697768",
   "metadata": {},
   "outputs": [],
   "source": [
    "### replace all elements in numpy array of value 0 with value -1\n",
    "h[h==0]=-1"
   ]
  },
  {
   "cell_type": "code",
   "execution_count": 31,
   "id": "c9d41502",
   "metadata": {},
   "outputs": [
    {
     "name": "stdout",
     "output_type": "stream",
     "text": [
      "[[-1]\n",
      " [-1]\n",
      " [ 1]\n",
      " ...\n",
      " [-1]\n",
      " [-1]\n",
      " [-1]]\n"
     ]
    },
    {
     "data": {
      "text/plain": [
       "(8000, 1)"
      ]
     },
     "execution_count": 31,
     "metadata": {},
     "output_type": "execute_result"
    }
   ],
   "source": [
    "print(h)\n",
    "h.shape"
   ]
  },
  {
   "cell_type": "code",
   "execution_count": 32,
   "id": "e8b950e7",
   "metadata": {},
   "outputs": [],
   "source": [
    "### replace all elements in numpy array of value 0 with value -1\n",
    "Y_train1=Y_train\n",
    "Y_train1[Y_train1==0]=-1"
   ]
  },
  {
   "cell_type": "code",
   "execution_count": 33,
   "id": "53b50eaa",
   "metadata": {},
   "outputs": [
    {
     "name": "stdout",
     "output_type": "stream",
     "text": [
      "[-1 -1  1 ...  1 -1  1]\n"
     ]
    }
   ],
   "source": [
    "print(Y_train1)"
   ]
  },
  {
   "cell_type": "code",
   "execution_count": 34,
   "id": "ec6af287",
   "metadata": {},
   "outputs": [
    {
     "data": {
      "text/plain": [
       "(8000,)"
      ]
     },
     "execution_count": 34,
     "metadata": {},
     "output_type": "execute_result"
    }
   ],
   "source": [
    "Y_train1.shape"
   ]
  },
  {
   "cell_type": "code",
   "execution_count": 35,
   "id": "fe3de8a9",
   "metadata": {},
   "outputs": [
    {
     "name": "stdout",
     "output_type": "stream",
     "text": [
      "6916 0.8645\n"
     ]
    }
   ],
   "source": [
    "J=np.multiply(Y_train1.T,h.T)  ### element by element multiplication.\n",
    "### Note Y_train1 1 vs fitted h 1 gives +1,Y_train1 -1 vs fitted h -1 gives +1; these are correct predictions\n",
    "###  but Y_train1 -1 vs fitted h 1 gives -1,Y_train1 -1 vs fitted h 1 gives -1; these are incorrect predictions\n",
    "c=np.count_nonzero(J > 0) \n",
    "print(c,c/8000)"
   ]
  },
  {
   "cell_type": "code",
   "execution_count": 36,
   "id": "4416dde4",
   "metadata": {},
   "outputs": [
    {
     "name": "stdout",
     "output_type": "stream",
     "text": [
      "63/63 [==============================] - 0s 805us/step - loss: 0.3279 - accuracy: 0.8675\n"
     ]
    },
    {
     "data": {
      "text/plain": [
       "[0.32790276408195496, 0.8675000071525574]"
      ]
     },
     "execution_count": 36,
     "metadata": {},
     "output_type": "execute_result"
    }
   ],
   "source": [
    "### Now we use the trained NNmodel to predict output in X_test sample\n",
    "NNmodel.evaluate(X_test,Y_test)  ### evaluates the loss and accuracy as specified in the Compiler"
   ]
  },
  {
   "cell_type": "code",
   "execution_count": 37,
   "id": "f34f4bcf",
   "metadata": {},
   "outputs": [
    {
     "name": "stdout",
     "output_type": "stream",
     "text": [
      "63/63 [==============================] - 0s 861us/step\n"
     ]
    }
   ],
   "source": [
    "### Now we use the trained NNmodel to predict output in X_test sample -- computing manually via .predict\n",
    "TE1=NNmodel.predict(X_test)  ### note X_test has 2000 data points"
   ]
  },
  {
   "cell_type": "code",
   "execution_count": 38,
   "id": "14712483",
   "metadata": {},
   "outputs": [
    {
     "name": "stdout",
     "output_type": "stream",
     "text": [
      "1735 0.8675\n"
     ]
    }
   ],
   "source": [
    "Y_test1 = np.copy(Y_test)\n",
    "\n",
    "h1=(TE1 > 0.5).astype(int) ### Convert TE1>0.5 == true ==> 1, False to 0\n",
    "h1[h1==0]=-1\n",
    "#Y_test1=Y_test strangely this turns Y_test into Y_test1 later, so we use copy on first line to avoid this\n",
    "Y_test1[Y_test1==0]=-1\n",
    "J1=np.multiply(Y_test1.T,h1.T)  ### element by element multiplication\n",
    "### Note Y_test1 1 vs fitted h 1 gives +1, Y_test1 -1 vs fitted h -1 gives +1; these are correct predictions\n",
    "###  but Y_train -1 vs fitted h 1 gives -1, Y_test1 -1 vs fitted h 1 gives -1; these are incorrect predictions\n",
    "c1=np.count_nonzero(J1 > 0) \n",
    "print(c1,c1/2000)"
   ]
  },
  {
   "cell_type": "code",
   "execution_count": 39,
   "id": "18c17b91",
   "metadata": {},
   "outputs": [
    {
     "name": "stdout",
     "output_type": "stream",
     "text": [
      "[0 0 0 ... 0 0 0]\n"
     ]
    }
   ],
   "source": [
    "print(Y_test) ### check that Y_test is not altered"
   ]
  },
  {
   "cell_type": "markdown",
   "id": "5f09fbbc",
   "metadata": {},
   "source": [
    "Predicting a new case - generalized data"
   ]
  },
  {
   "cell_type": "code",
   "execution_count": 40,
   "id": "5667ff07",
   "metadata": {},
   "outputs": [
    {
     "name": "stdout",
     "output_type": "stream",
     "text": [
      "[[-9.98501123e-01 -5.83123916e-01  1.74601919e+00 -3.24425289e-03\n",
      "   9.15090654e-01  2.01683866e+00 -1.04828130e+00  3.58411758e+00\n",
      "   8.02256955e-01  6.43760170e-01 -1.02327069e+00 -3.49886744e-01]]\n"
     ]
    }
   ],
   "source": [
    "### Now we use the trained weights and biases to try to predict based on a new case\n",
    "tr=sc.transform([[0, 0, 1, 650, 1, 60, 2, 300000, 2, 1, 0, 80000]])\n",
    "print(tr)  ### tr.shape is (1,12)"
   ]
  },
  {
   "cell_type": "code",
   "execution_count": 41,
   "id": "9c0874c4",
   "metadata": {},
   "outputs": [
    {
     "name": "stdout",
     "output_type": "stream",
     "text": [
      "1/1 [==============================] - 0s 16ms/step\n",
      "[[0.72948253]]\n"
     ]
    }
   ],
   "source": [
    "### Example\n",
    "### Predicting result for Single Observation\n",
    "print(NNmodel.predict(tr))\n",
    "### note in each recompute -- this no. will change slightly because of the random initiation of the weights unless we fix\n",
    "###  the keras random seed as in code line [1]"
   ]
  },
  {
   "cell_type": "code",
   "execution_count": 42,
   "id": "5da9e9a9",
   "metadata": {},
   "outputs": [],
   "source": [
    "## Since prob = 0.7295 (> 0.5) of Y=1, yes, prediction of exit within a year"
   ]
  },
  {
   "cell_type": "code",
   "execution_count": 43,
   "id": "3cae7cec",
   "metadata": {},
   "outputs": [],
   "source": [
    "tr1=[[0, 0, 1, 650, 1, 60, 2, 300000, 2, 1, 0, 80000]]"
   ]
  },
  {
   "cell_type": "code",
   "execution_count": 44,
   "id": "aea397bd",
   "metadata": {},
   "outputs": [
    {
     "name": "stdout",
     "output_type": "stream",
     "text": [
      "1/1 [==============================] - 0s 53ms/step\n",
      "[[0.0060353]]\n"
     ]
    }
   ],
   "source": [
    "print(NNmodel.predict(tr1)) \n",
    "### we get a contrasting wrong result if we do not standardize tr\n",
    "###  since the trained NN is based on standardized features"
   ]
  },
  {
   "cell_type": "markdown",
   "id": "75a436d3",
   "metadata": {},
   "source": [
    "Compute Confusion Matrix. Classification Report, and ROC AUC below"
   ]
  },
  {
   "cell_type": "code",
   "execution_count": 45,
   "id": "5768b210",
   "metadata": {},
   "outputs": [
    {
     "name": "stdout",
     "output_type": "stream",
     "text": [
      "[0.0397587  0.07301321 0.04221635 ... 0.01421291 0.04618154 0.5515203 ]\n"
     ]
    }
   ],
   "source": [
    "### recall TE1=NNmodel.predict(X_test)\n",
    "import numpy as np\n",
    "TEf = TE1.flatten() ### convert a 2D numpy array to 1D for input to sklearn\n",
    "print(TEf)"
   ]
  },
  {
   "cell_type": "code",
   "execution_count": 46,
   "id": "8c7969a2",
   "metadata": {},
   "outputs": [
    {
     "name": "stdout",
     "output_type": "stream",
     "text": [
      "[0 0 0 ... 0 0 1]\n"
     ]
    }
   ],
   "source": [
    "hTEf=(TEf > 0.5).astype(int) ### Convert TE1>0.5 == true ==> 1, False to 0\n",
    "print(hTEf)"
   ]
  },
  {
   "cell_type": "code",
   "execution_count": 47,
   "id": "a81f9c53",
   "metadata": {},
   "outputs": [
    {
     "name": "stdout",
     "output_type": "stream",
     "text": [
      "[[1535   50]\n",
      " [ 215  200]]\n"
     ]
    }
   ],
   "source": [
    "from sklearn.metrics import confusion_matrix\n",
    "confusion_matrix = confusion_matrix(Y_test, hTEf)\n",
    "print(confusion_matrix)"
   ]
  },
  {
   "cell_type": "code",
   "execution_count": 48,
   "id": "2d336d86",
   "metadata": {},
   "outputs": [
    {
     "name": "stdout",
     "output_type": "stream",
     "text": [
      "              precision    recall  f1-score   support\n",
      "\n",
      "           0       0.88      0.97      0.92      1585\n",
      "           1       0.80      0.48      0.60       415\n",
      "\n",
      "    accuracy                           0.87      2000\n",
      "   macro avg       0.84      0.73      0.76      2000\n",
      "weighted avg       0.86      0.87      0.85      2000\n",
      "\n"
     ]
    }
   ],
   "source": [
    "from sklearn.metrics import classification_report\n",
    "print(classification_report(Y_test, hTEf))"
   ]
  },
  {
   "cell_type": "code",
   "execution_count": 49,
   "id": "da276c15",
   "metadata": {},
   "outputs": [
    {
     "name": "stdout",
     "output_type": "stream",
     "text": [
      "[0.0397587  0.07301321 0.04221635 ... 0.01421291 0.04618154 0.5515203 ]\n"
     ]
    }
   ],
   "source": [
    "### rem in keras, TE1=NNmodel.predict(X_test) already gives the predicted probs, TEf is also probs\n",
    "print(TEf)"
   ]
  },
  {
   "cell_type": "code",
   "execution_count": 50,
   "id": "72cd1317",
   "metadata": {},
   "outputs": [
    {
     "data": {
      "text/plain": [
       "0.8747596062483372"
      ]
     },
     "execution_count": 50,
     "metadata": {},
     "output_type": "execute_result"
    }
   ],
   "source": [
    "import sklearn.metrics as metrics\n",
    "# calculate the fpr and tpr for all thresholds of the classification\n",
    "\n",
    "fpr, tpr, thresholds = metrics.roc_curve(Y_test, TEf)  \n",
    "    ### matches y_test of 1's and 0's versus pred prob of 1's for each of the 508 test cases\n",
    "    ###    sklearn.metrics.roc_curve(y_true, y_score,...) requires y_true as 0,1 input and y_score as prob inputs\n",
    "    ###    this metrics.roc_curve returns fpr, tpr, thresholds (Decreasing thresholds used to compute fpr and tpr)\n",
    "roc_auc_NN = metrics.auc(fpr, tpr)\n",
    "    ### sklearn.metrics.auc(fpr,tpr) returns AUC using trapezoidal rule\n",
    "roc_auc_NN"
   ]
  },
  {
   "cell_type": "code",
   "execution_count": 51,
   "id": "8b80a2e8",
   "metadata": {},
   "outputs": [
    {
     "data": {
      "image/png": "[encoded data removed]",
      "text/plain": [
       "<Figure size 640x480 with 1 Axes>"
      ]
     },
     "metadata": {},
     "output_type": "display_data"
    }
   ],
   "source": [
    "import matplotlib.pyplot as plt\n",
    "plt.title('Receiver Operating Characteristic')\n",
    "plt.plot(fpr, tpr, 'b', label = 'AUC = %0.2f' % roc_auc_NN)\n",
    "plt.legend(loc = 'lower right')\n",
    "plt.plot([0, 1], [0, 1],'r--')\n",
    "plt.xlim([0, 1])\n",
    "plt.ylim([0, 1])\n",
    "plt.ylabel('True Positive Rate')\n",
    "plt.xlabel('False Positive Rate')\n",
    "plt.show()"
   ]
  },
  {
   "cell_type": "code",
   "execution_count": null,
   "id": "cb328f91",
   "metadata": {},
   "outputs": [],
   "source": []
  }
 ],
 "metadata": {
  "kernelspec": {
   "display_name": "Python 3 (ipykernel)",
   "language": "python",
   "name": "python3"
  },
  "language_info": {
   "codemirror_mode": {
    "name": "ipython",
    "version": 3
   },
   "file_extension": ".py",
   "mimetype": "text/x-python",
   "name": "python",
   "nbconvert_exporter": "python",
   "pygments_lexer": "ipython3",
   "version": "3.9.13"
  }
 },
 "nbformat": 4,
 "nbformat_minor": 5
}
